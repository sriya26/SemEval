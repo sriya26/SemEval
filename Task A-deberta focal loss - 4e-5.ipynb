{
 "cells": [
  {
   "cell_type": "code",
   "execution_count": 1,
   "id": "b89c2d38",
   "metadata": {
    "execution": {
     "iopub.execute_input": "2023-01-18T10:56:29.505157Z",
     "iopub.status.busy": "2023-01-18T10:56:29.504476Z",
     "iopub.status.idle": "2023-01-18T10:57:04.009018Z",
     "shell.execute_reply": "2023-01-18T10:57:04.007792Z"
    },
    "id": "fVmVV2Xkdjwr",
    "outputId": "4f86b915-64d2-426d-85d8-8da0c4f09b99",
    "papermill": {
     "duration": 34.522086,
     "end_time": "2023-01-18T10:57:04.011789",
     "exception": false,
     "start_time": "2023-01-18T10:56:29.489703",
     "status": "completed"
    },
    "tags": []
   },
   "outputs": [
    {
     "name": "stdout",
     "output_type": "stream",
     "text": [
      "Collecting ktrain\r\n",
      "  Downloading ktrain-0.33.0.tar.gz (25.3 MB)\r\n",
      "\u001b[2K     \u001b[90m━━━━━━━━━━━━━━━━━━━━━━━━━━━━━━━━━━━━━━━━\u001b[0m \u001b[32m25.3/25.3 MB\u001b[0m \u001b[31m40.5 MB/s\u001b[0m eta \u001b[36m0:00:00\u001b[0m\r\n",
      "\u001b[?25h  Preparing metadata (setup.py) ... \u001b[?25l-\b \bdone\r\n",
      "\u001b[?25hRequirement already satisfied: scikit-learn in /opt/conda/lib/python3.7/site-packages (from ktrain) (1.0.2)\r\n",
      "Requirement already satisfied: matplotlib>=3.0.0 in /opt/conda/lib/python3.7/site-packages (from ktrain) (3.5.3)\r\n",
      "Requirement already satisfied: pandas>=1.0.1 in /opt/conda/lib/python3.7/site-packages (from ktrain) (1.3.5)\r\n",
      "Requirement already satisfied: fastprogress>=0.1.21 in /opt/conda/lib/python3.7/site-packages (from ktrain) (1.0.3)\r\n",
      "Requirement already satisfied: requests in /opt/conda/lib/python3.7/site-packages (from ktrain) (2.28.1)\r\n",
      "Requirement already satisfied: joblib in /opt/conda/lib/python3.7/site-packages (from ktrain) (1.0.1)\r\n",
      "Requirement already satisfied: packaging in /opt/conda/lib/python3.7/site-packages (from ktrain) (22.0)\r\n",
      "Collecting langdetect\r\n",
      "  Downloading langdetect-1.0.9.tar.gz (981 kB)\r\n",
      "\u001b[2K     \u001b[90m━━━━━━━━━━━━━━━━━━━━━━━━━━━━━━━━━━━━━━\u001b[0m \u001b[32m981.5/981.5 kB\u001b[0m \u001b[31m51.8 MB/s\u001b[0m eta \u001b[36m0:00:00\u001b[0m\r\n",
      "\u001b[?25h  Preparing metadata (setup.py) ... \u001b[?25l-\b \bdone\r\n",
      "\u001b[?25hRequirement already satisfied: jieba in /opt/conda/lib/python3.7/site-packages (from ktrain) (0.42.1)\r\n",
      "Collecting cchardet\r\n",
      "  Downloading cchardet-2.1.7-cp37-cp37m-manylinux2010_x86_64.whl (263 kB)\r\n",
      "\u001b[2K     \u001b[90m━━━━━━━━━━━━━━━━━━━━━━━━━━━━━━━━━━━━━━\u001b[0m \u001b[32m263.7/263.7 kB\u001b[0m \u001b[31m21.4 MB/s\u001b[0m eta \u001b[36m0:00:00\u001b[0m\r\n",
      "\u001b[?25hRequirement already satisfied: chardet in /opt/conda/lib/python3.7/site-packages (from ktrain) (5.0.0)\r\n",
      "Collecting syntok>1.3.3\r\n",
      "  Downloading syntok-1.4.4-py3-none-any.whl (24 kB)\r\n",
      "Requirement already satisfied: transformers>=4.17.0 in /opt/conda/lib/python3.7/site-packages (from ktrain) (4.20.1)\r\n",
      "Requirement already satisfied: sentencepiece in /opt/conda/lib/python3.7/site-packages (from ktrain) (0.1.97)\r\n",
      "Collecting keras_bert>=0.86.0\r\n",
      "  Downloading keras-bert-0.89.0.tar.gz (25 kB)\r\n",
      "  Preparing metadata (setup.py) ... \u001b[?25l-\b \bdone\r\n",
      "\u001b[?25hCollecting whoosh\r\n",
      "  Downloading Whoosh-2.7.4-py2.py3-none-any.whl (468 kB)\r\n",
      "\u001b[2K     \u001b[90m━━━━━━━━━━━━━━━━━━━━━━━━━━━━━━━━━━━━━━\u001b[0m \u001b[32m468.8/468.8 kB\u001b[0m \u001b[31m34.0 MB/s\u001b[0m eta \u001b[36m0:00:00\u001b[0m\r\n",
      "\u001b[?25hRequirement already satisfied: numpy in /opt/conda/lib/python3.7/site-packages (from keras_bert>=0.86.0->ktrain) (1.21.6)\r\n",
      "Collecting keras-transformer==0.40.0\r\n",
      "  Downloading keras-transformer-0.40.0.tar.gz (9.7 kB)\r\n",
      "  Preparing metadata (setup.py) ... \u001b[?25l-\b \bdone\r\n",
      "\u001b[?25hCollecting keras-pos-embd==0.13.0\r\n",
      "  Downloading keras-pos-embd-0.13.0.tar.gz (5.6 kB)\r\n",
      "  Preparing metadata (setup.py) ... \u001b[?25l-\b \bdone\r\n",
      "\u001b[?25hCollecting keras-multi-head==0.29.0\r\n",
      "  Downloading keras-multi-head-0.29.0.tar.gz (13 kB)\r\n",
      "  Preparing metadata (setup.py) ... \u001b[?25l-\b \bdone\r\n",
      "\u001b[?25hCollecting keras-layer-normalization==0.16.0\r\n",
      "  Downloading keras-layer-normalization-0.16.0.tar.gz (3.9 kB)\r\n",
      "  Preparing metadata (setup.py) ... \u001b[?25l-\b \bdone\r\n",
      "\u001b[?25hCollecting keras-position-wise-feed-forward==0.8.0\r\n",
      "  Downloading keras-position-wise-feed-forward-0.8.0.tar.gz (4.1 kB)\r\n",
      "  Preparing metadata (setup.py) ... \u001b[?25l-\b \bdone\r\n",
      "\u001b[?25hCollecting keras-embed-sim==0.10.0\r\n",
      "  Downloading keras-embed-sim-0.10.0.tar.gz (3.6 kB)\r\n",
      "  Preparing metadata (setup.py) ... \u001b[?25l-\b \bdone\r\n",
      "\u001b[?25hCollecting keras-self-attention==0.51.0\r\n",
      "  Downloading keras-self-attention-0.51.0.tar.gz (11 kB)\r\n",
      "  Preparing metadata (setup.py) ... \u001b[?25l-\b \bdone\r\n",
      "\u001b[?25hRequirement already satisfied: python-dateutil>=2.7 in /opt/conda/lib/python3.7/site-packages (from matplotlib>=3.0.0->ktrain) (2.8.2)\r\n",
      "Requirement already satisfied: pyparsing>=2.2.1 in /opt/conda/lib/python3.7/site-packages (from matplotlib>=3.0.0->ktrain) (3.0.9)\r\n",
      "Requirement already satisfied: kiwisolver>=1.0.1 in /opt/conda/lib/python3.7/site-packages (from matplotlib>=3.0.0->ktrain) (1.4.3)\r\n",
      "Requirement already satisfied: fonttools>=4.22.0 in /opt/conda/lib/python3.7/site-packages (from matplotlib>=3.0.0->ktrain) (4.33.3)\r\n",
      "Requirement already satisfied: pillow>=6.2.0 in /opt/conda/lib/python3.7/site-packages (from matplotlib>=3.0.0->ktrain) (9.1.1)\r\n",
      "Requirement already satisfied: cycler>=0.10 in /opt/conda/lib/python3.7/site-packages (from matplotlib>=3.0.0->ktrain) (0.11.0)\r\n",
      "Requirement already satisfied: pytz>=2017.3 in /opt/conda/lib/python3.7/site-packages (from pandas>=1.0.1->ktrain) (2022.1)\r\n",
      "Requirement already satisfied: regex>2016 in /opt/conda/lib/python3.7/site-packages (from syntok>1.3.3->ktrain) (2021.11.10)\r\n",
      "Requirement already satisfied: huggingface-hub<1.0,>=0.1.0 in /opt/conda/lib/python3.7/site-packages (from transformers>=4.17.0->ktrain) (0.10.1)\r\n",
      "Requirement already satisfied: tokenizers!=0.11.3,<0.13,>=0.11.1 in /opt/conda/lib/python3.7/site-packages (from transformers>=4.17.0->ktrain) (0.12.1)\r\n",
      "Requirement already satisfied: filelock in /opt/conda/lib/python3.7/site-packages (from transformers>=4.17.0->ktrain) (3.7.1)\r\n",
      "Requirement already satisfied: importlib-metadata in /opt/conda/lib/python3.7/site-packages (from transformers>=4.17.0->ktrain) (4.13.0)\r\n",
      "Requirement already satisfied: tqdm>=4.27 in /opt/conda/lib/python3.7/site-packages (from transformers>=4.17.0->ktrain) (4.64.0)\r\n",
      "Requirement already satisfied: pyyaml>=5.1 in /opt/conda/lib/python3.7/site-packages (from transformers>=4.17.0->ktrain) (6.0)\r\n",
      "Requirement already satisfied: six in /opt/conda/lib/python3.7/site-packages (from langdetect->ktrain) (1.15.0)\r\n",
      "Requirement already satisfied: idna<4,>=2.5 in /opt/conda/lib/python3.7/site-packages (from requests->ktrain) (3.3)\r\n",
      "Requirement already satisfied: charset-normalizer<3,>=2 in /opt/conda/lib/python3.7/site-packages (from requests->ktrain) (2.1.0)\r\n",
      "Requirement already satisfied: urllib3<1.27,>=1.21.1 in /opt/conda/lib/python3.7/site-packages (from requests->ktrain) (1.26.13)\r\n",
      "Requirement already satisfied: certifi>=2017.4.17 in /opt/conda/lib/python3.7/site-packages (from requests->ktrain) (2022.12.7)\r\n",
      "Requirement already satisfied: threadpoolctl>=2.0.0 in /opt/conda/lib/python3.7/site-packages (from scikit-learn->ktrain) (3.1.0)\r\n",
      "Requirement already satisfied: scipy>=1.1.0 in /opt/conda/lib/python3.7/site-packages (from scikit-learn->ktrain) (1.7.3)\r\n",
      "Requirement already satisfied: typing-extensions>=3.7.4.3 in /opt/conda/lib/python3.7/site-packages (from huggingface-hub<1.0,>=0.1.0->transformers>=4.17.0->ktrain) (4.1.1)\r\n",
      "Requirement already satisfied: zipp>=0.5 in /opt/conda/lib/python3.7/site-packages (from importlib-metadata->transformers>=4.17.0->ktrain) (3.8.0)\r\n",
      "Building wheels for collected packages: ktrain, keras_bert, keras-transformer, keras-embed-sim, keras-layer-normalization, keras-multi-head, keras-pos-embd, keras-position-wise-feed-forward, keras-self-attention, langdetect\r\n",
      "  Building wheel for ktrain (setup.py) ... \u001b[?25l-\b \b\\\b \b|\b \b/\b \b-\b \b\\\b \b|\b \bdone\r\n",
      "\u001b[?25h  Created wheel for ktrain: filename=ktrain-0.33.0-py3-none-any.whl size=25313832 sha256=fb8b627fa8e8c6b66391e6e77cc8202744231fa58002edefeff9ebcb9c3b4a7e\r\n",
      "  Stored in directory: /root/.cache/pip/wheels/cb/c2/1a/db7e1066fb4a94becc327ec359a493a8899089609d55698133\r\n",
      "  Building wheel for keras_bert (setup.py) ... \u001b[?25l-\b \b\\\b \bdone\r\n",
      "\u001b[?25h  Created wheel for keras_bert: filename=keras_bert-0.89.0-py3-none-any.whl size=33517 sha256=4bf645f7e0d60040a06eb8a3d1688d667f4c4b78e93912e62e17aaffdb91b6ae\r\n",
      "  Stored in directory: /root/.cache/pip/wheels/a4/e8/45/842b3a39831261aef9154b907eacbc4ac99499a99ae829b06f\r\n",
      "  Building wheel for keras-transformer (setup.py) ... \u001b[?25l-\b \b\\\b \bdone\r\n",
      "\u001b[?25h  Created wheel for keras-transformer: filename=keras_transformer-0.40.0-py3-none-any.whl size=12305 sha256=0287a61b85f8209e31fbfff6c3fad67b088ecaf766bfc3ef5c87165fc9208518\r\n",
      "  Stored in directory: /root/.cache/pip/wheels/46/68/26/692ed21edd832833c3b0a0e21615bcacd99ca458b3f9ed571f\r\n",
      "  Building wheel for keras-embed-sim (setup.py) ... \u001b[?25l-\b \b\\\b \bdone\r\n",
      "\u001b[?25h  Created wheel for keras-embed-sim: filename=keras_embed_sim-0.10.0-py3-none-any.whl size=3960 sha256=5ef90544fd7e7dc79056e18a7b9cd28ab6d4aeb044f84811d5ac835cd634e5ca\r\n",
      "  Stored in directory: /root/.cache/pip/wheels/81/67/b5/d847588d075895281e1cf5590f819bd4cf076a554872268bd5\r\n",
      "  Building wheel for keras-layer-normalization (setup.py) ... \u001b[?25l-\b \b\\\b \bdone\r\n",
      "\u001b[?25h  Created wheel for keras-layer-normalization: filename=keras_layer_normalization-0.16.0-py3-none-any.whl size=4668 sha256=72f52cc4401c0090f7d38b1c19bb58f6348e2c5c195b1a93143d3e9f2a616d4a\r\n",
      "  Stored in directory: /root/.cache/pip/wheels/85/5d/1c/2e619f594f69fbcf8bc20943b27d414871c409be053994813e\r\n",
      "  Building wheel for keras-multi-head (setup.py) ... \u001b[?25l-\b \b\\\b \bdone\r\n",
      "\u001b[?25h  Created wheel for keras-multi-head: filename=keras_multi_head-0.29.0-py3-none-any.whl size=14993 sha256=1554692a40a804e10ef813cd8e70312e0d19d3fea39f6aaaef6c713f05ea6574\r\n",
      "  Stored in directory: /root/.cache/pip/wheels/86/aa/3c/9d15d24005179dae08ff291ce99c754b296347817d076fd9fb\r\n",
      "  Building wheel for keras-pos-embd (setup.py) ... \u001b[?25l-\b \b\\\b \bdone\r\n",
      "\u001b[?25h  Created wheel for keras-pos-embd: filename=keras_pos_embd-0.13.0-py3-none-any.whl size=6962 sha256=7087f64d1cfaf9993870537aee94a82abfbdfbec2e04e8d03fa9b1138ad4a83a\r\n",
      "  Stored in directory: /root/.cache/pip/wheels/8d/c1/a0/dc44fcf68c857b7ff6be9a97e675e5adf51022eff1169b042f\r\n",
      "  Building wheel for keras-position-wise-feed-forward (setup.py) ... \u001b[?25l-\b \b\\\b \bdone\r\n",
      "\u001b[?25h  Created wheel for keras-position-wise-feed-forward: filename=keras_position_wise_feed_forward-0.8.0-py3-none-any.whl size=4983 sha256=9bd8125fa1314b2a3cff489f276716c7b3f01c08b64457c04b5aa9ebc9ef46e9\r\n",
      "  Stored in directory: /root/.cache/pip/wheels/c2/75/6f/d42f6e051506f442daeba53ff1e2d21a5f20ef8c411610f2bb\r\n",
      "  Building wheel for keras-self-attention (setup.py) ... \u001b[?25l-\b \b\\\b \bdone\r\n",
      "\u001b[?25h  Created wheel for keras-self-attention: filename=keras_self_attention-0.51.0-py3-none-any.whl size=18912 sha256=67c57dcb5c2f104e60bdadeb03661a576a05b24771a6bb9d891d40ba7b760cf1\r\n",
      "  Stored in directory: /root/.cache/pip/wheels/95/b1/a8/5ee00cc137940b2f6fa198212e8f45d813d0e0d9c3a04035a3\r\n",
      "  Building wheel for langdetect (setup.py) ... \u001b[?25l-\b \b\\\b \b|\b \b/\b \bdone\r\n",
      "\u001b[?25h  Created wheel for langdetect: filename=langdetect-1.0.9-py3-none-any.whl size=993242 sha256=b686e37da25dadbe808f29af1d4bf00eb72587b80f9b5f45095291d6c67417e2\r\n",
      "  Stored in directory: /root/.cache/pip/wheels/c5/96/8a/f90c59ed25d75e50a8c10a1b1c2d4c402e4dacfa87f3aff36a\r\n",
      "Successfully built ktrain keras_bert keras-transformer keras-embed-sim keras-layer-normalization keras-multi-head keras-pos-embd keras-position-wise-feed-forward keras-self-attention langdetect\r\n",
      "Installing collected packages: whoosh, cchardet, syntok, langdetect, keras-self-attention, keras-position-wise-feed-forward, keras-pos-embd, keras-layer-normalization, keras-embed-sim, keras-multi-head, keras-transformer, keras_bert, ktrain\r\n",
      "Successfully installed cchardet-2.1.7 keras-embed-sim-0.10.0 keras-layer-normalization-0.16.0 keras-multi-head-0.29.0 keras-pos-embd-0.13.0 keras-position-wise-feed-forward-0.8.0 keras-self-attention-0.51.0 keras-transformer-0.40.0 keras_bert-0.89.0 ktrain-0.33.0 langdetect-1.0.9 syntok-1.4.4 whoosh-2.7.4\r\n",
      "\u001b[33mWARNING: Running pip as the 'root' user can result in broken permissions and conflicting behaviour with the system package manager. It is recommended to use a virtual environment instead: https://pip.pypa.io/warnings/venv\u001b[0m\u001b[33m\r\n",
      "\u001b[0m"
     ]
    }
   ],
   "source": [
    "!pip3 install ktrain"
   ]
  },
  {
   "cell_type": "code",
   "execution_count": 2,
   "id": "3558bf88",
   "metadata": {
    "execution": {
     "iopub.execute_input": "2023-01-18T10:57:04.038008Z",
     "iopub.status.busy": "2023-01-18T10:57:04.037613Z",
     "iopub.status.idle": "2023-01-18T10:57:15.059906Z",
     "shell.execute_reply": "2023-01-18T10:57:15.058556Z"
    },
    "papermill": {
     "duration": 11.038351,
     "end_time": "2023-01-18T10:57:15.062472",
     "exception": false,
     "start_time": "2023-01-18T10:57:04.024121",
     "status": "completed"
    },
    "tags": []
   },
   "outputs": [
    {
     "name": "stdout",
     "output_type": "stream",
     "text": [
      "Requirement already satisfied: nltk in /opt/conda/lib/python3.7/site-packages (3.8.1)\r\n",
      "Requirement already satisfied: regex>=2021.8.3 in /opt/conda/lib/python3.7/site-packages (from nltk) (2021.11.10)\r\n",
      "Requirement already satisfied: joblib in /opt/conda/lib/python3.7/site-packages (from nltk) (1.0.1)\r\n",
      "Requirement already satisfied: tqdm in /opt/conda/lib/python3.7/site-packages (from nltk) (4.64.0)\r\n",
      "Requirement already satisfied: click in /opt/conda/lib/python3.7/site-packages (from nltk) (8.1.3)\r\n",
      "Requirement already satisfied: importlib-metadata in /opt/conda/lib/python3.7/site-packages (from click->nltk) (4.13.0)\r\n",
      "Requirement already satisfied: zipp>=0.5 in /opt/conda/lib/python3.7/site-packages (from importlib-metadata->click->nltk) (3.8.0)\r\n",
      "Requirement already satisfied: typing-extensions>=3.6.4 in /opt/conda/lib/python3.7/site-packages (from importlib-metadata->click->nltk) (4.1.1)\r\n",
      "\u001b[33mWARNING: Running pip as the 'root' user can result in broken permissions and conflicting behaviour with the system package manager. It is recommended to use a virtual environment instead: https://pip.pypa.io/warnings/venv\u001b[0m\u001b[33m\r\n",
      "\u001b[0m"
     ]
    }
   ],
   "source": [
    "!pip install nltk"
   ]
  },
  {
   "cell_type": "code",
   "execution_count": 3,
   "id": "3b5551c6",
   "metadata": {
    "execution": {
     "iopub.execute_input": "2023-01-18T10:57:15.089946Z",
     "iopub.status.busy": "2023-01-18T10:57:15.089614Z",
     "iopub.status.idle": "2023-01-18T10:57:23.738603Z",
     "shell.execute_reply": "2023-01-18T10:57:23.737250Z"
    },
    "id": "8ZY3fS7mdn_J",
    "papermill": {
     "duration": 8.665172,
     "end_time": "2023-01-18T10:57:23.741417",
     "exception": false,
     "start_time": "2023-01-18T10:57:15.076245",
     "status": "completed"
    },
    "tags": []
   },
   "outputs": [],
   "source": [
    "import pandas as pd\n",
    "import numpy as np\n",
    "\n",
    "import ktrain\n",
    "from ktrain import text\n",
    "import nltk"
   ]
  },
  {
   "cell_type": "code",
   "execution_count": 4,
   "id": "fc5354df",
   "metadata": {
    "execution": {
     "iopub.execute_input": "2023-01-18T10:57:23.768096Z",
     "iopub.status.busy": "2023-01-18T10:57:23.767145Z",
     "iopub.status.idle": "2023-01-18T10:57:30.493435Z",
     "shell.execute_reply": "2023-01-18T10:57:30.492422Z"
    },
    "papermill": {
     "duration": 6.742312,
     "end_time": "2023-01-18T10:57:30.495861",
     "exception": false,
     "start_time": "2023-01-18T10:57:23.753549",
     "status": "completed"
    },
    "tags": []
   },
   "outputs": [],
   "source": [
    "from torch.utils.data import TensorDataset,RandomSampler,SequentialSampler\n",
    "from torch.utils.data import Dataset, DataLoader\n",
    "import torch.nn.functional as F\n",
    "from sklearn.preprocessing import LabelBinarizer\n",
    "from nltk.corpus import stopwords\n",
    "from nltk.stem.porter import PorterStemmer\n",
    "from wordcloud import WordCloud,STOPWORDS\n",
    "from nltk.stem import WordNetLemmatizer\n",
    "from nltk.tokenize import word_tokenize,sent_tokenize\n",
    "from bs4 import BeautifulSoup\n",
    "import spacy\n",
    "import re,string,unicodedata"
   ]
  },
  {
   "cell_type": "code",
   "execution_count": 5,
   "id": "78e4fe65",
   "metadata": {
    "execution": {
     "iopub.execute_input": "2023-01-18T10:57:30.521756Z",
     "iopub.status.busy": "2023-01-18T10:57:30.521141Z",
     "iopub.status.idle": "2023-01-18T10:57:30.629676Z",
     "shell.execute_reply": "2023-01-18T10:57:30.628403Z"
    },
    "id": "be3Ojf5PA0C8",
    "papermill": {
     "duration": 0.124287,
     "end_time": "2023-01-18T10:57:30.632478",
     "exception": false,
     "start_time": "2023-01-18T10:57:30.508191",
     "status": "completed"
    },
    "tags": []
   },
   "outputs": [],
   "source": [
    "path = '/kaggle/input/d/sriyar26/sexism-dataset/train_all_tasks.csv'\n",
    "\n",
    "data_train = pd.read_csv(path)"
   ]
  },
  {
   "cell_type": "code",
   "execution_count": 6,
   "id": "f7915e4d",
   "metadata": {
    "execution": {
     "iopub.execute_input": "2023-01-18T10:57:30.657945Z",
     "iopub.status.busy": "2023-01-18T10:57:30.657578Z",
     "iopub.status.idle": "2023-01-18T10:57:30.689768Z",
     "shell.execute_reply": "2023-01-18T10:57:30.688540Z"
    },
    "id": "wQ4IKvYPA77F",
    "papermill": {
     "duration": 0.04782,
     "end_time": "2023-01-18T10:57:30.692291",
     "exception": false,
     "start_time": "2023-01-18T10:57:30.644471",
     "status": "completed"
    },
    "tags": []
   },
   "outputs": [],
   "source": [
    "path1 = '/kaggle/input/d/sriyar26/sexism-dataset/datasets/dev_task_a_entries.csv'\n",
    "\n",
    "data_test = pd.read_csv(path1)"
   ]
  },
  {
   "cell_type": "code",
   "execution_count": 7,
   "id": "2f1200d6",
   "metadata": {
    "execution": {
     "iopub.execute_input": "2023-01-18T10:57:30.718323Z",
     "iopub.status.busy": "2023-01-18T10:57:30.717911Z",
     "iopub.status.idle": "2023-01-18T10:57:30.741914Z",
     "shell.execute_reply": "2023-01-18T10:57:30.740906Z"
    },
    "id": "XOTularLAVLZ",
    "outputId": "5e1997db-36ad-4656-9ff7-3edf0ae87b66",
    "papermill": {
     "duration": 0.039196,
     "end_time": "2023-01-18T10:57:30.744092",
     "exception": false,
     "start_time": "2023-01-18T10:57:30.704896",
     "status": "completed"
    },
    "tags": []
   },
   "outputs": [
    {
     "data": {
      "text/html": [
       "<div>\n",
       "<style scoped>\n",
       "    .dataframe tbody tr th:only-of-type {\n",
       "        vertical-align: middle;\n",
       "    }\n",
       "\n",
       "    .dataframe tbody tr th {\n",
       "        vertical-align: top;\n",
       "    }\n",
       "\n",
       "    .dataframe thead th {\n",
       "        text-align: right;\n",
       "    }\n",
       "</style>\n",
       "<table border=\"1\" class=\"dataframe\">\n",
       "  <thead>\n",
       "    <tr style=\"text-align: right;\">\n",
       "      <th></th>\n",
       "      <th>rewire_id</th>\n",
       "      <th>text</th>\n",
       "      <th>label_sexist</th>\n",
       "      <th>label_category</th>\n",
       "      <th>label_vector</th>\n",
       "    </tr>\n",
       "  </thead>\n",
       "  <tbody>\n",
       "    <tr>\n",
       "      <th>0</th>\n",
       "      <td>sexism2022_english-7358</td>\n",
       "      <td>Damn, this writing was pretty chaotic</td>\n",
       "      <td>not sexist</td>\n",
       "      <td>none</td>\n",
       "      <td>none</td>\n",
       "    </tr>\n",
       "    <tr>\n",
       "      <th>1</th>\n",
       "      <td>sexism2022_english-2367</td>\n",
       "      <td>Yeah, and apparently a bunch of misogynistic v...</td>\n",
       "      <td>not sexist</td>\n",
       "      <td>none</td>\n",
       "      <td>none</td>\n",
       "    </tr>\n",
       "    <tr>\n",
       "      <th>2</th>\n",
       "      <td>sexism2022_english-3073</td>\n",
       "      <td>How the FUCK is this woman still an MP!!!???</td>\n",
       "      <td>not sexist</td>\n",
       "      <td>none</td>\n",
       "      <td>none</td>\n",
       "    </tr>\n",
       "    <tr>\n",
       "      <th>3</th>\n",
       "      <td>sexism2022_english-14895</td>\n",
       "      <td>Understand. Know you're right. At same time I ...</td>\n",
       "      <td>not sexist</td>\n",
       "      <td>none</td>\n",
       "      <td>none</td>\n",
       "    </tr>\n",
       "    <tr>\n",
       "      <th>4</th>\n",
       "      <td>sexism2022_english-4118</td>\n",
       "      <td>Surprized they didn't stop and rape some women</td>\n",
       "      <td>not sexist</td>\n",
       "      <td>none</td>\n",
       "      <td>none</td>\n",
       "    </tr>\n",
       "    <tr>\n",
       "      <th>...</th>\n",
       "      <td>...</td>\n",
       "      <td>...</td>\n",
       "      <td>...</td>\n",
       "      <td>...</td>\n",
       "      <td>...</td>\n",
       "    </tr>\n",
       "    <tr>\n",
       "      <th>13995</th>\n",
       "      <td>sexism2022_english-14185</td>\n",
       "      <td>complexes like the 'nice chicks' that go after...</td>\n",
       "      <td>sexist</td>\n",
       "      <td>2. derogation</td>\n",
       "      <td>2.1 descriptive attacks</td>\n",
       "    </tr>\n",
       "    <tr>\n",
       "      <th>13996</th>\n",
       "      <td>sexism2022_english-18629</td>\n",
       "      <td>\"GRAPHIC Germany - Muslim \"refugee\" stabbing h...</td>\n",
       "      <td>not sexist</td>\n",
       "      <td>none</td>\n",
       "      <td>none</td>\n",
       "    </tr>\n",
       "    <tr>\n",
       "      <th>13997</th>\n",
       "      <td>sexism2022_english-3320</td>\n",
       "      <td>Lol I imagine there would be simps that are li...</td>\n",
       "      <td>not sexist</td>\n",
       "      <td>none</td>\n",
       "      <td>none</td>\n",
       "    </tr>\n",
       "    <tr>\n",
       "      <th>13998</th>\n",
       "      <td>sexism2022_english-13309</td>\n",
       "      <td>It's not, the girls I go on dates with don't k...</td>\n",
       "      <td>not sexist</td>\n",
       "      <td>none</td>\n",
       "      <td>none</td>\n",
       "    </tr>\n",
       "    <tr>\n",
       "      <th>13999</th>\n",
       "      <td>sexism2022_english-12402</td>\n",
       "      <td>How can he be an incel? He does have a girlfri...</td>\n",
       "      <td>not sexist</td>\n",
       "      <td>none</td>\n",
       "      <td>none</td>\n",
       "    </tr>\n",
       "  </tbody>\n",
       "</table>\n",
       "<p>14000 rows × 5 columns</p>\n",
       "</div>"
      ],
      "text/plain": [
       "                      rewire_id  \\\n",
       "0       sexism2022_english-7358   \n",
       "1       sexism2022_english-2367   \n",
       "2       sexism2022_english-3073   \n",
       "3      sexism2022_english-14895   \n",
       "4       sexism2022_english-4118   \n",
       "...                         ...   \n",
       "13995  sexism2022_english-14185   \n",
       "13996  sexism2022_english-18629   \n",
       "13997   sexism2022_english-3320   \n",
       "13998  sexism2022_english-13309   \n",
       "13999  sexism2022_english-12402   \n",
       "\n",
       "                                                    text label_sexist  \\\n",
       "0                  Damn, this writing was pretty chaotic   not sexist   \n",
       "1      Yeah, and apparently a bunch of misogynistic v...   not sexist   \n",
       "2           How the FUCK is this woman still an MP!!!???   not sexist   \n",
       "3      Understand. Know you're right. At same time I ...   not sexist   \n",
       "4         Surprized they didn't stop and rape some women   not sexist   \n",
       "...                                                  ...          ...   \n",
       "13995  complexes like the 'nice chicks' that go after...       sexist   \n",
       "13996  \"GRAPHIC Germany - Muslim \"refugee\" stabbing h...   not sexist   \n",
       "13997  Lol I imagine there would be simps that are li...   not sexist   \n",
       "13998  It's not, the girls I go on dates with don't k...   not sexist   \n",
       "13999  How can he be an incel? He does have a girlfri...   not sexist   \n",
       "\n",
       "      label_category             label_vector  \n",
       "0               none                     none  \n",
       "1               none                     none  \n",
       "2               none                     none  \n",
       "3               none                     none  \n",
       "4               none                     none  \n",
       "...              ...                      ...  \n",
       "13995  2. derogation  2.1 descriptive attacks  \n",
       "13996           none                     none  \n",
       "13997           none                     none  \n",
       "13998           none                     none  \n",
       "13999           none                     none  \n",
       "\n",
       "[14000 rows x 5 columns]"
      ]
     },
     "execution_count": 7,
     "metadata": {},
     "output_type": "execute_result"
    }
   ],
   "source": [
    "data_train"
   ]
  },
  {
   "cell_type": "code",
   "execution_count": 8,
   "id": "bccadabd",
   "metadata": {
    "execution": {
     "iopub.execute_input": "2023-01-18T10:57:30.771232Z",
     "iopub.status.busy": "2023-01-18T10:57:30.770293Z",
     "iopub.status.idle": "2023-01-18T10:57:30.780450Z",
     "shell.execute_reply": "2023-01-18T10:57:30.779454Z"
    },
    "id": "QPcXo2IPBIM1",
    "outputId": "99d45bf7-7945-4996-edf8-e7c7641923d9",
    "papermill": {
     "duration": 0.025697,
     "end_time": "2023-01-18T10:57:30.782410",
     "exception": false,
     "start_time": "2023-01-18T10:57:30.756713",
     "status": "completed"
    },
    "tags": []
   },
   "outputs": [
    {
     "data": {
      "text/html": [
       "<div>\n",
       "<style scoped>\n",
       "    .dataframe tbody tr th:only-of-type {\n",
       "        vertical-align: middle;\n",
       "    }\n",
       "\n",
       "    .dataframe tbody tr th {\n",
       "        vertical-align: top;\n",
       "    }\n",
       "\n",
       "    .dataframe thead th {\n",
       "        text-align: right;\n",
       "    }\n",
       "</style>\n",
       "<table border=\"1\" class=\"dataframe\">\n",
       "  <thead>\n",
       "    <tr style=\"text-align: right;\">\n",
       "      <th></th>\n",
       "      <th>rewire_id</th>\n",
       "      <th>text</th>\n",
       "    </tr>\n",
       "  </thead>\n",
       "  <tbody>\n",
       "    <tr>\n",
       "      <th>0</th>\n",
       "      <td>sexism2022_english-11999</td>\n",
       "      <td>I do not try to hard. I do what guys who get w...</td>\n",
       "    </tr>\n",
       "    <tr>\n",
       "      <th>1</th>\n",
       "      <td>sexism2022_english-9895</td>\n",
       "      <td>That sucks. We elected a Navy Seal in Missouri...</td>\n",
       "    </tr>\n",
       "  </tbody>\n",
       "</table>\n",
       "</div>"
      ],
      "text/plain": [
       "                  rewire_id                                               text\n",
       "0  sexism2022_english-11999  I do not try to hard. I do what guys who get w...\n",
       "1   sexism2022_english-9895  That sucks. We elected a Navy Seal in Missouri..."
      ]
     },
     "execution_count": 8,
     "metadata": {},
     "output_type": "execute_result"
    }
   ],
   "source": [
    "data_test.head(2)"
   ]
  },
  {
   "cell_type": "code",
   "execution_count": 9,
   "id": "0afe7d0c",
   "metadata": {
    "execution": {
     "iopub.execute_input": "2023-01-18T10:57:30.810152Z",
     "iopub.status.busy": "2023-01-18T10:57:30.809254Z",
     "iopub.status.idle": "2023-01-18T10:57:30.823288Z",
     "shell.execute_reply": "2023-01-18T10:57:30.822247Z"
    },
    "id": "naJKnFOLB1oP",
    "outputId": "122f8634-9370-4bc8-a84a-368355017b52",
    "papermill": {
     "duration": 0.030235,
     "end_time": "2023-01-18T10:57:30.825401",
     "exception": false,
     "start_time": "2023-01-18T10:57:30.795166",
     "status": "completed"
    },
    "tags": []
   },
   "outputs": [
    {
     "data": {
      "text/plain": [
       "not sexist    10602\n",
       "sexist         3398\n",
       "Name: label_sexist, dtype: int64"
      ]
     },
     "execution_count": 9,
     "metadata": {},
     "output_type": "execute_result"
    }
   ],
   "source": [
    "data_train['label_sexist'].value_counts()"
   ]
  },
  {
   "cell_type": "code",
   "execution_count": 10,
   "id": "ada06d4f",
   "metadata": {
    "execution": {
     "iopub.execute_input": "2023-01-18T10:57:30.855522Z",
     "iopub.status.busy": "2023-01-18T10:57:30.854439Z",
     "iopub.status.idle": "2023-01-18T10:57:30.860145Z",
     "shell.execute_reply": "2023-01-18T10:57:30.859059Z"
    },
    "id": "8GCcqvYSBOAA",
    "papermill": {
     "duration": 0.023503,
     "end_time": "2023-01-18T10:57:30.862375",
     "exception": false,
     "start_time": "2023-01-18T10:57:30.838872",
     "status": "completed"
    },
    "tags": []
   },
   "outputs": [],
   "source": [
    "classes = ['sexist', 'not sexist']\n"
   ]
  },
  {
   "cell_type": "code",
   "execution_count": 11,
   "id": "8395bea6",
   "metadata": {
    "execution": {
     "iopub.execute_input": "2023-01-18T10:57:30.891460Z",
     "iopub.status.busy": "2023-01-18T10:57:30.890458Z",
     "iopub.status.idle": "2023-01-18T10:57:30.898022Z",
     "shell.execute_reply": "2023-01-18T10:57:30.896836Z"
    },
    "id": "IQbq6lgV41O-",
    "outputId": "035045ea-a36b-4c85-a7d1-266c3c7f89c3",
    "papermill": {
     "duration": 0.024635,
     "end_time": "2023-01-18T10:57:30.900361",
     "exception": false,
     "start_time": "2023-01-18T10:57:30.875726",
     "status": "completed"
    },
    "tags": []
   },
   "outputs": [],
   "source": [
    "import re\n",
    "def clean_text(text):\n",
    "\n",
    "    text = re.sub(r\"@[A-Za-z0-9]+\", ' ', text)\n",
    "    text = re.sub(r\"https?://[A-Za-z0-9./]+\", ' ', text)\n",
    "    text = re.sub(r\"[^a-zA-z.!?'0-9]\", ' ', text)\n",
    "    text = re.sub('\\t', ' ',  text)\n",
    "    text = re.sub(r\" +\", ' ', text)\n",
    "    text=re.sub(r'[^\\w\\s]','',text)\n",
    "    text=text.replace(\"[URL]\",\"\")\n",
    "    text=text.replace(\"[USER]\",\"\")\n",
    "    text=re.sub(r\"[â€™ºðŸ‡˜Žµ±¤£‘Œ”œ]\",\"\",text)\n",
    "    return text"
   ]
  },
  {
   "cell_type": "code",
   "execution_count": 12,
   "id": "d0fffed5",
   "metadata": {
    "execution": {
     "iopub.execute_input": "2023-01-18T10:57:30.929129Z",
     "iopub.status.busy": "2023-01-18T10:57:30.928053Z",
     "iopub.status.idle": "2023-01-18T10:57:31.246183Z",
     "shell.execute_reply": "2023-01-18T10:57:31.245108Z"
    },
    "papermill": {
     "duration": 0.335554,
     "end_time": "2023-01-18T10:57:31.248918",
     "exception": false,
     "start_time": "2023-01-18T10:57:30.913364",
     "status": "completed"
    },
    "tags": []
   },
   "outputs": [],
   "source": [
    "data_train['text']= data_train['text'].apply(clean_text)"
   ]
  },
  {
   "cell_type": "code",
   "execution_count": 13,
   "id": "b90d4d89",
   "metadata": {
    "execution": {
     "iopub.execute_input": "2023-01-18T10:57:31.276036Z",
     "iopub.status.busy": "2023-01-18T10:57:31.275129Z",
     "iopub.status.idle": "2023-01-18T10:57:31.280920Z",
     "shell.execute_reply": "2023-01-18T10:57:31.279987Z"
    },
    "papermill": {
     "duration": 0.021601,
     "end_time": "2023-01-18T10:57:31.283248",
     "exception": false,
     "start_time": "2023-01-18T10:57:31.261647",
     "status": "completed"
    },
    "tags": []
   },
   "outputs": [],
   "source": [
    "#Removing the square brackets\n",
    "def remove_between_square_brackets(text):\n",
    "    return re.sub('\\[[^]]*\\]', '', text)\n",
    "\n",
    "#Removing the noisy text\n",
    "def denoise_text(text):\n",
    "    \n",
    "    text = remove_between_square_brackets(text)\n",
    "    return text"
   ]
  },
  {
   "cell_type": "code",
   "execution_count": 14,
   "id": "5e3a92ee",
   "metadata": {
    "execution": {
     "iopub.execute_input": "2023-01-18T10:57:31.308730Z",
     "iopub.status.busy": "2023-01-18T10:57:31.308430Z",
     "iopub.status.idle": "2023-01-18T10:57:31.332620Z",
     "shell.execute_reply": "2023-01-18T10:57:31.331733Z"
    },
    "papermill": {
     "duration": 0.039223,
     "end_time": "2023-01-18T10:57:31.334731",
     "exception": false,
     "start_time": "2023-01-18T10:57:31.295508",
     "status": "completed"
    },
    "tags": []
   },
   "outputs": [],
   "source": [
    "data_train['text']=data_train['text'].apply(denoise_text)"
   ]
  },
  {
   "cell_type": "code",
   "execution_count": 15,
   "id": "e05062a6",
   "metadata": {
    "execution": {
     "iopub.execute_input": "2023-01-18T10:57:31.361608Z",
     "iopub.status.busy": "2023-01-18T10:57:31.360128Z",
     "iopub.status.idle": "2023-01-18T10:57:31.365928Z",
     "shell.execute_reply": "2023-01-18T10:57:31.365098Z"
    },
    "id": "evlAhO9ZCcLj",
    "papermill": {
     "duration": 0.020947,
     "end_time": "2023-01-18T10:57:31.367872",
     "exception": false,
     "start_time": "2023-01-18T10:57:31.346925",
     "status": "completed"
    },
    "tags": []
   },
   "outputs": [],
   "source": [
    "from sklearn.model_selection import train_test_split\n",
    "X=data_train.text.tolist()\n",
    "y=data_train.label_sexist.tolist()"
   ]
  },
  {
   "cell_type": "code",
   "execution_count": 16,
   "id": "66a546ee",
   "metadata": {
    "execution": {
     "iopub.execute_input": "2023-01-18T10:57:31.395218Z",
     "iopub.status.busy": "2023-01-18T10:57:31.394294Z",
     "iopub.status.idle": "2023-01-18T10:57:31.404590Z",
     "shell.execute_reply": "2023-01-18T10:57:31.403618Z"
    },
    "papermill": {
     "duration": 0.026011,
     "end_time": "2023-01-18T10:57:31.406829",
     "exception": false,
     "start_time": "2023-01-18T10:57:31.380818",
     "status": "completed"
    },
    "tags": []
   },
   "outputs": [],
   "source": [
    "X_train, X_test, y_train, y_test = train_test_split(X, y, test_size=0.2, random_state=42)"
   ]
  },
  {
   "cell_type": "code",
   "execution_count": 17,
   "id": "41d078f2",
   "metadata": {
    "execution": {
     "iopub.execute_input": "2023-01-18T10:57:31.435521Z",
     "iopub.status.busy": "2023-01-18T10:57:31.433952Z",
     "iopub.status.idle": "2023-01-18T10:57:31.441103Z",
     "shell.execute_reply": "2023-01-18T10:57:31.440141Z"
    },
    "id": "DFDArVKNBRqT",
    "papermill": {
     "duration": 0.023374,
     "end_time": "2023-01-18T10:57:31.443263",
     "exception": false,
     "start_time": "2023-01-18T10:57:31.419889",
     "status": "completed"
    },
    "tags": []
   },
   "outputs": [],
   "source": [
    "encoding = {\n",
    "    'sexist': 0,\n",
    "    'not sexist': 1\n",
    "}\n",
    "\n",
    "# Integer values for each class\n",
    "y_train = [encoding[x] for x in y_train]\n",
    "y_test = [encoding[x] for x in y_test]"
   ]
  },
  {
   "cell_type": "code",
   "execution_count": 18,
   "id": "4799324e",
   "metadata": {
    "execution": {
     "iopub.execute_input": "2023-01-18T10:57:31.470648Z",
     "iopub.status.busy": "2023-01-18T10:57:31.470286Z",
     "iopub.status.idle": "2023-01-18T10:57:31.479428Z",
     "shell.execute_reply": "2023-01-18T10:57:31.478460Z"
    },
    "papermill": {
     "duration": 0.025329,
     "end_time": "2023-01-18T10:57:31.481630",
     "exception": false,
     "start_time": "2023-01-18T10:57:31.456301",
     "status": "completed"
    },
    "tags": []
   },
   "outputs": [],
   "source": [
    "import tensorflow as tf\n",
    "from tensorflow.keras import activations\n",
    "def focal_loss(gamma=2., alpha=4., from_logits=False):\n",
    "\n",
    "    gamma = float(gamma)\n",
    "    alpha = float(alpha)\n",
    "\n",
    "    def focal_loss_fixed(y_true, y_pred):\n",
    "        \"\"\"Focal loss for multi-classification\n",
    "        FL(p_t)=-alpha(1-p_t)^{gamma}ln(p_t)\n",
    "        Notice: y_pred is probability after softmax if from_logits is False.\n",
    "        gradient is d(Fl)/d(p_t) not d(Fl)/d(x) as described in paper\n",
    "        d(Fl)/d(p_t) * [p_t(1-p_t)] = d(Fl)/d(x)\n",
    "        Focal Loss for Dense Object Detection\n",
    "        https://arxiv.org/abs/1708.02002\n",
    "\n",
    "        Arguments:\n",
    "            y_true {tensor} -- ground truth labels, shape of [batch_size, num_cls]\n",
    "            y_pred {tensor} -- model's output, shape of [batch_size, num_cls]\n",
    "\n",
    "        Keyword Arguments:\n",
    "            gamma {float} -- (default: {2.0})\n",
    "            alpha {float} -- (default: {4.0})\n",
    "\n",
    "        Returns:\n",
    "            [tensor] -- loss.\n",
    "        \"\"\"\n",
    "        epsilon = 1.e-9\n",
    "        y_true = tf.cast(y_true, dtype=tf.float32)\n",
    "        y_pred = tf.cast(y_pred, dtype=tf.float32)\n",
    "        if from_logits:\n",
    "            y_pred = activations.softmax(y_pred)\n",
    "\n",
    "        model_out = tf.add(y_pred, epsilon)\n",
    "        ce = tf.multiply(y_true, -tf.math.log(model_out))\n",
    "        weight = tf.multiply(y_true, tf.pow(tf.subtract(1., model_out), gamma))\n",
    "        fl = tf.multiply(alpha, tf.multiply(weight, ce))\n",
    "        reduced_fl = tf.reduce_max(fl, axis=1)\n",
    "        return tf.reduce_mean(reduced_fl)\n",
    "    return focal_loss_fixed"
   ]
  },
  {
   "cell_type": "code",
   "execution_count": 19,
   "id": "ef452bfc",
   "metadata": {
    "execution": {
     "iopub.execute_input": "2023-01-18T10:57:31.510451Z",
     "iopub.status.busy": "2023-01-18T10:57:31.508774Z",
     "iopub.status.idle": "2023-01-18T10:58:29.934580Z",
     "shell.execute_reply": "2023-01-18T10:58:29.933452Z"
    },
    "id": "w86Dvlh94771",
    "outputId": "046d3ae7-c38a-475b-ee0c-567ccf941275",
    "papermill": {
     "duration": 58.442611,
     "end_time": "2023-01-18T10:58:29.937257",
     "exception": false,
     "start_time": "2023-01-18T10:57:31.494646",
     "status": "completed"
    },
    "tags": []
   },
   "outputs": [
    {
     "data": {
      "application/vnd.jupyter.widget-view+json": {
       "model_id": "1806b8bc146b467fb49a27e641289ab8",
       "version_major": 2,
       "version_minor": 0
      },
      "text/plain": [
       "Downloading:   0%|          | 0.00/579 [00:00<?, ?B/s]"
      ]
     },
     "metadata": {},
     "output_type": "display_data"
    },
    {
     "data": {
      "application/vnd.jupyter.widget-view+json": {
       "model_id": "e45bc0c27e034d96b2098500ed84b241",
       "version_major": 2,
       "version_minor": 0
      },
      "text/plain": [
       "Downloading:   0%|          | 0.00/702M [00:00<?, ?B/s]"
      ]
     },
     "metadata": {},
     "output_type": "display_data"
    },
    {
     "name": "stdout",
     "output_type": "stream",
     "text": [
      "preprocessing train...\n",
      "language: en\n",
      "train sequence lengths:\n",
      "\tmean : 23\n",
      "\t95percentile : 43\n",
      "\t99percentile : 48\n"
     ]
    },
    {
     "data": {
      "application/vnd.jupyter.widget-view+json": {
       "model_id": "f4513592059d4c23a1a7a5c3eee2e791",
       "version_major": 2,
       "version_minor": 0
      },
      "text/plain": [
       "Downloading:   0%|          | 0.00/52.0 [00:00<?, ?B/s]"
      ]
     },
     "metadata": {},
     "output_type": "display_data"
    },
    {
     "data": {
      "application/vnd.jupyter.widget-view+json": {
       "model_id": "8b673f4a7e5446698e19d35723031c06",
       "version_major": 2,
       "version_minor": 0
      },
      "text/plain": [
       "Downloading:   0%|          | 0.00/2.35M [00:00<?, ?B/s]"
      ]
     },
     "metadata": {},
     "output_type": "display_data"
    },
    {
     "name": "stderr",
     "output_type": "stream",
     "text": [
      "/opt/conda/lib/python3.7/site-packages/transformers/convert_slow_tokenizer.py:435: UserWarning: The sentencepiece tokenizer that you are converting to a fast tokenizer uses the byte fallback option which is not implemented in the fast tokenizers. In practice this means that the fast version of the tokenizer can produce unknown tokens whereas the sentencepiece version would have converted these unknown tokens into a sequence of byte tokens matching the original piece of text.\n",
      "  \"The sentencepiece tokenizer that you are converting to a fast tokenizer uses the byte fallback option\"\n"
     ]
    },
    {
     "data": {
      "text/html": [
       "\n",
       "<style>\n",
       "    /* Turns off some styling */\n",
       "    progress {\n",
       "        /* gets rid of default border in Firefox and Opera. */\n",
       "        border: none;\n",
       "        /* Needs to be in here for Safari polyfill so background images work as expected. */\n",
       "        background-size: auto;\n",
       "    }\n",
       "    progress:not([value]), progress:not([value])::-webkit-progress-bar {\n",
       "        background: repeating-linear-gradient(45deg, #7e7e7e, #7e7e7e 10px, #5c5c5c 10px, #5c5c5c 20px);\n",
       "    }\n",
       "    .progress-bar-interrupted, .progress-bar-interrupted::-webkit-progress-bar {\n",
       "        background: #F44336;\n",
       "    }\n",
       "</style>\n"
      ],
      "text/plain": [
       "<IPython.core.display.HTML object>"
      ]
     },
     "metadata": {},
     "output_type": "display_data"
    },
    {
     "data": {
      "text/html": [],
      "text/plain": [
       "<IPython.core.display.HTML object>"
      ]
     },
     "metadata": {},
     "output_type": "display_data"
    },
    {
     "name": "stdout",
     "output_type": "stream",
     "text": [
      "Is Multi-Label? False\n",
      "preprocessing test...\n",
      "language: en\n",
      "test sequence lengths:\n",
      "\tmean : 24\n",
      "\t95percentile : 44\n",
      "\t99percentile : 48\n"
     ]
    },
    {
     "data": {
      "text/html": [
       "\n",
       "<style>\n",
       "    /* Turns off some styling */\n",
       "    progress {\n",
       "        /* gets rid of default border in Firefox and Opera. */\n",
       "        border: none;\n",
       "        /* Needs to be in here for Safari polyfill so background images work as expected. */\n",
       "        background-size: auto;\n",
       "    }\n",
       "    progress:not([value]), progress:not([value])::-webkit-progress-bar {\n",
       "        background: repeating-linear-gradient(45deg, #7e7e7e, #7e7e7e 10px, #5c5c5c 10px, #5c5c5c 20px);\n",
       "    }\n",
       "    .progress-bar-interrupted, .progress-bar-interrupted::-webkit-progress-bar {\n",
       "        background: #F44336;\n",
       "    }\n",
       "</style>\n"
      ],
      "text/plain": [
       "<IPython.core.display.HTML object>"
      ]
     },
     "metadata": {},
     "output_type": "display_data"
    },
    {
     "data": {
      "text/html": [],
      "text/plain": [
       "<IPython.core.display.HTML object>"
      ]
     },
     "metadata": {},
     "output_type": "display_data"
    }
   ],
   "source": [
    "from ktrain import text\n",
    "BATCH_SIZE = 6\n",
    "MODEL_NAME = 'microsoft/deberta-v3-base'\n",
    "\n",
    "t = text.Transformer(MODEL_NAME, maxlen=500, class_names=[0, 1])\n",
    "trn = t.preprocess_train(X_train, y_train)\n",
    "val = t.preprocess_test(X_test, y_test)\n",
    "\n",
    "model = t.get_classifier()"
   ]
  },
  {
   "cell_type": "code",
   "execution_count": 20,
   "id": "a50cb5ed",
   "metadata": {
    "execution": {
     "iopub.execute_input": "2023-01-18T10:58:29.967426Z",
     "iopub.status.busy": "2023-01-18T10:58:29.966532Z",
     "iopub.status.idle": "2023-01-18T10:58:29.977182Z",
     "shell.execute_reply": "2023-01-18T10:58:29.976294Z"
    },
    "papermill": {
     "duration": 0.027892,
     "end_time": "2023-01-18T10:58:29.979617",
     "exception": false,
     "start_time": "2023-01-18T10:58:29.951725",
     "status": "completed"
    },
    "tags": []
   },
   "outputs": [],
   "source": [
    "model.compile(loss=focal_loss(alpha=1, from_logits=True),optimizer='adam',metrics=['accuracy'])"
   ]
  },
  {
   "cell_type": "code",
   "execution_count": 21,
   "id": "6f9d4842",
   "metadata": {
    "execution": {
     "iopub.execute_input": "2023-01-18T10:58:30.007668Z",
     "iopub.status.busy": "2023-01-18T10:58:30.007119Z",
     "iopub.status.idle": "2023-01-18T10:58:31.914488Z",
     "shell.execute_reply": "2023-01-18T10:58:31.913088Z"
    },
    "id": "4rkjeyzkBklM",
    "papermill": {
     "duration": 1.926017,
     "end_time": "2023-01-18T10:58:31.918824",
     "exception": false,
     "start_time": "2023-01-18T10:58:29.992807",
     "status": "completed"
    },
    "tags": []
   },
   "outputs": [],
   "source": [
    "learner = ktrain.get_learner(model, train_data=trn, val_data=val, batch_size=BATCH_SIZE)"
   ]
  },
  {
   "cell_type": "code",
   "execution_count": 22,
   "id": "8ee64c93",
   "metadata": {
    "execution": {
     "iopub.execute_input": "2023-01-18T10:58:31.998272Z",
     "iopub.status.busy": "2023-01-18T10:58:31.997462Z",
     "iopub.status.idle": "2023-01-18T15:19:53.170423Z",
     "shell.execute_reply": "2023-01-18T15:19:53.169244Z"
    },
    "id": "KWKDKb6YBtuv",
    "outputId": "2c177514-56bc-460c-ae4d-48c58c109abf",
    "papermill": {
     "duration": 15681.21539,
     "end_time": "2023-01-18T15:19:53.172759",
     "exception": false,
     "start_time": "2023-01-18T10:58:31.957369",
     "status": "completed"
    },
    "tags": []
   },
   "outputs": [
    {
     "name": "stdout",
     "output_type": "stream",
     "text": [
      "\n",
      "\n",
      "begin training using onecycle policy with max lr of 2e-05...\n",
      "Epoch 1/6\n",
      "1867/1867 [==============================] - 2669s 1s/step - loss: 0.1147 - accuracy: 0.8033 - val_loss: 0.0952 - val_accuracy: 0.8468\n",
      "Epoch 2/6\n",
      "1867/1867 [==============================] - 2601s 1s/step - loss: 0.0788 - accuracy: 0.8785 - val_loss: 0.0925 - val_accuracy: 0.8550\n",
      "Epoch 3/6\n",
      "1867/1867 [==============================] - 2598s 1s/step - loss: 0.0633 - accuracy: 0.9038 - val_loss: 0.1128 - val_accuracy: 0.8461\n",
      "Epoch 4/6\n",
      "1867/1867 [==============================] - 2603s 1s/step - loss: 0.0412 - accuracy: 0.9430 - val_loss: 0.1179 - val_accuracy: 0.8671\n",
      "Epoch 5/6\n",
      "1867/1867 [==============================] - 2603s 1s/step - loss: 0.0164 - accuracy: 0.9787 - val_loss: 0.1807 - val_accuracy: 0.8646\n",
      "Epoch 6/6\n",
      "1867/1867 [==============================] - 2602s 1s/step - loss: 0.0047 - accuracy: 0.9946 - val_loss: 0.2690 - val_accuracy: 0.8639\n"
     ]
    },
    {
     "data": {
      "text/plain": [
       "<keras.callbacks.History at 0x7f9214251dd0>"
      ]
     },
     "execution_count": 22,
     "metadata": {},
     "output_type": "execute_result"
    }
   ],
   "source": [
    "learner.fit_onecycle(4e-5, 6) #use hardware acceleartor while running this cell"
   ]
  },
  {
   "cell_type": "code",
   "execution_count": 23,
   "id": "ca913a45",
   "metadata": {
    "execution": {
     "iopub.execute_input": "2023-01-18T15:19:54.736870Z",
     "iopub.status.busy": "2023-01-18T15:19:54.736311Z",
     "iopub.status.idle": "2023-01-18T15:20:26.583601Z",
     "shell.execute_reply": "2023-01-18T15:20:26.582603Z"
    },
    "papermill": {
     "duration": 33.438518,
     "end_time": "2023-01-18T15:20:27.375948",
     "exception": false,
     "start_time": "2023-01-18T15:19:53.937430",
     "status": "completed"
    },
    "tags": []
   },
   "outputs": [
    {
     "name": "stdout",
     "output_type": "stream",
     "text": [
      "              precision    recall  f1-score   support\n",
      "\n",
      "      sexist       0.75      0.69      0.72       704\n",
      "  not sexist       0.90      0.92      0.91      2096\n",
      "\n",
      "    accuracy                           0.86      2800\n",
      "   macro avg       0.82      0.81      0.81      2800\n",
      "weighted avg       0.86      0.86      0.86      2800\n",
      "\n"
     ]
    },
    {
     "data": {
      "text/plain": [
       "array([[ 487,  217],\n",
       "       [ 164, 1932]])"
      ]
     },
     "execution_count": 23,
     "metadata": {},
     "output_type": "execute_result"
    }
   ],
   "source": [
    "learner.validate(class_names=classes)"
   ]
  },
  {
   "cell_type": "code",
   "execution_count": 24,
   "id": "f550ddae",
   "metadata": {
    "execution": {
     "iopub.execute_input": "2023-01-18T15:20:28.725375Z",
     "iopub.status.busy": "2023-01-18T15:20:28.724701Z",
     "iopub.status.idle": "2023-01-18T15:20:28.730565Z",
     "shell.execute_reply": "2023-01-18T15:20:28.729463Z"
    },
    "id": "vBsFvVLnhg12",
    "outputId": "72e437f9-db83-475d-9cdb-6acb844c1062",
    "papermill": {
     "duration": 0.632457,
     "end_time": "2023-01-18T15:20:28.732715",
     "exception": false,
     "start_time": "2023-01-18T15:20:28.100258",
     "status": "completed"
    },
    "tags": []
   },
   "outputs": [],
   "source": [
    "x_valid=data_test[\"text\"]"
   ]
  },
  {
   "cell_type": "code",
   "execution_count": 25,
   "id": "49c8924a",
   "metadata": {
    "execution": {
     "iopub.execute_input": "2023-01-18T15:20:29.998282Z",
     "iopub.status.busy": "2023-01-18T15:20:29.997902Z",
     "iopub.status.idle": "2023-01-18T15:20:30.002392Z",
     "shell.execute_reply": "2023-01-18T15:20:30.001397Z"
    },
    "id": "7TJXfnwjB_4T",
    "outputId": "bed9a01b-7105-4d59-ea70-3e7b9919d730",
    "papermill": {
     "duration": 0.640944,
     "end_time": "2023-01-18T15:20:30.004459",
     "exception": false,
     "start_time": "2023-01-18T15:20:29.363515",
     "status": "completed"
    },
    "tags": []
   },
   "outputs": [],
   "source": [
    "from unicodedata import normalize\n"
   ]
  },
  {
   "cell_type": "code",
   "execution_count": 26,
   "id": "7beb7dbf",
   "metadata": {
    "execution": {
     "iopub.execute_input": "2023-01-18T15:20:31.323509Z",
     "iopub.status.busy": "2023-01-18T15:20:31.322950Z",
     "iopub.status.idle": "2023-01-18T15:20:31.328631Z",
     "shell.execute_reply": "2023-01-18T15:20:31.327456Z"
    },
    "id": "5luBNCxY4Y4d",
    "papermill": {
     "duration": 0.626269,
     "end_time": "2023-01-18T15:20:31.330889",
     "exception": false,
     "start_time": "2023-01-18T15:20:30.704620",
     "status": "completed"
    },
    "tags": []
   },
   "outputs": [],
   "source": [
    "df = pd.DataFrame()"
   ]
  },
  {
   "cell_type": "code",
   "execution_count": 27,
   "id": "5c7222f5",
   "metadata": {
    "execution": {
     "iopub.execute_input": "2023-01-18T15:20:32.656999Z",
     "iopub.status.busy": "2023-01-18T15:20:32.656508Z",
     "iopub.status.idle": "2023-01-18T15:20:32.664311Z",
     "shell.execute_reply": "2023-01-18T15:20:32.663271Z"
    },
    "papermill": {
     "duration": 0.722943,
     "end_time": "2023-01-18T15:20:32.668910",
     "exception": false,
     "start_time": "2023-01-18T15:20:31.945967",
     "status": "completed"
    },
    "tags": []
   },
   "outputs": [
    {
     "data": {
      "text/plain": [
       "[0, 1]"
      ]
     },
     "execution_count": 27,
     "metadata": {},
     "output_type": "execute_result"
    }
   ],
   "source": [
    "predictor = ktrain.get_predictor(learner.model, preproc=t)\n",
    "predictor.get_classes()"
   ]
  },
  {
   "cell_type": "code",
   "execution_count": 28,
   "id": "093d51cd",
   "metadata": {
    "execution": {
     "iopub.execute_input": "2023-01-18T15:20:33.921653Z",
     "iopub.status.busy": "2023-01-18T15:20:33.921248Z",
     "iopub.status.idle": "2023-01-18T15:25:23.645620Z",
     "shell.execute_reply": "2023-01-18T15:25:23.644502Z"
    },
    "id": "zpSywvtF5MiB",
    "papermill": {
     "duration": 290.349587,
     "end_time": "2023-01-18T15:25:23.648176",
     "exception": false,
     "start_time": "2023-01-18T15:20:33.298589",
     "status": "completed"
    },
    "tags": []
   },
   "outputs": [],
   "source": [
    "preds=[]\n",
    "for entry in x_valid:\n",
    "  normalize('NFKD', entry).encode('ascii','ignore')\n",
    "  preds.append(predictor.predict(entry))"
   ]
  },
  {
   "cell_type": "code",
   "execution_count": 29,
   "id": "d57393c4",
   "metadata": {
    "execution": {
     "iopub.execute_input": "2023-01-18T15:25:25.186322Z",
     "iopub.status.busy": "2023-01-18T15:25:25.185942Z",
     "iopub.status.idle": "2023-01-18T15:25:25.191377Z",
     "shell.execute_reply": "2023-01-18T15:25:25.190342Z"
    },
    "id": "Yx3QuV_pBXs1",
    "papermill": {
     "duration": 0.732917,
     "end_time": "2023-01-18T15:25:25.193878",
     "exception": false,
     "start_time": "2023-01-18T15:25:24.460961",
     "status": "completed"
    },
    "tags": []
   },
   "outputs": [],
   "source": [
    "preds = ['sexist' if element == 0 else 'not sexist' for element in preds]"
   ]
  },
  {
   "cell_type": "code",
   "execution_count": 30,
   "id": "565c6bb1",
   "metadata": {
    "execution": {
     "iopub.execute_input": "2023-01-18T15:25:26.455937Z",
     "iopub.status.busy": "2023-01-18T15:25:26.455535Z",
     "iopub.status.idle": "2023-01-18T15:25:26.462138Z",
     "shell.execute_reply": "2023-01-18T15:25:26.460430Z"
    },
    "id": "A6H5Cyze_50b",
    "papermill": {
     "duration": 0.646799,
     "end_time": "2023-01-18T15:25:26.464024",
     "exception": false,
     "start_time": "2023-01-18T15:25:25.817225",
     "status": "completed"
    },
    "tags": []
   },
   "outputs": [],
   "source": [
    "submission=pd.DataFrame({\n",
    "    \"rewire_id\":data_test['rewire_id'],\n",
    "    \"label_pred\":preds\n",
    "})"
   ]
  },
  {
   "cell_type": "code",
   "execution_count": 31,
   "id": "3911b4dd",
   "metadata": {
    "execution": {
     "iopub.execute_input": "2023-01-18T15:25:27.766842Z",
     "iopub.status.busy": "2023-01-18T15:25:27.766303Z",
     "iopub.status.idle": "2023-01-18T15:25:27.780769Z",
     "shell.execute_reply": "2023-01-18T15:25:27.779881Z"
    },
    "id": "6GvRmYW5DINo",
    "papermill": {
     "duration": 0.628829,
     "end_time": "2023-01-18T15:25:27.782900",
     "exception": false,
     "start_time": "2023-01-18T15:25:27.154071",
     "status": "completed"
    },
    "tags": []
   },
   "outputs": [],
   "source": [
    "submission.to_csv('DevAdebertav3focal.csv',index=False)"
   ]
  },
  {
   "cell_type": "code",
   "execution_count": 32,
   "id": "8ae15798",
   "metadata": {
    "execution": {
     "iopub.execute_input": "2023-01-18T15:25:29.041897Z",
     "iopub.status.busy": "2023-01-18T15:25:29.041453Z",
     "iopub.status.idle": "2023-01-18T15:25:29.046122Z",
     "shell.execute_reply": "2023-01-18T15:25:29.045006Z"
    },
    "id": "Tj5VU4v4a4Nw",
    "outputId": "0cdaa44f-6c87-42ac-ad48-2152daf75d99",
    "papermill": {
     "duration": 0.635748,
     "end_time": "2023-01-18T15:25:29.048196",
     "exception": false,
     "start_time": "2023-01-18T15:25:28.412448",
     "status": "completed"
    },
    "tags": []
   },
   "outputs": [],
   "source": [
    "#prediction = predictor.predict(message)\n",
    "\n",
    "#print('Emotion predicted: {} '.format(prediction))"
   ]
  }
 ],
 "metadata": {
  "kernelspec": {
   "display_name": "Python 3",
   "language": "python",
   "name": "python3"
  },
  "language_info": {
   "codemirror_mode": {
    "name": "ipython",
    "version": 3
   },
   "file_extension": ".py",
   "mimetype": "text/x-python",
   "name": "python",
   "nbconvert_exporter": "python",
   "pygments_lexer": "ipython3",
   "version": "3.7.12"
  },
  "papermill": {
   "default_parameters": {},
   "duration": 16152.352578,
   "end_time": "2023-01-18T15:25:33.003432",
   "environment_variables": {},
   "exception": null,
   "input_path": "__notebook__.ipynb",
   "output_path": "__notebook__.ipynb",
   "parameters": {},
   "start_time": "2023-01-18T10:56:20.650854",
   "version": "2.3.4"
  },
  "widgets": {
   "application/vnd.jupyter.widget-state+json": {
    "state": {
     "042b67070a314d02a36b3848be1ed37c": {
      "model_module": "@jupyter-widgets/base",
      "model_module_version": "1.2.0",
      "model_name": "LayoutModel",
      "state": {
       "_model_module": "@jupyter-widgets/base",
       "_model_module_version": "1.2.0",
       "_model_name": "LayoutModel",
       "_view_count": null,
       "_view_module": "@jupyter-widgets/base",
       "_view_module_version": "1.2.0",
       "_view_name": "LayoutView",
       "align_content": null,
       "align_items": null,
       "align_self": null,
       "border": null,
       "bottom": null,
       "display": null,
       "flex": null,
       "flex_flow": null,
       "grid_area": null,
       "grid_auto_columns": null,
       "grid_auto_flow": null,
       "grid_auto_rows": null,
       "grid_column": null,
       "grid_gap": null,
       "grid_row": null,
       "grid_template_areas": null,
       "grid_template_columns": null,
       "grid_template_rows": null,
       "height": null,
       "justify_content": null,
       "justify_items": null,
       "left": null,
       "margin": null,
       "max_height": null,
       "max_width": null,
       "min_height": null,
       "min_width": null,
       "object_fit": null,
       "object_position": null,
       "order": null,
       "overflow": null,
       "overflow_x": null,
       "overflow_y": null,
       "padding": null,
       "right": null,
       "top": null,
       "visibility": null,
       "width": null
      }
     },
     "05685c219ae444a3a4428a42f3fb4ff9": {
      "model_module": "@jupyter-widgets/base",
      "model_module_version": "1.2.0",
      "model_name": "LayoutModel",
      "state": {
       "_model_module": "@jupyter-widgets/base",
       "_model_module_version": "1.2.0",
       "_model_name": "LayoutModel",
       "_view_count": null,
       "_view_module": "@jupyter-widgets/base",
       "_view_module_version": "1.2.0",
       "_view_name": "LayoutView",
       "align_content": null,
       "align_items": null,
       "align_self": null,
       "border": null,
       "bottom": null,
       "display": null,
       "flex": null,
       "flex_flow": null,
       "grid_area": null,
       "grid_auto_columns": null,
       "grid_auto_flow": null,
       "grid_auto_rows": null,
       "grid_column": null,
       "grid_gap": null,
       "grid_row": null,
       "grid_template_areas": null,
       "grid_template_columns": null,
       "grid_template_rows": null,
       "height": null,
       "justify_content": null,
       "justify_items": null,
       "left": null,
       "margin": null,
       "max_height": null,
       "max_width": null,
       "min_height": null,
       "min_width": null,
       "object_fit": null,
       "object_position": null,
       "order": null,
       "overflow": null,
       "overflow_x": null,
       "overflow_y": null,
       "padding": null,
       "right": null,
       "top": null,
       "visibility": null,
       "width": null
      }
     },
     "0685ea9f3fe14d8b9b308786c9b2b8bd": {
      "model_module": "@jupyter-widgets/controls",
      "model_module_version": "1.5.0",
      "model_name": "DescriptionStyleModel",
      "state": {
       "_model_module": "@jupyter-widgets/controls",
       "_model_module_version": "1.5.0",
       "_model_name": "DescriptionStyleModel",
       "_view_count": null,
       "_view_module": "@jupyter-widgets/base",
       "_view_module_version": "1.2.0",
       "_view_name": "StyleView",
       "description_width": ""
      }
     },
     "0be36f4e94c34b6ab0f266d8cae4b6bb": {
      "model_module": "@jupyter-widgets/controls",
      "model_module_version": "1.5.0",
      "model_name": "FloatProgressModel",
      "state": {
       "_dom_classes": [],
       "_model_module": "@jupyter-widgets/controls",
       "_model_module_version": "1.5.0",
       "_model_name": "FloatProgressModel",
       "_view_count": null,
       "_view_module": "@jupyter-widgets/controls",
       "_view_module_version": "1.5.0",
       "_view_name": "ProgressView",
       "bar_style": "success",
       "description": "",
       "description_tooltip": null,
       "layout": "IPY_MODEL_042b67070a314d02a36b3848be1ed37c",
       "max": 52,
       "min": 0,
       "orientation": "horizontal",
       "style": "IPY_MODEL_3351c29a0ebf494c862e05492c99bdd3",
       "value": 52
      }
     },
     "127ec1270a9a45a8bb5a4edd252fb618": {
      "model_module": "@jupyter-widgets/base",
      "model_module_version": "1.2.0",
      "model_name": "LayoutModel",
      "state": {
       "_model_module": "@jupyter-widgets/base",
       "_model_module_version": "1.2.0",
       "_model_name": "LayoutModel",
       "_view_count": null,
       "_view_module": "@jupyter-widgets/base",
       "_view_module_version": "1.2.0",
       "_view_name": "LayoutView",
       "align_content": null,
       "align_items": null,
       "align_self": null,
       "border": null,
       "bottom": null,
       "display": null,
       "flex": null,
       "flex_flow": null,
       "grid_area": null,
       "grid_auto_columns": null,
       "grid_auto_flow": null,
       "grid_auto_rows": null,
       "grid_column": null,
       "grid_gap": null,
       "grid_row": null,
       "grid_template_areas": null,
       "grid_template_columns": null,
       "grid_template_rows": null,
       "height": null,
       "justify_content": null,
       "justify_items": null,
       "left": null,
       "margin": null,
       "max_height": null,
       "max_width": null,
       "min_height": null,
       "min_width": null,
       "object_fit": null,
       "object_position": null,
       "order": null,
       "overflow": null,
       "overflow_x": null,
       "overflow_y": null,
       "padding": null,
       "right": null,
       "top": null,
       "visibility": null,
       "width": null
      }
     },
     "16858b84b72c46cc85dbb45a3bb959f3": {
      "model_module": "@jupyter-widgets/controls",
      "model_module_version": "1.5.0",
      "model_name": "DescriptionStyleModel",
      "state": {
       "_model_module": "@jupyter-widgets/controls",
       "_model_module_version": "1.5.0",
       "_model_name": "DescriptionStyleModel",
       "_view_count": null,
       "_view_module": "@jupyter-widgets/base",
       "_view_module_version": "1.2.0",
       "_view_name": "StyleView",
       "description_width": ""
      }
     },
     "1806b8bc146b467fb49a27e641289ab8": {
      "model_module": "@jupyter-widgets/controls",
      "model_module_version": "1.5.0",
      "model_name": "HBoxModel",
      "state": {
       "_dom_classes": [],
       "_model_module": "@jupyter-widgets/controls",
       "_model_module_version": "1.5.0",
       "_model_name": "HBoxModel",
       "_view_count": null,
       "_view_module": "@jupyter-widgets/controls",
       "_view_module_version": "1.5.0",
       "_view_name": "HBoxView",
       "box_style": "",
       "children": [
        "IPY_MODEL_7f4ef7444d47422f9ad4c4501e211684",
        "IPY_MODEL_2ce3f3e1d480435cb80ee13ea1753dfe",
        "IPY_MODEL_3c1e50000a8d421db85e35e0cf1f6473"
       ],
       "layout": "IPY_MODEL_1d463c4cfdfc41a9a7e2803cea8d9723"
      }
     },
     "1d463c4cfdfc41a9a7e2803cea8d9723": {
      "model_module": "@jupyter-widgets/base",
      "model_module_version": "1.2.0",
      "model_name": "LayoutModel",
      "state": {
       "_model_module": "@jupyter-widgets/base",
       "_model_module_version": "1.2.0",
       "_model_name": "LayoutModel",
       "_view_count": null,
       "_view_module": "@jupyter-widgets/base",
       "_view_module_version": "1.2.0",
       "_view_name": "LayoutView",
       "align_content": null,
       "align_items": null,
       "align_self": null,
       "border": null,
       "bottom": null,
       "display": null,
       "flex": null,
       "flex_flow": null,
       "grid_area": null,
       "grid_auto_columns": null,
       "grid_auto_flow": null,
       "grid_auto_rows": null,
       "grid_column": null,
       "grid_gap": null,
       "grid_row": null,
       "grid_template_areas": null,
       "grid_template_columns": null,
       "grid_template_rows": null,
       "height": null,
       "justify_content": null,
       "justify_items": null,
       "left": null,
       "margin": null,
       "max_height": null,
       "max_width": null,
       "min_height": null,
       "min_width": null,
       "object_fit": null,
       "object_position": null,
       "order": null,
       "overflow": null,
       "overflow_x": null,
       "overflow_y": null,
       "padding": null,
       "right": null,
       "top": null,
       "visibility": null,
       "width": null
      }
     },
     "201bc023f4294c469660ed158ab9fb03": {
      "model_module": "@jupyter-widgets/controls",
      "model_module_version": "1.5.0",
      "model_name": "ProgressStyleModel",
      "state": {
       "_model_module": "@jupyter-widgets/controls",
       "_model_module_version": "1.5.0",
       "_model_name": "ProgressStyleModel",
       "_view_count": null,
       "_view_module": "@jupyter-widgets/base",
       "_view_module_version": "1.2.0",
       "_view_name": "StyleView",
       "bar_color": null,
       "description_width": ""
      }
     },
     "217a979e8871410ca7dfece251d57ebb": {
      "model_module": "@jupyter-widgets/controls",
      "model_module_version": "1.5.0",
      "model_name": "HTMLModel",
      "state": {
       "_dom_classes": [],
       "_model_module": "@jupyter-widgets/controls",
       "_model_module_version": "1.5.0",
       "_model_name": "HTMLModel",
       "_view_count": null,
       "_view_module": "@jupyter-widgets/controls",
       "_view_module_version": "1.5.0",
       "_view_name": "HTMLView",
       "description": "",
       "description_tooltip": null,
       "layout": "IPY_MODEL_05685c219ae444a3a4428a42f3fb4ff9",
       "placeholder": "​",
       "style": "IPY_MODEL_a2f2adf4ffa9415bb64e9c3aebf98ba3",
       "value": "Downloading: 100%"
      }
     },
     "21f38734623241179477e7dffcaa6eb3": {
      "model_module": "@jupyter-widgets/base",
      "model_module_version": "1.2.0",
      "model_name": "LayoutModel",
      "state": {
       "_model_module": "@jupyter-widgets/base",
       "_model_module_version": "1.2.0",
       "_model_name": "LayoutModel",
       "_view_count": null,
       "_view_module": "@jupyter-widgets/base",
       "_view_module_version": "1.2.0",
       "_view_name": "LayoutView",
       "align_content": null,
       "align_items": null,
       "align_self": null,
       "border": null,
       "bottom": null,
       "display": null,
       "flex": null,
       "flex_flow": null,
       "grid_area": null,
       "grid_auto_columns": null,
       "grid_auto_flow": null,
       "grid_auto_rows": null,
       "grid_column": null,
       "grid_gap": null,
       "grid_row": null,
       "grid_template_areas": null,
       "grid_template_columns": null,
       "grid_template_rows": null,
       "height": null,
       "justify_content": null,
       "justify_items": null,
       "left": null,
       "margin": null,
       "max_height": null,
       "max_width": null,
       "min_height": null,
       "min_width": null,
       "object_fit": null,
       "object_position": null,
       "order": null,
       "overflow": null,
       "overflow_x": null,
       "overflow_y": null,
       "padding": null,
       "right": null,
       "top": null,
       "visibility": null,
       "width": null
      }
     },
     "24755857cbca4c84883e318da6a2190f": {
      "model_module": "@jupyter-widgets/base",
      "model_module_version": "1.2.0",
      "model_name": "LayoutModel",
      "state": {
       "_model_module": "@jupyter-widgets/base",
       "_model_module_version": "1.2.0",
       "_model_name": "LayoutModel",
       "_view_count": null,
       "_view_module": "@jupyter-widgets/base",
       "_view_module_version": "1.2.0",
       "_view_name": "LayoutView",
       "align_content": null,
       "align_items": null,
       "align_self": null,
       "border": null,
       "bottom": null,
       "display": null,
       "flex": null,
       "flex_flow": null,
       "grid_area": null,
       "grid_auto_columns": null,
       "grid_auto_flow": null,
       "grid_auto_rows": null,
       "grid_column": null,
       "grid_gap": null,
       "grid_row": null,
       "grid_template_areas": null,
       "grid_template_columns": null,
       "grid_template_rows": null,
       "height": null,
       "justify_content": null,
       "justify_items": null,
       "left": null,
       "margin": null,
       "max_height": null,
       "max_width": null,
       "min_height": null,
       "min_width": null,
       "object_fit": null,
       "object_position": null,
       "order": null,
       "overflow": null,
       "overflow_x": null,
       "overflow_y": null,
       "padding": null,
       "right": null,
       "top": null,
       "visibility": null,
       "width": null
      }
     },
     "2a1020d6d10b4abd86feb243cffef861": {
      "model_module": "@jupyter-widgets/controls",
      "model_module_version": "1.5.0",
      "model_name": "DescriptionStyleModel",
      "state": {
       "_model_module": "@jupyter-widgets/controls",
       "_model_module_version": "1.5.0",
       "_model_name": "DescriptionStyleModel",
       "_view_count": null,
       "_view_module": "@jupyter-widgets/base",
       "_view_module_version": "1.2.0",
       "_view_name": "StyleView",
       "description_width": ""
      }
     },
     "2ce3f3e1d480435cb80ee13ea1753dfe": {
      "model_module": "@jupyter-widgets/controls",
      "model_module_version": "1.5.0",
      "model_name": "FloatProgressModel",
      "state": {
       "_dom_classes": [],
       "_model_module": "@jupyter-widgets/controls",
       "_model_module_version": "1.5.0",
       "_model_name": "FloatProgressModel",
       "_view_count": null,
       "_view_module": "@jupyter-widgets/controls",
       "_view_module_version": "1.5.0",
       "_view_name": "ProgressView",
       "bar_style": "success",
       "description": "",
       "description_tooltip": null,
       "layout": "IPY_MODEL_883be3b21037439fa680758d85918841",
       "max": 579,
       "min": 0,
       "orientation": "horizontal",
       "style": "IPY_MODEL_b0c976ff692943119906200831333752",
       "value": 579
      }
     },
     "3351c29a0ebf494c862e05492c99bdd3": {
      "model_module": "@jupyter-widgets/controls",
      "model_module_version": "1.5.0",
      "model_name": "ProgressStyleModel",
      "state": {
       "_model_module": "@jupyter-widgets/controls",
       "_model_module_version": "1.5.0",
       "_model_name": "ProgressStyleModel",
       "_view_count": null,
       "_view_module": "@jupyter-widgets/base",
       "_view_module_version": "1.2.0",
       "_view_name": "StyleView",
       "bar_color": null,
       "description_width": ""
      }
     },
     "3a7b58700c0c4d73b99b80193caf0642": {
      "model_module": "@jupyter-widgets/base",
      "model_module_version": "1.2.0",
      "model_name": "LayoutModel",
      "state": {
       "_model_module": "@jupyter-widgets/base",
       "_model_module_version": "1.2.0",
       "_model_name": "LayoutModel",
       "_view_count": null,
       "_view_module": "@jupyter-widgets/base",
       "_view_module_version": "1.2.0",
       "_view_name": "LayoutView",
       "align_content": null,
       "align_items": null,
       "align_self": null,
       "border": null,
       "bottom": null,
       "display": null,
       "flex": null,
       "flex_flow": null,
       "grid_area": null,
       "grid_auto_columns": null,
       "grid_auto_flow": null,
       "grid_auto_rows": null,
       "grid_column": null,
       "grid_gap": null,
       "grid_row": null,
       "grid_template_areas": null,
       "grid_template_columns": null,
       "grid_template_rows": null,
       "height": null,
       "justify_content": null,
       "justify_items": null,
       "left": null,
       "margin": null,
       "max_height": null,
       "max_width": null,
       "min_height": null,
       "min_width": null,
       "object_fit": null,
       "object_position": null,
       "order": null,
       "overflow": null,
       "overflow_x": null,
       "overflow_y": null,
       "padding": null,
       "right": null,
       "top": null,
       "visibility": null,
       "width": null
      }
     },
     "3c1e50000a8d421db85e35e0cf1f6473": {
      "model_module": "@jupyter-widgets/controls",
      "model_module_version": "1.5.0",
      "model_name": "HTMLModel",
      "state": {
       "_dom_classes": [],
       "_model_module": "@jupyter-widgets/controls",
       "_model_module_version": "1.5.0",
       "_model_name": "HTMLModel",
       "_view_count": null,
       "_view_module": "@jupyter-widgets/controls",
       "_view_module_version": "1.5.0",
       "_view_name": "HTMLView",
       "description": "",
       "description_tooltip": null,
       "layout": "IPY_MODEL_9bcc72be258646d1ae74b490f527edab",
       "placeholder": "​",
       "style": "IPY_MODEL_f7d6582c76c94951a7ccd09e124b06ca",
       "value": " 579/579 [00:00&lt;00:00, 20.4kB/s]"
      }
     },
     "607cf5fee0e640a29526ddcd6fbf90cf": {
      "model_module": "@jupyter-widgets/base",
      "model_module_version": "1.2.0",
      "model_name": "LayoutModel",
      "state": {
       "_model_module": "@jupyter-widgets/base",
       "_model_module_version": "1.2.0",
       "_model_name": "LayoutModel",
       "_view_count": null,
       "_view_module": "@jupyter-widgets/base",
       "_view_module_version": "1.2.0",
       "_view_name": "LayoutView",
       "align_content": null,
       "align_items": null,
       "align_self": null,
       "border": null,
       "bottom": null,
       "display": null,
       "flex": null,
       "flex_flow": null,
       "grid_area": null,
       "grid_auto_columns": null,
       "grid_auto_flow": null,
       "grid_auto_rows": null,
       "grid_column": null,
       "grid_gap": null,
       "grid_row": null,
       "grid_template_areas": null,
       "grid_template_columns": null,
       "grid_template_rows": null,
       "height": null,
       "justify_content": null,
       "justify_items": null,
       "left": null,
       "margin": null,
       "max_height": null,
       "max_width": null,
       "min_height": null,
       "min_width": null,
       "object_fit": null,
       "object_position": null,
       "order": null,
       "overflow": null,
       "overflow_x": null,
       "overflow_y": null,
       "padding": null,
       "right": null,
       "top": null,
       "visibility": null,
       "width": null
      }
     },
     "6c8973c8c4ef41d2b07c30b0f62a76a4": {
      "model_module": "@jupyter-widgets/controls",
      "model_module_version": "1.5.0",
      "model_name": "DescriptionStyleModel",
      "state": {
       "_model_module": "@jupyter-widgets/controls",
       "_model_module_version": "1.5.0",
       "_model_name": "DescriptionStyleModel",
       "_view_count": null,
       "_view_module": "@jupyter-widgets/base",
       "_view_module_version": "1.2.0",
       "_view_name": "StyleView",
       "description_width": ""
      }
     },
     "712a9b8998504f999a824c76d050c83a": {
      "model_module": "@jupyter-widgets/controls",
      "model_module_version": "1.5.0",
      "model_name": "HTMLModel",
      "state": {
       "_dom_classes": [],
       "_model_module": "@jupyter-widgets/controls",
       "_model_module_version": "1.5.0",
       "_model_name": "HTMLModel",
       "_view_count": null,
       "_view_module": "@jupyter-widgets/controls",
       "_view_module_version": "1.5.0",
       "_view_name": "HTMLView",
       "description": "",
       "description_tooltip": null,
       "layout": "IPY_MODEL_607cf5fee0e640a29526ddcd6fbf90cf",
       "placeholder": "​",
       "style": "IPY_MODEL_0685ea9f3fe14d8b9b308786c9b2b8bd",
       "value": " 2.35M/2.35M [00:00&lt;00:00, 4.14MB/s]"
      }
     },
     "7795642ead124480ac987ca09fbf9f6a": {
      "model_module": "@jupyter-widgets/controls",
      "model_module_version": "1.5.0",
      "model_name": "HTMLModel",
      "state": {
       "_dom_classes": [],
       "_model_module": "@jupyter-widgets/controls",
       "_model_module_version": "1.5.0",
       "_model_name": "HTMLModel",
       "_view_count": null,
       "_view_module": "@jupyter-widgets/controls",
       "_view_module_version": "1.5.0",
       "_view_name": "HTMLView",
       "description": "",
       "description_tooltip": null,
       "layout": "IPY_MODEL_87777451afaa4ff5a5a1f38c3d1d95fb",
       "placeholder": "​",
       "style": "IPY_MODEL_6c8973c8c4ef41d2b07c30b0f62a76a4",
       "value": " 52.0/52.0 [00:00&lt;00:00, 1.80kB/s]"
      }
     },
     "7891787fefe447e0acdbe43dd3b628d5": {
      "model_module": "@jupyter-widgets/base",
      "model_module_version": "1.2.0",
      "model_name": "LayoutModel",
      "state": {
       "_model_module": "@jupyter-widgets/base",
       "_model_module_version": "1.2.0",
       "_model_name": "LayoutModel",
       "_view_count": null,
       "_view_module": "@jupyter-widgets/base",
       "_view_module_version": "1.2.0",
       "_view_name": "LayoutView",
       "align_content": null,
       "align_items": null,
       "align_self": null,
       "border": null,
       "bottom": null,
       "display": null,
       "flex": null,
       "flex_flow": null,
       "grid_area": null,
       "grid_auto_columns": null,
       "grid_auto_flow": null,
       "grid_auto_rows": null,
       "grid_column": null,
       "grid_gap": null,
       "grid_row": null,
       "grid_template_areas": null,
       "grid_template_columns": null,
       "grid_template_rows": null,
       "height": null,
       "justify_content": null,
       "justify_items": null,
       "left": null,
       "margin": null,
       "max_height": null,
       "max_width": null,
       "min_height": null,
       "min_width": null,
       "object_fit": null,
       "object_position": null,
       "order": null,
       "overflow": null,
       "overflow_x": null,
       "overflow_y": null,
       "padding": null,
       "right": null,
       "top": null,
       "visibility": null,
       "width": null
      }
     },
     "7f4ef7444d47422f9ad4c4501e211684": {
      "model_module": "@jupyter-widgets/controls",
      "model_module_version": "1.5.0",
      "model_name": "HTMLModel",
      "state": {
       "_dom_classes": [],
       "_model_module": "@jupyter-widgets/controls",
       "_model_module_version": "1.5.0",
       "_model_name": "HTMLModel",
       "_view_count": null,
       "_view_module": "@jupyter-widgets/controls",
       "_view_module_version": "1.5.0",
       "_view_name": "HTMLView",
       "description": "",
       "description_tooltip": null,
       "layout": "IPY_MODEL_861d7e681f9546a19a3f3a978e62e84b",
       "placeholder": "​",
       "style": "IPY_MODEL_16858b84b72c46cc85dbb45a3bb959f3",
       "value": "Downloading: 100%"
      }
     },
     "832417cf2c1a46418c5a781b48ad44b1": {
      "model_module": "@jupyter-widgets/base",
      "model_module_version": "1.2.0",
      "model_name": "LayoutModel",
      "state": {
       "_model_module": "@jupyter-widgets/base",
       "_model_module_version": "1.2.0",
       "_model_name": "LayoutModel",
       "_view_count": null,
       "_view_module": "@jupyter-widgets/base",
       "_view_module_version": "1.2.0",
       "_view_name": "LayoutView",
       "align_content": null,
       "align_items": null,
       "align_self": null,
       "border": null,
       "bottom": null,
       "display": null,
       "flex": null,
       "flex_flow": null,
       "grid_area": null,
       "grid_auto_columns": null,
       "grid_auto_flow": null,
       "grid_auto_rows": null,
       "grid_column": null,
       "grid_gap": null,
       "grid_row": null,
       "grid_template_areas": null,
       "grid_template_columns": null,
       "grid_template_rows": null,
       "height": null,
       "justify_content": null,
       "justify_items": null,
       "left": null,
       "margin": null,
       "max_height": null,
       "max_width": null,
       "min_height": null,
       "min_width": null,
       "object_fit": null,
       "object_position": null,
       "order": null,
       "overflow": null,
       "overflow_x": null,
       "overflow_y": null,
       "padding": null,
       "right": null,
       "top": null,
       "visibility": null,
       "width": null
      }
     },
     "861d7e681f9546a19a3f3a978e62e84b": {
      "model_module": "@jupyter-widgets/base",
      "model_module_version": "1.2.0",
      "model_name": "LayoutModel",
      "state": {
       "_model_module": "@jupyter-widgets/base",
       "_model_module_version": "1.2.0",
       "_model_name": "LayoutModel",
       "_view_count": null,
       "_view_module": "@jupyter-widgets/base",
       "_view_module_version": "1.2.0",
       "_view_name": "LayoutView",
       "align_content": null,
       "align_items": null,
       "align_self": null,
       "border": null,
       "bottom": null,
       "display": null,
       "flex": null,
       "flex_flow": null,
       "grid_area": null,
       "grid_auto_columns": null,
       "grid_auto_flow": null,
       "grid_auto_rows": null,
       "grid_column": null,
       "grid_gap": null,
       "grid_row": null,
       "grid_template_areas": null,
       "grid_template_columns": null,
       "grid_template_rows": null,
       "height": null,
       "justify_content": null,
       "justify_items": null,
       "left": null,
       "margin": null,
       "max_height": null,
       "max_width": null,
       "min_height": null,
       "min_width": null,
       "object_fit": null,
       "object_position": null,
       "order": null,
       "overflow": null,
       "overflow_x": null,
       "overflow_y": null,
       "padding": null,
       "right": null,
       "top": null,
       "visibility": null,
       "width": null
      }
     },
     "87777451afaa4ff5a5a1f38c3d1d95fb": {
      "model_module": "@jupyter-widgets/base",
      "model_module_version": "1.2.0",
      "model_name": "LayoutModel",
      "state": {
       "_model_module": "@jupyter-widgets/base",
       "_model_module_version": "1.2.0",
       "_model_name": "LayoutModel",
       "_view_count": null,
       "_view_module": "@jupyter-widgets/base",
       "_view_module_version": "1.2.0",
       "_view_name": "LayoutView",
       "align_content": null,
       "align_items": null,
       "align_self": null,
       "border": null,
       "bottom": null,
       "display": null,
       "flex": null,
       "flex_flow": null,
       "grid_area": null,
       "grid_auto_columns": null,
       "grid_auto_flow": null,
       "grid_auto_rows": null,
       "grid_column": null,
       "grid_gap": null,
       "grid_row": null,
       "grid_template_areas": null,
       "grid_template_columns": null,
       "grid_template_rows": null,
       "height": null,
       "justify_content": null,
       "justify_items": null,
       "left": null,
       "margin": null,
       "max_height": null,
       "max_width": null,
       "min_height": null,
       "min_width": null,
       "object_fit": null,
       "object_position": null,
       "order": null,
       "overflow": null,
       "overflow_x": null,
       "overflow_y": null,
       "padding": null,
       "right": null,
       "top": null,
       "visibility": null,
       "width": null
      }
     },
     "883be3b21037439fa680758d85918841": {
      "model_module": "@jupyter-widgets/base",
      "model_module_version": "1.2.0",
      "model_name": "LayoutModel",
      "state": {
       "_model_module": "@jupyter-widgets/base",
       "_model_module_version": "1.2.0",
       "_model_name": "LayoutModel",
       "_view_count": null,
       "_view_module": "@jupyter-widgets/base",
       "_view_module_version": "1.2.0",
       "_view_name": "LayoutView",
       "align_content": null,
       "align_items": null,
       "align_self": null,
       "border": null,
       "bottom": null,
       "display": null,
       "flex": null,
       "flex_flow": null,
       "grid_area": null,
       "grid_auto_columns": null,
       "grid_auto_flow": null,
       "grid_auto_rows": null,
       "grid_column": null,
       "grid_gap": null,
       "grid_row": null,
       "grid_template_areas": null,
       "grid_template_columns": null,
       "grid_template_rows": null,
       "height": null,
       "justify_content": null,
       "justify_items": null,
       "left": null,
       "margin": null,
       "max_height": null,
       "max_width": null,
       "min_height": null,
       "min_width": null,
       "object_fit": null,
       "object_position": null,
       "order": null,
       "overflow": null,
       "overflow_x": null,
       "overflow_y": null,
       "padding": null,
       "right": null,
       "top": null,
       "visibility": null,
       "width": null
      }
     },
     "8b673f4a7e5446698e19d35723031c06": {
      "model_module": "@jupyter-widgets/controls",
      "model_module_version": "1.5.0",
      "model_name": "HBoxModel",
      "state": {
       "_dom_classes": [],
       "_model_module": "@jupyter-widgets/controls",
       "_model_module_version": "1.5.0",
       "_model_name": "HBoxModel",
       "_view_count": null,
       "_view_module": "@jupyter-widgets/controls",
       "_view_module_version": "1.5.0",
       "_view_name": "HBoxView",
       "box_style": "",
       "children": [
        "IPY_MODEL_ed09dde69c054b3082f222ec8e8eaf9a",
        "IPY_MODEL_be11fa5600d64752a0128020f44dac44",
        "IPY_MODEL_712a9b8998504f999a824c76d050c83a"
       ],
       "layout": "IPY_MODEL_f351547a948842ca900f5a49d7dd271a"
      }
     },
     "913ec578ae5d413c9c2cc453f4d6e8e5": {
      "model_module": "@jupyter-widgets/controls",
      "model_module_version": "1.5.0",
      "model_name": "HTMLModel",
      "state": {
       "_dom_classes": [],
       "_model_module": "@jupyter-widgets/controls",
       "_model_module_version": "1.5.0",
       "_model_name": "HTMLModel",
       "_view_count": null,
       "_view_module": "@jupyter-widgets/controls",
       "_view_module_version": "1.5.0",
       "_view_name": "HTMLView",
       "description": "",
       "description_tooltip": null,
       "layout": "IPY_MODEL_127ec1270a9a45a8bb5a4edd252fb618",
       "placeholder": "​",
       "style": "IPY_MODEL_ef9d6536eb594775b2c9f3e53ad79d42",
       "value": "Downloading: 100%"
      }
     },
     "9bcc72be258646d1ae74b490f527edab": {
      "model_module": "@jupyter-widgets/base",
      "model_module_version": "1.2.0",
      "model_name": "LayoutModel",
      "state": {
       "_model_module": "@jupyter-widgets/base",
       "_model_module_version": "1.2.0",
       "_model_name": "LayoutModel",
       "_view_count": null,
       "_view_module": "@jupyter-widgets/base",
       "_view_module_version": "1.2.0",
       "_view_name": "LayoutView",
       "align_content": null,
       "align_items": null,
       "align_self": null,
       "border": null,
       "bottom": null,
       "display": null,
       "flex": null,
       "flex_flow": null,
       "grid_area": null,
       "grid_auto_columns": null,
       "grid_auto_flow": null,
       "grid_auto_rows": null,
       "grid_column": null,
       "grid_gap": null,
       "grid_row": null,
       "grid_template_areas": null,
       "grid_template_columns": null,
       "grid_template_rows": null,
       "height": null,
       "justify_content": null,
       "justify_items": null,
       "left": null,
       "margin": null,
       "max_height": null,
       "max_width": null,
       "min_height": null,
       "min_width": null,
       "object_fit": null,
       "object_position": null,
       "order": null,
       "overflow": null,
       "overflow_x": null,
       "overflow_y": null,
       "padding": null,
       "right": null,
       "top": null,
       "visibility": null,
       "width": null
      }
     },
     "a2f2adf4ffa9415bb64e9c3aebf98ba3": {
      "model_module": "@jupyter-widgets/controls",
      "model_module_version": "1.5.0",
      "model_name": "DescriptionStyleModel",
      "state": {
       "_model_module": "@jupyter-widgets/controls",
       "_model_module_version": "1.5.0",
       "_model_name": "DescriptionStyleModel",
       "_view_count": null,
       "_view_module": "@jupyter-widgets/base",
       "_view_module_version": "1.2.0",
       "_view_name": "StyleView",
       "description_width": ""
      }
     },
     "a6f4c720d7324574b2c5ff3bec7234d5": {
      "model_module": "@jupyter-widgets/controls",
      "model_module_version": "1.5.0",
      "model_name": "DescriptionStyleModel",
      "state": {
       "_model_module": "@jupyter-widgets/controls",
       "_model_module_version": "1.5.0",
       "_model_name": "DescriptionStyleModel",
       "_view_count": null,
       "_view_module": "@jupyter-widgets/base",
       "_view_module_version": "1.2.0",
       "_view_name": "StyleView",
       "description_width": ""
      }
     },
     "b0c976ff692943119906200831333752": {
      "model_module": "@jupyter-widgets/controls",
      "model_module_version": "1.5.0",
      "model_name": "ProgressStyleModel",
      "state": {
       "_model_module": "@jupyter-widgets/controls",
       "_model_module_version": "1.5.0",
       "_model_name": "ProgressStyleModel",
       "_view_count": null,
       "_view_module": "@jupyter-widgets/base",
       "_view_module_version": "1.2.0",
       "_view_name": "StyleView",
       "bar_color": null,
       "description_width": ""
      }
     },
     "bc48cc6d68864426bd078bae78ff3902": {
      "model_module": "@jupyter-widgets/controls",
      "model_module_version": "1.5.0",
      "model_name": "HTMLModel",
      "state": {
       "_dom_classes": [],
       "_model_module": "@jupyter-widgets/controls",
       "_model_module_version": "1.5.0",
       "_model_name": "HTMLModel",
       "_view_count": null,
       "_view_module": "@jupyter-widgets/controls",
       "_view_module_version": "1.5.0",
       "_view_name": "HTMLView",
       "description": "",
       "description_tooltip": null,
       "layout": "IPY_MODEL_832417cf2c1a46418c5a781b48ad44b1",
       "placeholder": "​",
       "style": "IPY_MODEL_a6f4c720d7324574b2c5ff3bec7234d5",
       "value": " 702M/702M [00:28&lt;00:00, 27.5MB/s]"
      }
     },
     "be11fa5600d64752a0128020f44dac44": {
      "model_module": "@jupyter-widgets/controls",
      "model_module_version": "1.5.0",
      "model_name": "FloatProgressModel",
      "state": {
       "_dom_classes": [],
       "_model_module": "@jupyter-widgets/controls",
       "_model_module_version": "1.5.0",
       "_model_name": "FloatProgressModel",
       "_view_count": null,
       "_view_module": "@jupyter-widgets/controls",
       "_view_module_version": "1.5.0",
       "_view_name": "ProgressView",
       "bar_style": "success",
       "description": "",
       "description_tooltip": null,
       "layout": "IPY_MODEL_21f38734623241179477e7dffcaa6eb3",
       "max": 2464616,
       "min": 0,
       "orientation": "horizontal",
       "style": "IPY_MODEL_201bc023f4294c469660ed158ab9fb03",
       "value": 2464616
      }
     },
     "c3e903cee54546c9be2ea39c8b4db978": {
      "model_module": "@jupyter-widgets/base",
      "model_module_version": "1.2.0",
      "model_name": "LayoutModel",
      "state": {
       "_model_module": "@jupyter-widgets/base",
       "_model_module_version": "1.2.0",
       "_model_name": "LayoutModel",
       "_view_count": null,
       "_view_module": "@jupyter-widgets/base",
       "_view_module_version": "1.2.0",
       "_view_name": "LayoutView",
       "align_content": null,
       "align_items": null,
       "align_self": null,
       "border": null,
       "bottom": null,
       "display": null,
       "flex": null,
       "flex_flow": null,
       "grid_area": null,
       "grid_auto_columns": null,
       "grid_auto_flow": null,
       "grid_auto_rows": null,
       "grid_column": null,
       "grid_gap": null,
       "grid_row": null,
       "grid_template_areas": null,
       "grid_template_columns": null,
       "grid_template_rows": null,
       "height": null,
       "justify_content": null,
       "justify_items": null,
       "left": null,
       "margin": null,
       "max_height": null,
       "max_width": null,
       "min_height": null,
       "min_width": null,
       "object_fit": null,
       "object_position": null,
       "order": null,
       "overflow": null,
       "overflow_x": null,
       "overflow_y": null,
       "padding": null,
       "right": null,
       "top": null,
       "visibility": null,
       "width": null
      }
     },
     "e45bc0c27e034d96b2098500ed84b241": {
      "model_module": "@jupyter-widgets/controls",
      "model_module_version": "1.5.0",
      "model_name": "HBoxModel",
      "state": {
       "_dom_classes": [],
       "_model_module": "@jupyter-widgets/controls",
       "_model_module_version": "1.5.0",
       "_model_name": "HBoxModel",
       "_view_count": null,
       "_view_module": "@jupyter-widgets/controls",
       "_view_module_version": "1.5.0",
       "_view_name": "HBoxView",
       "box_style": "",
       "children": [
        "IPY_MODEL_913ec578ae5d413c9c2cc453f4d6e8e5",
        "IPY_MODEL_f141dd0ae21445d8924f2199fae1923c",
        "IPY_MODEL_bc48cc6d68864426bd078bae78ff3902"
       ],
       "layout": "IPY_MODEL_3a7b58700c0c4d73b99b80193caf0642"
      }
     },
     "ed09dde69c054b3082f222ec8e8eaf9a": {
      "model_module": "@jupyter-widgets/controls",
      "model_module_version": "1.5.0",
      "model_name": "HTMLModel",
      "state": {
       "_dom_classes": [],
       "_model_module": "@jupyter-widgets/controls",
       "_model_module_version": "1.5.0",
       "_model_name": "HTMLModel",
       "_view_count": null,
       "_view_module": "@jupyter-widgets/controls",
       "_view_module_version": "1.5.0",
       "_view_name": "HTMLView",
       "description": "",
       "description_tooltip": null,
       "layout": "IPY_MODEL_7891787fefe447e0acdbe43dd3b628d5",
       "placeholder": "​",
       "style": "IPY_MODEL_2a1020d6d10b4abd86feb243cffef861",
       "value": "Downloading: 100%"
      }
     },
     "ef9d6536eb594775b2c9f3e53ad79d42": {
      "model_module": "@jupyter-widgets/controls",
      "model_module_version": "1.5.0",
      "model_name": "DescriptionStyleModel",
      "state": {
       "_model_module": "@jupyter-widgets/controls",
       "_model_module_version": "1.5.0",
       "_model_name": "DescriptionStyleModel",
       "_view_count": null,
       "_view_module": "@jupyter-widgets/base",
       "_view_module_version": "1.2.0",
       "_view_name": "StyleView",
       "description_width": ""
      }
     },
     "f141dd0ae21445d8924f2199fae1923c": {
      "model_module": "@jupyter-widgets/controls",
      "model_module_version": "1.5.0",
      "model_name": "FloatProgressModel",
      "state": {
       "_dom_classes": [],
       "_model_module": "@jupyter-widgets/controls",
       "_model_module_version": "1.5.0",
       "_model_name": "FloatProgressModel",
       "_view_count": null,
       "_view_module": "@jupyter-widgets/controls",
       "_view_module_version": "1.5.0",
       "_view_name": "ProgressView",
       "bar_style": "success",
       "description": "",
       "description_tooltip": null,
       "layout": "IPY_MODEL_c3e903cee54546c9be2ea39c8b4db978",
       "max": 735589384,
       "min": 0,
       "orientation": "horizontal",
       "style": "IPY_MODEL_f9168dadd27142ccac9f189a8ffa9b11",
       "value": 735589384
      }
     },
     "f351547a948842ca900f5a49d7dd271a": {
      "model_module": "@jupyter-widgets/base",
      "model_module_version": "1.2.0",
      "model_name": "LayoutModel",
      "state": {
       "_model_module": "@jupyter-widgets/base",
       "_model_module_version": "1.2.0",
       "_model_name": "LayoutModel",
       "_view_count": null,
       "_view_module": "@jupyter-widgets/base",
       "_view_module_version": "1.2.0",
       "_view_name": "LayoutView",
       "align_content": null,
       "align_items": null,
       "align_self": null,
       "border": null,
       "bottom": null,
       "display": null,
       "flex": null,
       "flex_flow": null,
       "grid_area": null,
       "grid_auto_columns": null,
       "grid_auto_flow": null,
       "grid_auto_rows": null,
       "grid_column": null,
       "grid_gap": null,
       "grid_row": null,
       "grid_template_areas": null,
       "grid_template_columns": null,
       "grid_template_rows": null,
       "height": null,
       "justify_content": null,
       "justify_items": null,
       "left": null,
       "margin": null,
       "max_height": null,
       "max_width": null,
       "min_height": null,
       "min_width": null,
       "object_fit": null,
       "object_position": null,
       "order": null,
       "overflow": null,
       "overflow_x": null,
       "overflow_y": null,
       "padding": null,
       "right": null,
       "top": null,
       "visibility": null,
       "width": null
      }
     },
     "f4513592059d4c23a1a7a5c3eee2e791": {
      "model_module": "@jupyter-widgets/controls",
      "model_module_version": "1.5.0",
      "model_name": "HBoxModel",
      "state": {
       "_dom_classes": [],
       "_model_module": "@jupyter-widgets/controls",
       "_model_module_version": "1.5.0",
       "_model_name": "HBoxModel",
       "_view_count": null,
       "_view_module": "@jupyter-widgets/controls",
       "_view_module_version": "1.5.0",
       "_view_name": "HBoxView",
       "box_style": "",
       "children": [
        "IPY_MODEL_217a979e8871410ca7dfece251d57ebb",
        "IPY_MODEL_0be36f4e94c34b6ab0f266d8cae4b6bb",
        "IPY_MODEL_7795642ead124480ac987ca09fbf9f6a"
       ],
       "layout": "IPY_MODEL_24755857cbca4c84883e318da6a2190f"
      }
     },
     "f7d6582c76c94951a7ccd09e124b06ca": {
      "model_module": "@jupyter-widgets/controls",
      "model_module_version": "1.5.0",
      "model_name": "DescriptionStyleModel",
      "state": {
       "_model_module": "@jupyter-widgets/controls",
       "_model_module_version": "1.5.0",
       "_model_name": "DescriptionStyleModel",
       "_view_count": null,
       "_view_module": "@jupyter-widgets/base",
       "_view_module_version": "1.2.0",
       "_view_name": "StyleView",
       "description_width": ""
      }
     },
     "f9168dadd27142ccac9f189a8ffa9b11": {
      "model_module": "@jupyter-widgets/controls",
      "model_module_version": "1.5.0",
      "model_name": "ProgressStyleModel",
      "state": {
       "_model_module": "@jupyter-widgets/controls",
       "_model_module_version": "1.5.0",
       "_model_name": "ProgressStyleModel",
       "_view_count": null,
       "_view_module": "@jupyter-widgets/base",
       "_view_module_version": "1.2.0",
       "_view_name": "StyleView",
       "bar_color": null,
       "description_width": ""
      }
     }
    },
    "version_major": 2,
    "version_minor": 0
   }
  }
 },
 "nbformat": 4,
 "nbformat_minor": 5
}
