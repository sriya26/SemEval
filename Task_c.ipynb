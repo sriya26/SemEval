{
  "metadata": {
    "kernelspec": {
      "language": "python",
      "display_name": "Python 3",
      "name": "python3"
    },
    "language_info": {
      "name": "python",
      "version": "3.7.12",
      "mimetype": "text/x-python",
      "codemirror_mode": {
        "name": "ipython",
        "version": 3
      },
      "pygments_lexer": "ipython3",
      "nbconvert_exporter": "python",
      "file_extension": ".py"
    },
    "colab": {
      "provenance": []
    }
  },
  "nbformat_minor": 0,
  "nbformat": 4,
  "cells": [
    {
      "cell_type": "code",
      "source": [
        "!pip3 install ktrain"
      ],
      "metadata": {
        "id": "fVmVV2Xkdjwr",
        "outputId": "4f86b915-64d2-426d-85d8-8da0c4f09b99",
        "execution": {
          "iopub.status.busy": "2023-02-24T15:00:09.419785Z",
          "iopub.execute_input": "2023-02-24T15:00:09.420365Z",
          "iopub.status.idle": "2023-02-24T15:00:46.200017Z",
          "shell.execute_reply.started": "2023-02-24T15:00:09.420309Z",
          "shell.execute_reply": "2023-02-24T15:00:46.198835Z"
        },
        "trusted": true
      },
      "execution_count": null,
      "outputs": [
        {
          "name": "stdout",
          "text": "Collecting ktrain\n  Downloading ktrain-0.33.2.tar.gz (25.3 MB)\n\u001b[2K     \u001b[90m━━━━━━━━━━━━━━━━━━━━━━━━━━━━━━━━━━━━━━━━\u001b[0m \u001b[32m25.3/25.3 MB\u001b[0m \u001b[31m43.2 MB/s\u001b[0m eta \u001b[36m0:00:00\u001b[0m00:01\u001b[0m00:01\u001b[0m\n\u001b[?25h  Preparing metadata (setup.py) ... \u001b[?25ldone\n\u001b[?25hRequirement already satisfied: scikit-learn in /opt/conda/lib/python3.7/site-packages (from ktrain) (1.0.2)\nRequirement already satisfied: matplotlib>=3.0.0 in /opt/conda/lib/python3.7/site-packages (from ktrain) (3.5.3)\nRequirement already satisfied: pandas>=1.0.1 in /opt/conda/lib/python3.7/site-packages (from ktrain) (1.3.5)\nRequirement already satisfied: fastprogress>=0.1.21 in /opt/conda/lib/python3.7/site-packages (from ktrain) (1.0.3)\nRequirement already satisfied: requests in /opt/conda/lib/python3.7/site-packages (from ktrain) (2.28.1)\nRequirement already satisfied: joblib in /opt/conda/lib/python3.7/site-packages (from ktrain) (1.0.1)\nRequirement already satisfied: packaging in /opt/conda/lib/python3.7/site-packages (from ktrain) (22.0)\nCollecting langdetect\n  Downloading langdetect-1.0.9.tar.gz (981 kB)\n\u001b[2K     \u001b[90m━━━━━━━━━━━━━━━━━━━━━━━━━━━━━━━━━━━━━━\u001b[0m \u001b[32m981.5/981.5 kB\u001b[0m \u001b[31m53.2 MB/s\u001b[0m eta \u001b[36m0:00:00\u001b[0m\n\u001b[?25h  Preparing metadata (setup.py) ... \u001b[?25ldone\n\u001b[?25hRequirement already satisfied: jieba in /opt/conda/lib/python3.7/site-packages (from ktrain) (0.42.1)\nCollecting cchardet\n  Downloading cchardet-2.1.7-cp37-cp37m-manylinux2010_x86_64.whl (263 kB)\n\u001b[2K     \u001b[90m━━━━━━━━━━━━━━━━━━━━━━━━━━━━━━━━━━━━━━\u001b[0m \u001b[32m263.7/263.7 kB\u001b[0m \u001b[31m14.5 MB/s\u001b[0m eta \u001b[36m0:00:00\u001b[0m\n\u001b[?25hRequirement already satisfied: chardet in /opt/conda/lib/python3.7/site-packages (from ktrain) (5.0.0)\nCollecting syntok>1.3.3\n  Downloading syntok-1.4.4-py3-none-any.whl (24 kB)\nRequirement already satisfied: transformers>=4.17.0 in /opt/conda/lib/python3.7/site-packages (from ktrain) (4.20.1)\nRequirement already satisfied: sentencepiece in /opt/conda/lib/python3.7/site-packages (from ktrain) (0.1.97)\nCollecting keras_bert>=0.86.0\n  Downloading keras-bert-0.89.0.tar.gz (25 kB)\n  Preparing metadata (setup.py) ... \u001b[?25ldone\n\u001b[?25hCollecting whoosh\n  Downloading Whoosh-2.7.4-py2.py3-none-any.whl (468 kB)\n\u001b[2K     \u001b[90m━━━━━━━━━━━━━━━━━━━━━━━━━━━━━━━━━━━━━━\u001b[0m \u001b[32m468.8/468.8 kB\u001b[0m \u001b[31m23.6 MB/s\u001b[0m eta \u001b[36m0:00:00\u001b[0m\n\u001b[?25hRequirement already satisfied: numpy in /opt/conda/lib/python3.7/site-packages (from keras_bert>=0.86.0->ktrain) (1.21.6)\nCollecting keras-transformer==0.40.0\n  Downloading keras-transformer-0.40.0.tar.gz (9.7 kB)\n  Preparing metadata (setup.py) ... \u001b[?25ldone\n\u001b[?25hCollecting keras-pos-embd==0.13.0\n  Downloading keras-pos-embd-0.13.0.tar.gz (5.6 kB)\n  Preparing metadata (setup.py) ... \u001b[?25ldone\n\u001b[?25hCollecting keras-multi-head==0.29.0\n  Downloading keras-multi-head-0.29.0.tar.gz (13 kB)\n  Preparing metadata (setup.py) ... \u001b[?25ldone\n\u001b[?25hCollecting keras-layer-normalization==0.16.0\n  Downloading keras-layer-normalization-0.16.0.tar.gz (3.9 kB)\n  Preparing metadata (setup.py) ... \u001b[?25ldone\n\u001b[?25hCollecting keras-position-wise-feed-forward==0.8.0\n  Downloading keras-position-wise-feed-forward-0.8.0.tar.gz (4.1 kB)\n  Preparing metadata (setup.py) ... \u001b[?25ldone\n\u001b[?25hCollecting keras-embed-sim==0.10.0\n  Downloading keras-embed-sim-0.10.0.tar.gz (3.6 kB)\n  Preparing metadata (setup.py) ... \u001b[?25ldone\n\u001b[?25hCollecting keras-self-attention==0.51.0\n  Downloading keras-self-attention-0.51.0.tar.gz (11 kB)\n  Preparing metadata (setup.py) ... \u001b[?25ldone\n\u001b[?25hRequirement already satisfied: fonttools>=4.22.0 in /opt/conda/lib/python3.7/site-packages (from matplotlib>=3.0.0->ktrain) (4.33.3)\nRequirement already satisfied: cycler>=0.10 in /opt/conda/lib/python3.7/site-packages (from matplotlib>=3.0.0->ktrain) (0.11.0)\nRequirement already satisfied: kiwisolver>=1.0.1 in /opt/conda/lib/python3.7/site-packages (from matplotlib>=3.0.0->ktrain) (1.4.3)\nRequirement already satisfied: pyparsing>=2.2.1 in /opt/conda/lib/python3.7/site-packages (from matplotlib>=3.0.0->ktrain) (3.0.9)\nRequirement already satisfied: pillow>=6.2.0 in /opt/conda/lib/python3.7/site-packages (from matplotlib>=3.0.0->ktrain) (9.1.1)\nRequirement already satisfied: python-dateutil>=2.7 in /opt/conda/lib/python3.7/site-packages (from matplotlib>=3.0.0->ktrain) (2.8.2)\nRequirement already satisfied: pytz>=2017.3 in /opt/conda/lib/python3.7/site-packages (from pandas>=1.0.1->ktrain) (2022.1)\nRequirement already satisfied: regex>2016 in /opt/conda/lib/python3.7/site-packages (from syntok>1.3.3->ktrain) (2021.11.10)\nRequirement already satisfied: huggingface-hub<1.0,>=0.1.0 in /opt/conda/lib/python3.7/site-packages (from transformers>=4.17.0->ktrain) (0.10.1)\nRequirement already satisfied: importlib-metadata in /opt/conda/lib/python3.7/site-packages (from transformers>=4.17.0->ktrain) (4.13.0)\nRequirement already satisfied: tokenizers!=0.11.3,<0.13,>=0.11.1 in /opt/conda/lib/python3.7/site-packages (from transformers>=4.17.0->ktrain) (0.12.1)\nRequirement already satisfied: filelock in /opt/conda/lib/python3.7/site-packages (from transformers>=4.17.0->ktrain) (3.7.1)\nRequirement already satisfied: tqdm>=4.27 in /opt/conda/lib/python3.7/site-packages (from transformers>=4.17.0->ktrain) (4.64.0)\nRequirement already satisfied: pyyaml>=5.1 in /opt/conda/lib/python3.7/site-packages (from transformers>=4.17.0->ktrain) (6.0)\nRequirement already satisfied: six in /opt/conda/lib/python3.7/site-packages (from langdetect->ktrain) (1.15.0)\nRequirement already satisfied: certifi>=2017.4.17 in /opt/conda/lib/python3.7/site-packages (from requests->ktrain) (2022.12.7)\nRequirement already satisfied: urllib3<1.27,>=1.21.1 in /opt/conda/lib/python3.7/site-packages (from requests->ktrain) (1.26.13)\nRequirement already satisfied: idna<4,>=2.5 in /opt/conda/lib/python3.7/site-packages (from requests->ktrain) (3.3)\nRequirement already satisfied: charset-normalizer<3,>=2 in /opt/conda/lib/python3.7/site-packages (from requests->ktrain) (2.1.0)\nRequirement already satisfied: scipy>=1.1.0 in /opt/conda/lib/python3.7/site-packages (from scikit-learn->ktrain) (1.7.3)\nRequirement already satisfied: threadpoolctl>=2.0.0 in /opt/conda/lib/python3.7/site-packages (from scikit-learn->ktrain) (3.1.0)\nRequirement already satisfied: typing-extensions>=3.7.4.3 in /opt/conda/lib/python3.7/site-packages (from huggingface-hub<1.0,>=0.1.0->transformers>=4.17.0->ktrain) (4.1.1)\nRequirement already satisfied: zipp>=0.5 in /opt/conda/lib/python3.7/site-packages (from importlib-metadata->transformers>=4.17.0->ktrain) (3.8.0)\nBuilding wheels for collected packages: ktrain, keras_bert, keras-transformer, keras-embed-sim, keras-layer-normalization, keras-multi-head, keras-pos-embd, keras-position-wise-feed-forward, keras-self-attention, langdetect\n  Building wheel for ktrain (setup.py) ... \u001b[?25ldone\n\u001b[?25h  Created wheel for ktrain: filename=ktrain-0.33.2-py3-none-any.whl size=25313841 sha256=8059a47c51c99617fa1fc242b8086b3d91917cd56a131fe567c084f150c70575\n  Stored in directory: /root/.cache/pip/wheels/9c/e3/69/9942fefeb57744f93462fd91a8296f88f7dbf01aead3878282\n  Building wheel for keras_bert (setup.py) ... \u001b[?25ldone\n\u001b[?25h  Created wheel for keras_bert: filename=keras_bert-0.89.0-py3-none-any.whl size=33517 sha256=242d9070d376b97477b71ca2f334d0913b4ee40c5b03cf7696d730ab88a2e9db\n  Stored in directory: /root/.cache/pip/wheels/a4/e8/45/842b3a39831261aef9154b907eacbc4ac99499a99ae829b06f\n  Building wheel for keras-transformer (setup.py) ... \u001b[?25ldone\n\u001b[?25h  Created wheel for keras-transformer: filename=keras_transformer-0.40.0-py3-none-any.whl size=12305 sha256=f68dde987ea8e3fa4a46c95952a00c6839e689f7a1a4fae8470c1c5c4e569fbb\n  Stored in directory: /root/.cache/pip/wheels/46/68/26/692ed21edd832833c3b0a0e21615bcacd99ca458b3f9ed571f\n  Building wheel for keras-embed-sim (setup.py) ... \u001b[?25ldone\n\u001b[?25h  Created wheel for keras-embed-sim: filename=keras_embed_sim-0.10.0-py3-none-any.whl size=3960 sha256=a667c2a46dc345b8c501d9503245c10d086a131574c2b92e8a127d3df7c2f7f1\n  Stored in directory: /root/.cache/pip/wheels/81/67/b5/d847588d075895281e1cf5590f819bd4cf076a554872268bd5\n  Building wheel for keras-layer-normalization (setup.py) ... \u001b[?25ldone\n\u001b[?25h  Created wheel for keras-layer-normalization: filename=keras_layer_normalization-0.16.0-py3-none-any.whl size=4668 sha256=7085da952d2bffc5ffcd11de9b174dbc1e1ea1ac8963d8ffb4bf1cd5a6b5a2ea\n  Stored in directory: /root/.cache/pip/wheels/85/5d/1c/2e619f594f69fbcf8bc20943b27d414871c409be053994813e\n  Building wheel for keras-multi-head (setup.py) ... \u001b[?25ldone\n\u001b[?25h  Created wheel for keras-multi-head: filename=keras_multi_head-0.29.0-py3-none-any.whl size=14993 sha256=3342a74249bd9c1e0653e59f5800ca50c81ec4a4abead69ca322e00510bacf1f\n  Stored in directory: /root/.cache/pip/wheels/86/aa/3c/9d15d24005179dae08ff291ce99c754b296347817d076fd9fb\n  Building wheel for keras-pos-embd (setup.py) ... \u001b[?25ldone\n\u001b[?25h  Created wheel for keras-pos-embd: filename=keras_pos_embd-0.13.0-py3-none-any.whl size=6962 sha256=f1783e9d3d6da2ec6d4816adf0cc98d1170162583a8f05f39d1613e40e612312\n  Stored in directory: /root/.cache/pip/wheels/8d/c1/a0/dc44fcf68c857b7ff6be9a97e675e5adf51022eff1169b042f\n  Building wheel for keras-position-wise-feed-forward (setup.py) ... \u001b[?25ldone\n\u001b[?25h  Created wheel for keras-position-wise-feed-forward: filename=keras_position_wise_feed_forward-0.8.0-py3-none-any.whl size=4983 sha256=ccaa07cd2cbbae540e8686974b1aaebc5dbcc99ae02ff2323e352f9920534d76\n  Stored in directory: /root/.cache/pip/wheels/c2/75/6f/d42f6e051506f442daeba53ff1e2d21a5f20ef8c411610f2bb\n  Building wheel for keras-self-attention (setup.py) ... \u001b[?25ldone\n\u001b[?25h  Created wheel for keras-self-attention: filename=keras_self_attention-0.51.0-py3-none-any.whl size=18912 sha256=1cad3ec058807296a732651a11e04967c3712db1923c1750442f363d506b615a\n  Stored in directory: /root/.cache/pip/wheels/95/b1/a8/5ee00cc137940b2f6fa198212e8f45d813d0e0d9c3a04035a3\n  Building wheel for langdetect (setup.py) ... \u001b[?25ldone\n\u001b[?25h  Created wheel for langdetect: filename=langdetect-1.0.9-py3-none-any.whl size=993242 sha256=a96882591490afe86ff0ef4476feece614d620de18421e25c80318b0d15f197b\n  Stored in directory: /root/.cache/pip/wheels/c5/96/8a/f90c59ed25d75e50a8c10a1b1c2d4c402e4dacfa87f3aff36a\nSuccessfully built ktrain keras_bert keras-transformer keras-embed-sim keras-layer-normalization keras-multi-head keras-pos-embd keras-position-wise-feed-forward keras-self-attention langdetect\nInstalling collected packages: whoosh, cchardet, syntok, langdetect, keras-self-attention, keras-position-wise-feed-forward, keras-pos-embd, keras-layer-normalization, keras-embed-sim, keras-multi-head, keras-transformer, keras_bert, ktrain\nSuccessfully installed cchardet-2.1.7 keras-embed-sim-0.10.0 keras-layer-normalization-0.16.0 keras-multi-head-0.29.0 keras-pos-embd-0.13.0 keras-position-wise-feed-forward-0.8.0 keras-self-attention-0.51.0 keras-transformer-0.40.0 keras_bert-0.89.0 ktrain-0.33.2 langdetect-1.0.9 syntok-1.4.4 whoosh-2.7.4\n\u001b[33mWARNING: Running pip as the 'root' user can result in broken permissions and conflicting behaviour with the system package manager. It is recommended to use a virtual environment instead: https://pip.pypa.io/warnings/venv\u001b[0m\u001b[33m\n\u001b[0m",
          "output_type": "stream"
        }
      ]
    },
    {
      "cell_type": "code",
      "source": [
        "!pip install nltk"
      ],
      "metadata": {
        "execution": {
          "iopub.status.busy": "2023-02-24T15:00:46.202413Z",
          "iopub.execute_input": "2023-02-24T15:00:46.203221Z",
          "iopub.status.idle": "2023-02-24T15:00:56.093194Z",
          "shell.execute_reply.started": "2023-02-24T15:00:46.203171Z",
          "shell.execute_reply": "2023-02-24T15:00:56.091742Z"
        },
        "trusted": true,
        "id": "JDCqjDf6e3H9",
        "outputId": "589c8f3b-4cf2-4045-c030-3749a2d16b20"
      },
      "execution_count": null,
      "outputs": [
        {
          "name": "stdout",
          "text": "Requirement already satisfied: nltk in /opt/conda/lib/python3.7/site-packages (3.8.1)\nRequirement already satisfied: tqdm in /opt/conda/lib/python3.7/site-packages (from nltk) (4.64.0)\nRequirement already satisfied: click in /opt/conda/lib/python3.7/site-packages (from nltk) (8.1.3)\nRequirement already satisfied: joblib in /opt/conda/lib/python3.7/site-packages (from nltk) (1.0.1)\nRequirement already satisfied: regex>=2021.8.3 in /opt/conda/lib/python3.7/site-packages (from nltk) (2021.11.10)\nRequirement already satisfied: importlib-metadata in /opt/conda/lib/python3.7/site-packages (from click->nltk) (4.13.0)\nRequirement already satisfied: zipp>=0.5 in /opt/conda/lib/python3.7/site-packages (from importlib-metadata->click->nltk) (3.8.0)\nRequirement already satisfied: typing-extensions>=3.6.4 in /opt/conda/lib/python3.7/site-packages (from importlib-metadata->click->nltk) (4.1.1)\n\u001b[33mWARNING: Running pip as the 'root' user can result in broken permissions and conflicting behaviour with the system package manager. It is recommended to use a virtual environment instead: https://pip.pypa.io/warnings/venv\u001b[0m\u001b[33m\n\u001b[0m",
          "output_type": "stream"
        }
      ]
    },
    {
      "cell_type": "code",
      "source": [
        "import pandas as pd\n",
        "import numpy as np\n",
        "\n",
        "import ktrain\n",
        "from ktrain import text\n",
        "import nltk\n",
        "from sklearn.model_selection import train_test_split,KFold\n",
        "from sklearn.metrics import accuracy_score"
      ],
      "metadata": {
        "id": "8ZY3fS7mdn_J",
        "execution": {
          "iopub.status.busy": "2023-02-24T15:00:56.095235Z",
          "iopub.execute_input": "2023-02-24T15:00:56.095669Z",
          "iopub.status.idle": "2023-02-24T15:01:04.196490Z",
          "shell.execute_reply.started": "2023-02-24T15:00:56.095624Z",
          "shell.execute_reply": "2023-02-24T15:01:04.194927Z"
        },
        "trusted": true
      },
      "execution_count": null,
      "outputs": []
    },
    {
      "cell_type": "code",
      "source": [
        "from torch.utils.data import TensorDataset,RandomSampler,SequentialSampler\n",
        "from torch.utils.data import Dataset, DataLoader\n",
        "import torch.nn.functional as F\n",
        "from sklearn.preprocessing import LabelBinarizer\n",
        "from nltk.corpus import stopwords\n",
        "from nltk.stem.porter import PorterStemmer\n",
        "from wordcloud import WordCloud,STOPWORDS\n",
        "from nltk.stem import WordNetLemmatizer\n",
        "from nltk.tokenize import word_tokenize,sent_tokenize\n",
        "from bs4 import BeautifulSoup\n",
        "import spacy\n",
        "import re,string,unicodedata"
      ],
      "metadata": {
        "execution": {
          "iopub.status.busy": "2023-02-24T15:01:04.199566Z",
          "iopub.execute_input": "2023-02-24T15:01:04.200685Z",
          "iopub.status.idle": "2023-02-24T15:01:10.745105Z",
          "shell.execute_reply.started": "2023-02-24T15:01:04.200648Z",
          "shell.execute_reply": "2023-02-24T15:01:10.743970Z"
        },
        "trusted": true,
        "id": "FOoP338ye3H-"
      },
      "execution_count": null,
      "outputs": []
    },
    {
      "cell_type": "code",
      "source": [
        "path = '/kaggle/input/d/sriyar26/sexism-dataset/train_all_tasks.csv'\n",
        "\n",
        "data_train = pd.read_csv(path)"
      ],
      "metadata": {
        "id": "be3Ojf5PA0C8",
        "execution": {
          "iopub.status.busy": "2023-02-24T15:01:10.746852Z",
          "iopub.execute_input": "2023-02-24T15:01:10.747624Z",
          "iopub.status.idle": "2023-02-24T15:01:10.846348Z",
          "shell.execute_reply.started": "2023-02-24T15:01:10.747583Z",
          "shell.execute_reply": "2023-02-24T15:01:10.845232Z"
        },
        "trusted": true
      },
      "execution_count": null,
      "outputs": []
    },
    {
      "cell_type": "code",
      "source": [
        "path1 = '/kaggle/input/d/sriyar26/sexism-dataset/datasets/dev_task_c_entries.csv'\n",
        "\n",
        "data_test = pd.read_csv(path1)"
      ],
      "metadata": {
        "id": "wQ4IKvYPA77F",
        "execution": {
          "iopub.status.busy": "2023-02-24T15:01:10.847808Z",
          "iopub.execute_input": "2023-02-24T15:01:10.848185Z",
          "iopub.status.idle": "2023-02-24T15:01:10.860380Z",
          "shell.execute_reply.started": "2023-02-24T15:01:10.848140Z",
          "shell.execute_reply": "2023-02-24T15:01:10.859326Z"
        },
        "trusted": true
      },
      "execution_count": null,
      "outputs": []
    },
    {
      "cell_type": "code",
      "source": [
        "dftest=pd.read_csv('/kaggle/input/d/sriyar26/sexism-dataset/test_task_c_entries/test_task_c_entries.csv')# "
      ],
      "metadata": {
        "execution": {
          "iopub.status.busy": "2023-02-24T15:01:10.863754Z",
          "iopub.execute_input": "2023-02-24T15:01:10.864325Z",
          "iopub.status.idle": "2023-02-24T15:01:10.881238Z",
          "shell.execute_reply.started": "2023-02-24T15:01:10.864291Z",
          "shell.execute_reply": "2023-02-24T15:01:10.880390Z"
        },
        "trusted": true,
        "id": "gT36SPcVe3IA"
      },
      "execution_count": null,
      "outputs": []
    },
    {
      "cell_type": "code",
      "source": [
        "data_train"
      ],
      "metadata": {
        "id": "XOTularLAVLZ",
        "outputId": "5e1997db-36ad-4656-9ff7-3edf0ae87b66",
        "execution": {
          "iopub.status.busy": "2023-02-24T15:01:10.882659Z",
          "iopub.execute_input": "2023-02-24T15:01:10.882995Z",
          "iopub.status.idle": "2023-02-24T15:01:10.908865Z",
          "shell.execute_reply.started": "2023-02-24T15:01:10.882960Z",
          "shell.execute_reply": "2023-02-24T15:01:10.908046Z"
        },
        "trusted": true
      },
      "execution_count": null,
      "outputs": [
        {
          "execution_count": 10,
          "output_type": "execute_result",
          "data": {
            "text/plain": "                      rewire_id  \\\n0       sexism2022_english-7358   \n1       sexism2022_english-2367   \n2       sexism2022_english-3073   \n3      sexism2022_english-14895   \n4       sexism2022_english-4118   \n...                         ...   \n13995  sexism2022_english-14185   \n13996  sexism2022_english-18629   \n13997   sexism2022_english-3320   \n13998  sexism2022_english-13309   \n13999  sexism2022_english-12402   \n\n                                                    text label_sexist  \\\n0                  Damn, this writing was pretty chaotic   not sexist   \n1      Yeah, and apparently a bunch of misogynistic v...   not sexist   \n2           How the FUCK is this woman still an MP!!!???   not sexist   \n3      Understand. Know you're right. At same time I ...   not sexist   \n4         Surprized they didn't stop and rape some women   not sexist   \n...                                                  ...          ...   \n13995  complexes like the 'nice chicks' that go after...       sexist   \n13996  \"GRAPHIC Germany - Muslim \"refugee\" stabbing h...   not sexist   \n13997  Lol I imagine there would be simps that are li...   not sexist   \n13998  It's not, the girls I go on dates with don't k...   not sexist   \n13999  How can he be an incel? He does have a girlfri...   not sexist   \n\n      label_category             label_vector  \n0               none                     none  \n1               none                     none  \n2               none                     none  \n3               none                     none  \n4               none                     none  \n...              ...                      ...  \n13995  2. derogation  2.1 descriptive attacks  \n13996           none                     none  \n13997           none                     none  \n13998           none                     none  \n13999           none                     none  \n\n[14000 rows x 5 columns]",
            "text/html": "<div>\n<style scoped>\n    .dataframe tbody tr th:only-of-type {\n        vertical-align: middle;\n    }\n\n    .dataframe tbody tr th {\n        vertical-align: top;\n    }\n\n    .dataframe thead th {\n        text-align: right;\n    }\n</style>\n<table border=\"1\" class=\"dataframe\">\n  <thead>\n    <tr style=\"text-align: right;\">\n      <th></th>\n      <th>rewire_id</th>\n      <th>text</th>\n      <th>label_sexist</th>\n      <th>label_category</th>\n      <th>label_vector</th>\n    </tr>\n  </thead>\n  <tbody>\n    <tr>\n      <th>0</th>\n      <td>sexism2022_english-7358</td>\n      <td>Damn, this writing was pretty chaotic</td>\n      <td>not sexist</td>\n      <td>none</td>\n      <td>none</td>\n    </tr>\n    <tr>\n      <th>1</th>\n      <td>sexism2022_english-2367</td>\n      <td>Yeah, and apparently a bunch of misogynistic v...</td>\n      <td>not sexist</td>\n      <td>none</td>\n      <td>none</td>\n    </tr>\n    <tr>\n      <th>2</th>\n      <td>sexism2022_english-3073</td>\n      <td>How the FUCK is this woman still an MP!!!???</td>\n      <td>not sexist</td>\n      <td>none</td>\n      <td>none</td>\n    </tr>\n    <tr>\n      <th>3</th>\n      <td>sexism2022_english-14895</td>\n      <td>Understand. Know you're right. At same time I ...</td>\n      <td>not sexist</td>\n      <td>none</td>\n      <td>none</td>\n    </tr>\n    <tr>\n      <th>4</th>\n      <td>sexism2022_english-4118</td>\n      <td>Surprized they didn't stop and rape some women</td>\n      <td>not sexist</td>\n      <td>none</td>\n      <td>none</td>\n    </tr>\n    <tr>\n      <th>...</th>\n      <td>...</td>\n      <td>...</td>\n      <td>...</td>\n      <td>...</td>\n      <td>...</td>\n    </tr>\n    <tr>\n      <th>13995</th>\n      <td>sexism2022_english-14185</td>\n      <td>complexes like the 'nice chicks' that go after...</td>\n      <td>sexist</td>\n      <td>2. derogation</td>\n      <td>2.1 descriptive attacks</td>\n    </tr>\n    <tr>\n      <th>13996</th>\n      <td>sexism2022_english-18629</td>\n      <td>\"GRAPHIC Germany - Muslim \"refugee\" stabbing h...</td>\n      <td>not sexist</td>\n      <td>none</td>\n      <td>none</td>\n    </tr>\n    <tr>\n      <th>13997</th>\n      <td>sexism2022_english-3320</td>\n      <td>Lol I imagine there would be simps that are li...</td>\n      <td>not sexist</td>\n      <td>none</td>\n      <td>none</td>\n    </tr>\n    <tr>\n      <th>13998</th>\n      <td>sexism2022_english-13309</td>\n      <td>It's not, the girls I go on dates with don't k...</td>\n      <td>not sexist</td>\n      <td>none</td>\n      <td>none</td>\n    </tr>\n    <tr>\n      <th>13999</th>\n      <td>sexism2022_english-12402</td>\n      <td>How can he be an incel? He does have a girlfri...</td>\n      <td>not sexist</td>\n      <td>none</td>\n      <td>none</td>\n    </tr>\n  </tbody>\n</table>\n<p>14000 rows × 5 columns</p>\n</div>"
          },
          "metadata": {}
        }
      ]
    },
    {
      "cell_type": "code",
      "source": [
        "data_test.head(2)"
      ],
      "metadata": {
        "id": "QPcXo2IPBIM1",
        "outputId": "99d45bf7-7945-4996-edf8-e7c7641923d9",
        "execution": {
          "iopub.status.busy": "2023-02-24T15:01:10.910260Z",
          "iopub.execute_input": "2023-02-24T15:01:10.910590Z",
          "iopub.status.idle": "2023-02-24T15:01:10.920281Z",
          "shell.execute_reply.started": "2023-02-24T15:01:10.910555Z",
          "shell.execute_reply": "2023-02-24T15:01:10.919279Z"
        },
        "trusted": true
      },
      "execution_count": null,
      "outputs": [
        {
          "execution_count": 11,
          "output_type": "execute_result",
          "data": {
            "text/plain": "                  rewire_id                                               text\n0    sexism2022_english-739  Every woman wants to be a model. It's codeword...\n1  sexism2022_english-10787  Poor dude hasn't realized you dont share emoti...",
            "text/html": "<div>\n<style scoped>\n    .dataframe tbody tr th:only-of-type {\n        vertical-align: middle;\n    }\n\n    .dataframe tbody tr th {\n        vertical-align: top;\n    }\n\n    .dataframe thead th {\n        text-align: right;\n    }\n</style>\n<table border=\"1\" class=\"dataframe\">\n  <thead>\n    <tr style=\"text-align: right;\">\n      <th></th>\n      <th>rewire_id</th>\n      <th>text</th>\n    </tr>\n  </thead>\n  <tbody>\n    <tr>\n      <th>0</th>\n      <td>sexism2022_english-739</td>\n      <td>Every woman wants to be a model. It's codeword...</td>\n    </tr>\n    <tr>\n      <th>1</th>\n      <td>sexism2022_english-10787</td>\n      <td>Poor dude hasn't realized you dont share emoti...</td>\n    </tr>\n  </tbody>\n</table>\n</div>"
          },
          "metadata": {}
        }
      ]
    },
    {
      "cell_type": "code",
      "source": [
        "data_train['label_vector'].value_counts()"
      ],
      "metadata": {
        "id": "naJKnFOLB1oP",
        "outputId": "122f8634-9370-4bc8-a84a-368355017b52",
        "execution": {
          "iopub.status.busy": "2023-02-24T15:01:10.926407Z",
          "iopub.execute_input": "2023-02-24T15:01:10.926778Z",
          "iopub.status.idle": "2023-02-24T15:01:10.940889Z",
          "shell.execute_reply.started": "2023-02-24T15:01:10.926725Z",
          "shell.execute_reply": "2023-02-24T15:01:10.939900Z"
        },
        "trusted": true
      },
      "execution_count": null,
      "outputs": [
        {
          "execution_count": 12,
          "output_type": "execute_result",
          "data": {
            "text/plain": "none                                                               10602\n2.1 descriptive attacks                                              717\n2.2 aggressive and emotive attacks                                   673\n3.1 casual use of gendered slurs, profanities, and insults           637\n3.2 immutable gender differences and gender stereotypes              417\n4.2 supporting systemic discrimination against women as a group      258\n1.2 incitement and encouragement of harm                             254\n2.3 dehumanising attacks & overt sexual objectification              200\n4.1 supporting mistreatment of individual women                       75\n3.3 backhanded gendered compliments                                   64\n1.1 threats of harm                                                   56\n3.4 condescending explanations or unwelcome advice                    47\nName: label_vector, dtype: int64"
          },
          "metadata": {}
        }
      ]
    },
    {
      "cell_type": "code",
      "source": [
        "index1 = data_train[ (data_train['label_vector'] == 'none')  ].index\n",
        "data_train.drop(index1 , inplace=True)"
      ],
      "metadata": {
        "execution": {
          "iopub.status.busy": "2023-02-24T15:01:10.942388Z",
          "iopub.execute_input": "2023-02-24T15:01:10.943502Z",
          "iopub.status.idle": "2023-02-24T15:01:10.957630Z",
          "shell.execute_reply.started": "2023-02-24T15:01:10.943466Z",
          "shell.execute_reply": "2023-02-24T15:01:10.956518Z"
        },
        "trusted": true,
        "id": "Vt6YGBxae3IC"
      },
      "execution_count": null,
      "outputs": []
    },
    {
      "cell_type": "code",
      "source": [
        "classes = ['1.1 threats of harm','1.2 incitement and encouragement of harm','2.1 descriptive attacks','2.2 aggressive and emotive attacks','2.3 dehumanising attacks & overt sexual objectification','3.1 casual use of gendered slurs, profanities, and insults','3.2 immutable gender differences and gender stereotypes','3.3 backhanded gendered compliments','3.4 condescending explanations or unwelcome advice','4.1 supporting mistreatment of individual women','4.2 supporting systemic discrimination against women as a group']\n"
      ],
      "metadata": {
        "id": "8GCcqvYSBOAA",
        "execution": {
          "iopub.status.busy": "2023-02-24T15:01:10.959877Z",
          "iopub.execute_input": "2023-02-24T15:01:10.960900Z",
          "iopub.status.idle": "2023-02-24T15:01:10.966451Z",
          "shell.execute_reply.started": "2023-02-24T15:01:10.960861Z",
          "shell.execute_reply": "2023-02-24T15:01:10.965109Z"
        },
        "trusted": true
      },
      "execution_count": null,
      "outputs": []
    },
    {
      "cell_type": "code",
      "source": [
        "data_train=data_train.drop('label_sexist', axis='columns')"
      ],
      "metadata": {
        "execution": {
          "iopub.status.busy": "2023-02-24T15:01:10.967819Z",
          "iopub.execute_input": "2023-02-24T15:01:10.968676Z",
          "iopub.status.idle": "2023-02-24T15:01:10.978153Z",
          "shell.execute_reply.started": "2023-02-24T15:01:10.968636Z",
          "shell.execute_reply": "2023-02-24T15:01:10.977318Z"
        },
        "trusted": true,
        "id": "hwEXYapse3ID"
      },
      "execution_count": null,
      "outputs": []
    },
    {
      "cell_type": "code",
      "source": [
        "data_train=data_train.drop('label_category', axis='columns')"
      ],
      "metadata": {
        "execution": {
          "iopub.status.busy": "2023-02-24T15:01:10.979522Z",
          "iopub.execute_input": "2023-02-24T15:01:10.980710Z",
          "iopub.status.idle": "2023-02-24T15:01:10.991769Z",
          "shell.execute_reply.started": "2023-02-24T15:01:10.980666Z",
          "shell.execute_reply": "2023-02-24T15:01:10.990358Z"
        },
        "trusted": true,
        "id": "BhXpnkeze3ID"
      },
      "execution_count": null,
      "outputs": []
    },
    {
      "cell_type": "code",
      "source": [
        "data_train=data_train.drop('rewire_id', axis='columns')"
      ],
      "metadata": {
        "execution": {
          "iopub.status.busy": "2023-02-24T15:01:10.993249Z",
          "iopub.execute_input": "2023-02-24T15:01:10.994175Z",
          "iopub.status.idle": "2023-02-24T15:01:11.003663Z",
          "shell.execute_reply.started": "2023-02-24T15:01:10.994138Z",
          "shell.execute_reply": "2023-02-24T15:01:11.002452Z"
        },
        "trusted": true,
        "id": "Ymm6TXf0e3ID"
      },
      "execution_count": null,
      "outputs": []
    },
    {
      "cell_type": "code",
      "source": [
        "data_train.head()"
      ],
      "metadata": {
        "execution": {
          "iopub.status.busy": "2023-02-24T15:01:11.006309Z",
          "iopub.execute_input": "2023-02-24T15:01:11.006998Z",
          "iopub.status.idle": "2023-02-24T15:01:11.018623Z",
          "shell.execute_reply.started": "2023-02-24T15:01:11.006962Z",
          "shell.execute_reply": "2023-02-24T15:01:11.017553Z"
        },
        "trusted": true,
        "id": "m1bnjBeKe3ID",
        "outputId": "f94eba54-c93d-426c-ef13-75bbbc9897db"
      },
      "execution_count": null,
      "outputs": [
        {
          "execution_count": 18,
          "output_type": "execute_result",
          "data": {
            "text/plain": "                                                 text  \\\n8   just the inside of your wallet: cash, bank car...   \n11  They get the initial chance because they are a...   \n17                    ugly chicks A pussy is a pussy.   \n18  fuck her off with a nine mm this is what you g...   \n19  How about I talk shit to an idiot like you? Ar...   \n\n                                         label_vector  \n8   2.3 dehumanising attacks & overt sexual object...  \n11                            2.1 descriptive attacks  \n17  2.3 dehumanising attacks & overt sexual object...  \n18           1.2 incitement and encouragement of harm  \n19  3.1 casual use of gendered slurs, profanities,...  ",
            "text/html": "<div>\n<style scoped>\n    .dataframe tbody tr th:only-of-type {\n        vertical-align: middle;\n    }\n\n    .dataframe tbody tr th {\n        vertical-align: top;\n    }\n\n    .dataframe thead th {\n        text-align: right;\n    }\n</style>\n<table border=\"1\" class=\"dataframe\">\n  <thead>\n    <tr style=\"text-align: right;\">\n      <th></th>\n      <th>text</th>\n      <th>label_vector</th>\n    </tr>\n  </thead>\n  <tbody>\n    <tr>\n      <th>8</th>\n      <td>just the inside of your wallet: cash, bank car...</td>\n      <td>2.3 dehumanising attacks &amp; overt sexual object...</td>\n    </tr>\n    <tr>\n      <th>11</th>\n      <td>They get the initial chance because they are a...</td>\n      <td>2.1 descriptive attacks</td>\n    </tr>\n    <tr>\n      <th>17</th>\n      <td>ugly chicks A pussy is a pussy.</td>\n      <td>2.3 dehumanising attacks &amp; overt sexual object...</td>\n    </tr>\n    <tr>\n      <th>18</th>\n      <td>fuck her off with a nine mm this is what you g...</td>\n      <td>1.2 incitement and encouragement of harm</td>\n    </tr>\n    <tr>\n      <th>19</th>\n      <td>How about I talk shit to an idiot like you? Ar...</td>\n      <td>3.1 casual use of gendered slurs, profanities,...</td>\n    </tr>\n  </tbody>\n</table>\n</div>"
          },
          "metadata": {}
        }
      ]
    },
    {
      "cell_type": "code",
      "source": [
        "data_train['label_vector'].unique()"
      ],
      "metadata": {
        "execution": {
          "iopub.status.busy": "2023-02-24T15:01:11.020596Z",
          "iopub.execute_input": "2023-02-24T15:01:11.021069Z",
          "iopub.status.idle": "2023-02-24T15:01:11.032634Z",
          "shell.execute_reply.started": "2023-02-24T15:01:11.020906Z",
          "shell.execute_reply": "2023-02-24T15:01:11.031580Z"
        },
        "trusted": true,
        "id": "lBSiYvcUe3IE",
        "outputId": "3e55631c-7488-45fb-8e7d-673e43ae87b1"
      },
      "execution_count": null,
      "outputs": [
        {
          "execution_count": 19,
          "output_type": "execute_result",
          "data": {
            "text/plain": "array(['2.3 dehumanising attacks & overt sexual objectification',\n       '2.1 descriptive attacks',\n       '1.2 incitement and encouragement of harm',\n       '3.1 casual use of gendered slurs, profanities, and insults',\n       '4.2 supporting systemic discrimination against women as a group',\n       '2.2 aggressive and emotive attacks',\n       '3.2 immutable gender differences and gender stereotypes',\n       '3.4 condescending explanations or unwelcome advice',\n       '3.3 backhanded gendered compliments',\n       '4.1 supporting mistreatment of individual women',\n       '1.1 threats of harm'], dtype=object)"
          },
          "metadata": {}
        }
      ]
    },
    {
      "cell_type": "code",
      "source": [
        "# Import label encoder\n",
        "from sklearn import preprocessing\n",
        "\n",
        "# label_encoder object knows how to understand word labels.\n",
        "label_encoder = preprocessing.LabelEncoder()\n",
        "\n",
        "# Encode labels in column 'species'.\n",
        "data_train['label_vector']= label_encoder.fit_transform(data_train['label_vector'])\n",
        "\n",
        "data_train['label_vector'].unique()\n"
      ],
      "metadata": {
        "execution": {
          "iopub.status.busy": "2023-02-24T15:01:11.034598Z",
          "iopub.execute_input": "2023-02-24T15:01:11.035511Z",
          "iopub.status.idle": "2023-02-24T15:01:11.045888Z",
          "shell.execute_reply.started": "2023-02-24T15:01:11.035470Z",
          "shell.execute_reply": "2023-02-24T15:01:11.044950Z"
        },
        "trusted": true,
        "id": "jZZPNEm2e3IE",
        "outputId": "5033fffc-ce51-445a-a0a8-8d1bb4b6b175"
      },
      "execution_count": null,
      "outputs": [
        {
          "execution_count": 20,
          "output_type": "execute_result",
          "data": {
            "text/plain": "array([ 4,  2,  1,  5, 10,  3,  6,  8,  7,  9,  0])"
          },
          "metadata": {}
        }
      ]
    },
    {
      "cell_type": "code",
      "source": [
        "import re\n",
        "def clean_text(text):\n",
        "\n",
        "    text = re.sub(r\"@[A-Za-z0-9]+\", ' ', text)\n",
        "    text = re.sub(r\"https?://[A-Za-z0-9./]+\", ' ', text)\n",
        "    text = re.sub(r\"[^a-zA-z.!?'0-9]\", ' ', text)\n",
        "    text = re.sub('\\t', ' ',  text)\n",
        "    text = re.sub(r\" +\", ' ', text)\n",
        "    text=re.sub(r'[^\\w\\s]','',text)\n",
        "    text=text.replace(\"[URL]\",\"\")\n",
        "    text=text.replace(\"[USER]\",\"\")\n",
        "    text=re.sub(r\"[â€™ºðŸ‡˜Žµ±¤£‘Œ”œ]\",\"\",text)\n",
        "    return text"
      ],
      "metadata": {
        "id": "IQbq6lgV41O-",
        "execution": {
          "iopub.status.busy": "2023-02-24T15:01:11.047642Z",
          "iopub.execute_input": "2023-02-24T15:01:11.047933Z",
          "iopub.status.idle": "2023-02-24T15:01:11.057760Z",
          "shell.execute_reply.started": "2023-02-24T15:01:11.047906Z",
          "shell.execute_reply": "2023-02-24T15:01:11.056653Z"
        },
        "trusted": true
      },
      "execution_count": null,
      "outputs": []
    },
    {
      "cell_type": "code",
      "source": [
        "data_train['text']= data_train['text'].apply(clean_text)\n",
        "data_test['text']= data_test['text'].apply(clean_text)\n",
        "dftest['text']= dftest['text'].apply(clean_text)"
      ],
      "metadata": {
        "execution": {
          "iopub.status.busy": "2023-02-24T15:01:11.059160Z",
          "iopub.execute_input": "2023-02-24T15:01:11.059944Z",
          "iopub.status.idle": "2023-02-24T15:01:11.187659Z",
          "shell.execute_reply.started": "2023-02-24T15:01:11.059909Z",
          "shell.execute_reply": "2023-02-24T15:01:11.186712Z"
        },
        "trusted": true,
        "id": "uekF8Rtqe3IQ"
      },
      "execution_count": null,
      "outputs": []
    },
    {
      "cell_type": "code",
      "source": [
        "#Removing the square brackets\n",
        "def remove_between_square_brackets(text):\n",
        "    return re.sub('\\[[^]]*\\]', '', text)\n",
        "\n",
        "#Removing the noisy text\n",
        "def denoise_text(text):\n",
        "    \n",
        "    text = remove_between_square_brackets(text)\n",
        "    return text"
      ],
      "metadata": {
        "execution": {
          "iopub.status.busy": "2023-02-24T15:01:11.189088Z",
          "iopub.execute_input": "2023-02-24T15:01:11.189421Z",
          "iopub.status.idle": "2023-02-24T15:01:11.196138Z",
          "shell.execute_reply.started": "2023-02-24T15:01:11.189387Z",
          "shell.execute_reply": "2023-02-24T15:01:11.194029Z"
        },
        "trusted": true,
        "id": "CoxCgfEXe3IR"
      },
      "execution_count": null,
      "outputs": []
    },
    {
      "cell_type": "code",
      "source": [
        "data_train['text']=data_train['text'].apply(denoise_text)\n",
        "data_test['text']= data_test['text'].apply(denoise_text)\n",
        "dftest['text']= dftest['text'].apply(denoise_text)"
      ],
      "metadata": {
        "execution": {
          "iopub.status.busy": "2023-02-24T15:01:11.197641Z",
          "iopub.execute_input": "2023-02-24T15:01:11.198317Z",
          "iopub.status.idle": "2023-02-24T15:01:11.214278Z",
          "shell.execute_reply.started": "2023-02-24T15:01:11.198279Z",
          "shell.execute_reply": "2023-02-24T15:01:11.213273Z"
        },
        "trusted": true,
        "id": "ea1iC7Iie3IS"
      },
      "execution_count": null,
      "outputs": []
    },
    {
      "cell_type": "code",
      "source": [
        "kf = KFold(n_splits=5, random_state=42, shuffle=True)"
      ],
      "metadata": {
        "execution": {
          "iopub.status.busy": "2023-02-24T15:01:11.279385Z",
          "iopub.execute_input": "2023-02-24T15:01:11.280001Z",
          "iopub.status.idle": "2023-02-24T15:01:11.285332Z",
          "shell.execute_reply.started": "2023-02-24T15:01:11.279965Z",
          "shell.execute_reply": "2023-02-24T15:01:11.284296Z"
        },
        "trusted": true,
        "id": "mHVv390Re3IV"
      },
      "execution_count": null,
      "outputs": []
    },
    {
      "cell_type": "code",
      "source": [
        "models = []\n",
        "val_accs = []"
      ],
      "metadata": {
        "execution": {
          "iopub.status.busy": "2023-02-24T15:01:11.286890Z",
          "iopub.execute_input": "2023-02-24T15:01:11.287630Z",
          "iopub.status.idle": "2023-02-24T15:01:11.295655Z",
          "shell.execute_reply.started": "2023-02-24T15:01:11.287594Z",
          "shell.execute_reply": "2023-02-24T15:01:11.294462Z"
        },
        "trusted": true,
        "id": "tc2pW2z7e3IV"
      },
      "execution_count": null,
      "outputs": []
    },
    {
      "cell_type": "code",
      "source": [
        "MODEL_NAME='roberta-base'#'microsoft/deberta-v3-base'"
      ],
      "metadata": {
        "execution": {
          "iopub.status.busy": "2023-02-24T15:01:11.297215Z",
          "iopub.execute_input": "2023-02-24T15:01:11.297913Z",
          "iopub.status.idle": "2023-02-24T15:01:11.305548Z",
          "shell.execute_reply.started": "2023-02-24T15:01:11.297878Z",
          "shell.execute_reply": "2023-02-24T15:01:11.304447Z"
        },
        "trusted": true,
        "id": "Bzxvwwqhe3IV"
      },
      "execution_count": null,
      "outputs": []
    },
    {
      "cell_type": "code",
      "source": [
        "t  = text.Transformer(MODEL_NAME, maxlen=500,class_names=[0, 1,2,3,4,5,6,7,8,9,10])"
      ],
      "metadata": {
        "execution": {
          "iopub.status.busy": "2023-02-24T15:01:11.307094Z",
          "iopub.execute_input": "2023-02-24T15:01:11.307943Z",
          "iopub.status.idle": "2023-02-24T15:01:51.272967Z",
          "shell.execute_reply.started": "2023-02-24T15:01:11.307907Z",
          "shell.execute_reply": "2023-02-24T15:01:51.271891Z"
        },
        "trusted": true,
        "colab": {
          "referenced_widgets": [
            "904abb9026fe4af49344f9c626bc700b",
            "2243ed48a0cf4eb8a0e8f34778c9caae"
          ]
        },
        "id": "SsnDH6ZHe3IW",
        "outputId": "702ec46f-ac76-45fc-8289-dc8f969673ce"
      },
      "execution_count": null,
      "outputs": [
        {
          "output_type": "display_data",
          "data": {
            "text/plain": "Downloading:   0%|          | 0.00/481 [00:00<?, ?B/s]",
            "application/vnd.jupyter.widget-view+json": {
              "version_major": 2,
              "version_minor": 0,
              "model_id": "904abb9026fe4af49344f9c626bc700b"
            }
          },
          "metadata": {}
        },
        {
          "output_type": "display_data",
          "data": {
            "text/plain": "Downloading:   0%|          | 0.00/627M [00:00<?, ?B/s]",
            "application/vnd.jupyter.widget-view+json": {
              "version_major": 2,
              "version_minor": 0,
              "model_id": "2243ed48a0cf4eb8a0e8f34778c9caae"
            }
          },
          "metadata": {}
        }
      ]
    },
    {
      "cell_type": "code",
      "source": [
        "def transformer_cv():\n",
        "    predictions,accs=[],[]\n",
        "    data = data_train[['text', 'label_vector']]\n",
        "    for train_index, val_index in kf.split(data):\n",
        "        train,val=data.iloc[train_index],data.iloc[val_index]\n",
        "#         print(train)\n",
        "#         print(val)\n",
        "        x_train=train.text.tolist()\n",
        "        x_val=val.text.tolist()\n",
        "        y_train=train.label_vector.tolist()\n",
        "        y_val=val.label_vector.tolist()\n",
        "#         print(x_train)\n",
        "#         print(y_train)\n",
        "        trn = t.preprocess_train(x_train, y_train)\n",
        "        val = t.preprocess_test(x_val, y_val)\n",
        "        model = t.get_classifier()\n",
        "        learner = ktrain.get_learner(model, train_data=trn, batch_size=6)\n",
        "        learner.fit_onecycle(2e-5, 4)\n",
        "        predictor = ktrain.get_predictor(learner.model, t)\n",
        "        pred=predictor.predict(x_val)\n",
        "        acc=accuracy_score(y_val,pred)\n",
        "        print('acc',acc)\n",
        "        accs.append(acc)\n",
        "        models.append(learner.model)\n",
        "        val_acc = learner.validate(class_names=t.get_classes(), val_data=val)[1]\n",
        "        val_accs.append(val_acc)\n",
        "        \n",
        "    return accs,val_accs"
      ],
      "metadata": {
        "execution": {
          "iopub.status.busy": "2023-02-24T15:01:51.274775Z",
          "iopub.execute_input": "2023-02-24T15:01:51.275146Z",
          "iopub.status.idle": "2023-02-24T15:01:51.284549Z",
          "shell.execute_reply.started": "2023-02-24T15:01:51.275108Z",
          "shell.execute_reply": "2023-02-24T15:01:51.283606Z"
        },
        "trusted": true,
        "id": "4yIEym0Be3IX"
      },
      "execution_count": null,
      "outputs": []
    },
    {
      "cell_type": "code",
      "source": [
        "print( transformer_cv() )"
      ],
      "metadata": {
        "execution": {
          "iopub.status.busy": "2023-02-24T15:01:51.286093Z",
          "iopub.execute_input": "2023-02-24T15:01:51.286686Z",
          "iopub.status.idle": "2023-02-24T15:13:22.951905Z",
          "shell.execute_reply.started": "2023-02-24T15:01:51.286649Z",
          "shell.execute_reply": "2023-02-24T15:13:22.950793Z"
        },
        "trusted": true,
        "id": "YIS4DT-qe3IX"
      },
      "execution_count": null,
      "outputs": []
    },
    {
      "cell_type": "code",
      "source": [
        "# get the best performing model and its validation accuracy\n",
        "best_model_idx = val_accs.index(max(val_accs))\n",
        "best_model = models[best_model_idx]\n",
        "best_val_acc = val_accs[best_model_idx]\n",
        "# save the best performing model\n",
        "predictor = ktrain.get_predictor(best_model, preproc=t)\n",
        "predictor.get_classes()\n",
        "predictor.save('roberta')"
      ],
      "metadata": {
        "execution": {
          "iopub.status.busy": "2023-02-24T15:20:46.144586Z",
          "iopub.execute_input": "2023-02-24T15:20:46.144967Z",
          "iopub.status.idle": "2023-02-24T15:20:47.084961Z",
          "shell.execute_reply.started": "2023-02-24T15:20:46.144934Z",
          "shell.execute_reply": "2023-02-24T15:20:47.083878Z"
        },
        "trusted": true,
        "id": "NqpQYm16e3IY"
      },
      "execution_count": null,
      "outputs": []
    }
  ]
}