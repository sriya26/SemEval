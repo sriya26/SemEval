{
  "metadata": {
    "kernelspec": {
      "language": "python",
      "display_name": "Python 3",
      "name": "python3"
    },
    "language_info": {
      "name": "python",
      "version": "3.7.12",
      "mimetype": "text/x-python",
      "codemirror_mode": {
        "name": "ipython",
        "version": 3
      },
      "pygments_lexer": "ipython3",
      "nbconvert_exporter": "python",
      "file_extension": ".py"
    },
    "colab": {
      "provenance": []
    }
  },
  "nbformat_minor": 0,
  "nbformat": 4,
  "cells": [
    {
      "cell_type": "code",
      "source": [
        "!pip3 install ktrain"
      ],
      "metadata": {
        "id": "fVmVV2Xkdjwr",
        "outputId": "4f86b915-64d2-426d-85d8-8da0c4f09b99",
        "execution": {
          "iopub.status.busy": "2023-02-24T18:06:32.912309Z",
          "iopub.execute_input": "2023-02-24T18:06:32.913135Z",
          "iopub.status.idle": "2023-02-24T18:07:08.346670Z",
          "shell.execute_reply.started": "2023-02-24T18:06:32.913040Z",
          "shell.execute_reply": "2023-02-24T18:07:08.345397Z"
        },
        "trusted": true
      },
      "execution_count": null,
      "outputs": [
        {
          "name": "stdout",
          "text": "Collecting ktrain\n  Downloading ktrain-0.33.2.tar.gz (25.3 MB)\n\u001b[2K     \u001b[90m━━━━━━━━━━━━━━━━━━━━━━━━━━━━━━━━━━━━━━━━\u001b[0m \u001b[32m25.3/25.3 MB\u001b[0m \u001b[31m32.7 MB/s\u001b[0m eta \u001b[36m0:00:00\u001b[0m00:01\u001b[0m00:01\u001b[0m\n\u001b[?25h  Preparing metadata (setup.py) ... \u001b[?25ldone\n\u001b[?25hRequirement already satisfied: scikit-learn in /opt/conda/lib/python3.7/site-packages (from ktrain) (1.0.2)\nRequirement already satisfied: matplotlib>=3.0.0 in /opt/conda/lib/python3.7/site-packages (from ktrain) (3.5.3)\nRequirement already satisfied: pandas>=1.0.1 in /opt/conda/lib/python3.7/site-packages (from ktrain) (1.3.5)\nRequirement already satisfied: fastprogress>=0.1.21 in /opt/conda/lib/python3.7/site-packages (from ktrain) (1.0.3)\nRequirement already satisfied: requests in /opt/conda/lib/python3.7/site-packages (from ktrain) (2.28.1)\nRequirement already satisfied: joblib in /opt/conda/lib/python3.7/site-packages (from ktrain) (1.0.1)\nRequirement already satisfied: packaging in /opt/conda/lib/python3.7/site-packages (from ktrain) (22.0)\nCollecting langdetect\n  Downloading langdetect-1.0.9.tar.gz (981 kB)\n\u001b[2K     \u001b[90m━━━━━━━━━━━━━━━━━━━━━━━━━━━━━━━━━━━━━━\u001b[0m \u001b[32m981.5/981.5 kB\u001b[0m \u001b[31m45.1 MB/s\u001b[0m eta \u001b[36m0:00:00\u001b[0m\n\u001b[?25h  Preparing metadata (setup.py) ... \u001b[?25ldone\n\u001b[?25hRequirement already satisfied: jieba in /opt/conda/lib/python3.7/site-packages (from ktrain) (0.42.1)\nCollecting cchardet\n  Downloading cchardet-2.1.7-cp37-cp37m-manylinux2010_x86_64.whl (263 kB)\n\u001b[2K     \u001b[90m━━━━━━━━━━━━━━━━━━━━━━━━━━━━━━━━━━━━━━\u001b[0m \u001b[32m263.7/263.7 kB\u001b[0m \u001b[31m15.1 MB/s\u001b[0m eta \u001b[36m0:00:00\u001b[0m\n\u001b[?25hRequirement already satisfied: chardet in /opt/conda/lib/python3.7/site-packages (from ktrain) (5.0.0)\nCollecting syntok>1.3.3\n  Downloading syntok-1.4.4-py3-none-any.whl (24 kB)\nRequirement already satisfied: transformers>=4.17.0 in /opt/conda/lib/python3.7/site-packages (from ktrain) (4.20.1)\nRequirement already satisfied: sentencepiece in /opt/conda/lib/python3.7/site-packages (from ktrain) (0.1.97)\nCollecting keras_bert>=0.86.0\n  Downloading keras-bert-0.89.0.tar.gz (25 kB)\n  Preparing metadata (setup.py) ... \u001b[?25ldone\n\u001b[?25hCollecting whoosh\n  Downloading Whoosh-2.7.4-py2.py3-none-any.whl (468 kB)\n\u001b[2K     \u001b[90m━━━━━━━━━━━━━━━━━━━━━━━━━━━━━━━━━━━━━━\u001b[0m \u001b[32m468.8/468.8 kB\u001b[0m \u001b[31m26.2 MB/s\u001b[0m eta \u001b[36m0:00:00\u001b[0m\n\u001b[?25hRequirement already satisfied: numpy in /opt/conda/lib/python3.7/site-packages (from keras_bert>=0.86.0->ktrain) (1.21.6)\nCollecting keras-transformer==0.40.0\n  Downloading keras-transformer-0.40.0.tar.gz (9.7 kB)\n  Preparing metadata (setup.py) ... \u001b[?25ldone\n\u001b[?25hCollecting keras-pos-embd==0.13.0\n  Downloading keras-pos-embd-0.13.0.tar.gz (5.6 kB)\n  Preparing metadata (setup.py) ... \u001b[?25ldone\n\u001b[?25hCollecting keras-multi-head==0.29.0\n  Downloading keras-multi-head-0.29.0.tar.gz (13 kB)\n  Preparing metadata (setup.py) ... \u001b[?25ldone\n\u001b[?25hCollecting keras-layer-normalization==0.16.0\n  Downloading keras-layer-normalization-0.16.0.tar.gz (3.9 kB)\n  Preparing metadata (setup.py) ... \u001b[?25ldone\n\u001b[?25hCollecting keras-position-wise-feed-forward==0.8.0\n  Downloading keras-position-wise-feed-forward-0.8.0.tar.gz (4.1 kB)\n  Preparing metadata (setup.py) ... \u001b[?25ldone\n\u001b[?25hCollecting keras-embed-sim==0.10.0\n  Downloading keras-embed-sim-0.10.0.tar.gz (3.6 kB)\n  Preparing metadata (setup.py) ... \u001b[?25ldone\n\u001b[?25hCollecting keras-self-attention==0.51.0\n  Downloading keras-self-attention-0.51.0.tar.gz (11 kB)\n  Preparing metadata (setup.py) ... \u001b[?25ldone\n\u001b[?25hRequirement already satisfied: fonttools>=4.22.0 in /opt/conda/lib/python3.7/site-packages (from matplotlib>=3.0.0->ktrain) (4.33.3)\nRequirement already satisfied: cycler>=0.10 in /opt/conda/lib/python3.7/site-packages (from matplotlib>=3.0.0->ktrain) (0.11.0)\nRequirement already satisfied: pillow>=6.2.0 in /opt/conda/lib/python3.7/site-packages (from matplotlib>=3.0.0->ktrain) (9.1.1)\nRequirement already satisfied: pyparsing>=2.2.1 in /opt/conda/lib/python3.7/site-packages (from matplotlib>=3.0.0->ktrain) (3.0.9)\nRequirement already satisfied: kiwisolver>=1.0.1 in /opt/conda/lib/python3.7/site-packages (from matplotlib>=3.0.0->ktrain) (1.4.3)\nRequirement already satisfied: python-dateutil>=2.7 in /opt/conda/lib/python3.7/site-packages (from matplotlib>=3.0.0->ktrain) (2.8.2)\nRequirement already satisfied: pytz>=2017.3 in /opt/conda/lib/python3.7/site-packages (from pandas>=1.0.1->ktrain) (2022.1)\nRequirement already satisfied: regex>2016 in /opt/conda/lib/python3.7/site-packages (from syntok>1.3.3->ktrain) (2021.11.10)\nRequirement already satisfied: pyyaml>=5.1 in /opt/conda/lib/python3.7/site-packages (from transformers>=4.17.0->ktrain) (6.0)\nRequirement already satisfied: importlib-metadata in /opt/conda/lib/python3.7/site-packages (from transformers>=4.17.0->ktrain) (4.13.0)\nRequirement already satisfied: tokenizers!=0.11.3,<0.13,>=0.11.1 in /opt/conda/lib/python3.7/site-packages (from transformers>=4.17.0->ktrain) (0.12.1)\nRequirement already satisfied: tqdm>=4.27 in /opt/conda/lib/python3.7/site-packages (from transformers>=4.17.0->ktrain) (4.64.0)\nRequirement already satisfied: huggingface-hub<1.0,>=0.1.0 in /opt/conda/lib/python3.7/site-packages (from transformers>=4.17.0->ktrain) (0.10.1)\nRequirement already satisfied: filelock in /opt/conda/lib/python3.7/site-packages (from transformers>=4.17.0->ktrain) (3.7.1)\nRequirement already satisfied: six in /opt/conda/lib/python3.7/site-packages (from langdetect->ktrain) (1.15.0)\nRequirement already satisfied: urllib3<1.27,>=1.21.1 in /opt/conda/lib/python3.7/site-packages (from requests->ktrain) (1.26.13)\nRequirement already satisfied: charset-normalizer<3,>=2 in /opt/conda/lib/python3.7/site-packages (from requests->ktrain) (2.1.0)\nRequirement already satisfied: certifi>=2017.4.17 in /opt/conda/lib/python3.7/site-packages (from requests->ktrain) (2022.12.7)\nRequirement already satisfied: idna<4,>=2.5 in /opt/conda/lib/python3.7/site-packages (from requests->ktrain) (3.3)\nRequirement already satisfied: scipy>=1.1.0 in /opt/conda/lib/python3.7/site-packages (from scikit-learn->ktrain) (1.7.3)\nRequirement already satisfied: threadpoolctl>=2.0.0 in /opt/conda/lib/python3.7/site-packages (from scikit-learn->ktrain) (3.1.0)\nRequirement already satisfied: typing-extensions>=3.7.4.3 in /opt/conda/lib/python3.7/site-packages (from huggingface-hub<1.0,>=0.1.0->transformers>=4.17.0->ktrain) (4.1.1)\nRequirement already satisfied: zipp>=0.5 in /opt/conda/lib/python3.7/site-packages (from importlib-metadata->transformers>=4.17.0->ktrain) (3.8.0)\nBuilding wheels for collected packages: ktrain, keras_bert, keras-transformer, keras-embed-sim, keras-layer-normalization, keras-multi-head, keras-pos-embd, keras-position-wise-feed-forward, keras-self-attention, langdetect\n  Building wheel for ktrain (setup.py) ... \u001b[?25ldone\n\u001b[?25h  Created wheel for ktrain: filename=ktrain-0.33.2-py3-none-any.whl size=25313841 sha256=144000544789054539448d2eac25e2ac0be49e854a47d7f0c43eb55914bc0501\n  Stored in directory: /root/.cache/pip/wheels/9c/e3/69/9942fefeb57744f93462fd91a8296f88f7dbf01aead3878282\n  Building wheel for keras_bert (setup.py) ... \u001b[?25ldone\n\u001b[?25h  Created wheel for keras_bert: filename=keras_bert-0.89.0-py3-none-any.whl size=33517 sha256=c56ff210172d20c2f211399b8cf79d1b99ddb64ea808b45160119138a0aa644b\n  Stored in directory: /root/.cache/pip/wheels/a4/e8/45/842b3a39831261aef9154b907eacbc4ac99499a99ae829b06f\n  Building wheel for keras-transformer (setup.py) ... \u001b[?25ldone\n\u001b[?25h  Created wheel for keras-transformer: filename=keras_transformer-0.40.0-py3-none-any.whl size=12305 sha256=83a2248010dd8bdd1525e44d92d5ccb4cd95bc5fc0e895870a0d26d2e087e2a0\n  Stored in directory: /root/.cache/pip/wheels/46/68/26/692ed21edd832833c3b0a0e21615bcacd99ca458b3f9ed571f\n  Building wheel for keras-embed-sim (setup.py) ... \u001b[?25ldone\n\u001b[?25h  Created wheel for keras-embed-sim: filename=keras_embed_sim-0.10.0-py3-none-any.whl size=3960 sha256=c3b6817dd5e203e52c834966f121db3fe39e6ecc12319bfdb7d9d375f6eef875\n  Stored in directory: /root/.cache/pip/wheels/81/67/b5/d847588d075895281e1cf5590f819bd4cf076a554872268bd5\n  Building wheel for keras-layer-normalization (setup.py) ... \u001b[?25ldone\n\u001b[?25h  Created wheel for keras-layer-normalization: filename=keras_layer_normalization-0.16.0-py3-none-any.whl size=4668 sha256=bd1d58c00c30ad502a509fbdba5345e86018fc3c5e5b57a5f673d1ee66ca181d\n  Stored in directory: /root/.cache/pip/wheels/85/5d/1c/2e619f594f69fbcf8bc20943b27d414871c409be053994813e\n  Building wheel for keras-multi-head (setup.py) ... \u001b[?25ldone\n\u001b[?25h  Created wheel for keras-multi-head: filename=keras_multi_head-0.29.0-py3-none-any.whl size=14993 sha256=616d3885f0e70b8e38e3fcdafdddc2fe20d7d2fbc32864e1821bab06935c1128\n  Stored in directory: /root/.cache/pip/wheels/86/aa/3c/9d15d24005179dae08ff291ce99c754b296347817d076fd9fb\n  Building wheel for keras-pos-embd (setup.py) ... \u001b[?25ldone\n\u001b[?25h  Created wheel for keras-pos-embd: filename=keras_pos_embd-0.13.0-py3-none-any.whl size=6962 sha256=c8e4a0c33b32806ecae93bc43c37caa38c9ec7de5cc1adfe13a73c88ae1ae48b\n  Stored in directory: /root/.cache/pip/wheels/8d/c1/a0/dc44fcf68c857b7ff6be9a97e675e5adf51022eff1169b042f\n  Building wheel for keras-position-wise-feed-forward (setup.py) ... \u001b[?25ldone\n\u001b[?25h  Created wheel for keras-position-wise-feed-forward: filename=keras_position_wise_feed_forward-0.8.0-py3-none-any.whl size=4983 sha256=683756b1b70087f0eac3ed3041b07a653ca42e074bb60fca22c134b88b1a22bc\n  Stored in directory: /root/.cache/pip/wheels/c2/75/6f/d42f6e051506f442daeba53ff1e2d21a5f20ef8c411610f2bb\n  Building wheel for keras-self-attention (setup.py) ... \u001b[?25ldone\n\u001b[?25h  Created wheel for keras-self-attention: filename=keras_self_attention-0.51.0-py3-none-any.whl size=18912 sha256=be13e02122ce7cbbd3ca4ac6775b3890aefdb22b6de704251218dd5f1f360a75\n  Stored in directory: /root/.cache/pip/wheels/95/b1/a8/5ee00cc137940b2f6fa198212e8f45d813d0e0d9c3a04035a3\n  Building wheel for langdetect (setup.py) ... \u001b[?25ldone\n\u001b[?25h  Created wheel for langdetect: filename=langdetect-1.0.9-py3-none-any.whl size=993242 sha256=3c5022bfeb06ac4b9c12c4507cd7aaeafc0180b7ade99a7bec4997d736777139\n  Stored in directory: /root/.cache/pip/wheels/c5/96/8a/f90c59ed25d75e50a8c10a1b1c2d4c402e4dacfa87f3aff36a\nSuccessfully built ktrain keras_bert keras-transformer keras-embed-sim keras-layer-normalization keras-multi-head keras-pos-embd keras-position-wise-feed-forward keras-self-attention langdetect\nInstalling collected packages: whoosh, cchardet, syntok, langdetect, keras-self-attention, keras-position-wise-feed-forward, keras-pos-embd, keras-layer-normalization, keras-embed-sim, keras-multi-head, keras-transformer, keras_bert, ktrain\nSuccessfully installed cchardet-2.1.7 keras-embed-sim-0.10.0 keras-layer-normalization-0.16.0 keras-multi-head-0.29.0 keras-pos-embd-0.13.0 keras-position-wise-feed-forward-0.8.0 keras-self-attention-0.51.0 keras-transformer-0.40.0 keras_bert-0.89.0 ktrain-0.33.2 langdetect-1.0.9 syntok-1.4.4 whoosh-2.7.4\n\u001b[33mWARNING: Running pip as the 'root' user can result in broken permissions and conflicting behaviour with the system package manager. It is recommended to use a virtual environment instead: https://pip.pypa.io/warnings/venv\u001b[0m\u001b[33m\n\u001b[0m",
          "output_type": "stream"
        }
      ]
    },
    {
      "cell_type": "code",
      "source": [
        "!pip install nltk"
      ],
      "metadata": {
        "execution": {
          "iopub.status.busy": "2023-02-24T18:07:08.350239Z",
          "iopub.execute_input": "2023-02-24T18:07:08.351147Z",
          "iopub.status.idle": "2023-02-24T18:07:18.320475Z",
          "shell.execute_reply.started": "2023-02-24T18:07:08.351105Z",
          "shell.execute_reply": "2023-02-24T18:07:18.319165Z"
        },
        "trusted": true,
        "id": "kU6GZRpanTnG",
        "outputId": "999b25c6-85d4-4ae8-d77e-1c61e0511e30"
      },
      "execution_count": null,
      "outputs": [
        {
          "name": "stdout",
          "text": "Requirement already satisfied: nltk in /opt/conda/lib/python3.7/site-packages (3.8.1)\nRequirement already satisfied: regex>=2021.8.3 in /opt/conda/lib/python3.7/site-packages (from nltk) (2021.11.10)\nRequirement already satisfied: joblib in /opt/conda/lib/python3.7/site-packages (from nltk) (1.0.1)\nRequirement already satisfied: click in /opt/conda/lib/python3.7/site-packages (from nltk) (8.1.3)\nRequirement already satisfied: tqdm in /opt/conda/lib/python3.7/site-packages (from nltk) (4.64.0)\nRequirement already satisfied: importlib-metadata in /opt/conda/lib/python3.7/site-packages (from click->nltk) (4.13.0)\nRequirement already satisfied: zipp>=0.5 in /opt/conda/lib/python3.7/site-packages (from importlib-metadata->click->nltk) (3.8.0)\nRequirement already satisfied: typing-extensions>=3.6.4 in /opt/conda/lib/python3.7/site-packages (from importlib-metadata->click->nltk) (4.1.1)\n\u001b[33mWARNING: Running pip as the 'root' user can result in broken permissions and conflicting behaviour with the system package manager. It is recommended to use a virtual environment instead: https://pip.pypa.io/warnings/venv\u001b[0m\u001b[33m\n\u001b[0m",
          "output_type": "stream"
        }
      ]
    },
    {
      "cell_type": "code",
      "source": [
        "import pandas as pd\n",
        "import numpy as np\n",
        "\n",
        "import ktrain\n",
        "from ktrain import text\n",
        "import nltk\n",
        "from sklearn.model_selection import train_test_split,KFold\n",
        "from sklearn.metrics import accuracy_score"
      ],
      "metadata": {
        "id": "8ZY3fS7mdn_J",
        "execution": {
          "iopub.status.busy": "2023-02-24T18:07:18.323535Z",
          "iopub.execute_input": "2023-02-24T18:07:18.324374Z",
          "iopub.status.idle": "2023-02-24T18:07:26.410304Z",
          "shell.execute_reply.started": "2023-02-24T18:07:18.324320Z",
          "shell.execute_reply": "2023-02-24T18:07:26.409059Z"
        },
        "trusted": true
      },
      "execution_count": null,
      "outputs": []
    },
    {
      "cell_type": "code",
      "source": [
        "from torch.utils.data import TensorDataset,RandomSampler,SequentialSampler\n",
        "from torch.utils.data import Dataset, DataLoader\n",
        "import torch.nn.functional as F\n",
        "from sklearn.preprocessing import LabelBinarizer\n",
        "from nltk.corpus import stopwords\n",
        "from nltk.stem.porter import PorterStemmer\n",
        "from wordcloud import WordCloud,STOPWORDS\n",
        "from nltk.stem import WordNetLemmatizer\n",
        "from nltk.tokenize import word_tokenize,sent_tokenize\n",
        "from bs4 import BeautifulSoup\n",
        "import spacy\n",
        "import re,string,unicodedata"
      ],
      "metadata": {
        "execution": {
          "iopub.status.busy": "2023-02-24T18:07:35.046732Z",
          "iopub.execute_input": "2023-02-24T18:07:35.047748Z",
          "iopub.status.idle": "2023-02-24T18:07:41.723665Z",
          "shell.execute_reply.started": "2023-02-24T18:07:35.047705Z",
          "shell.execute_reply": "2023-02-24T18:07:41.722458Z"
        },
        "trusted": true,
        "id": "vYSMmQEnnTnK"
      },
      "execution_count": null,
      "outputs": []
    },
    {
      "cell_type": "code",
      "source": [
        "path = '/kaggle/input/sexism-dataset/train_all_tasks.csv'\n",
        "\n",
        "data_train = pd.read_csv(path)"
      ],
      "metadata": {
        "id": "be3Ojf5PA0C8",
        "execution": {
          "iopub.status.busy": "2023-02-24T18:07:41.725631Z",
          "iopub.execute_input": "2023-02-24T18:07:41.726641Z",
          "iopub.status.idle": "2023-02-24T18:07:41.836828Z",
          "shell.execute_reply.started": "2023-02-24T18:07:41.726600Z",
          "shell.execute_reply": "2023-02-24T18:07:41.835755Z"
        },
        "trusted": true
      },
      "execution_count": null,
      "outputs": []
    },
    {
      "cell_type": "code",
      "source": [
        "path1 = '/kaggle/input/sexism-dataset/datasets/dev_task_b_entries.csv'\n",
        "\n",
        "data_test = pd.read_csv(path1)"
      ],
      "metadata": {
        "id": "wQ4IKvYPA77F",
        "execution": {
          "iopub.status.busy": "2023-02-24T18:07:41.838346Z",
          "iopub.execute_input": "2023-02-24T18:07:41.838744Z",
          "iopub.status.idle": "2023-02-24T18:07:41.856247Z",
          "shell.execute_reply.started": "2023-02-24T18:07:41.838703Z",
          "shell.execute_reply": "2023-02-24T18:07:41.855176Z"
        },
        "trusted": true
      },
      "execution_count": null,
      "outputs": []
    },
    {
      "cell_type": "code",
      "source": [
        "dftest=pd.read_csv('/kaggle/input/sexism-dataset/test_task_b_entries/test_task_b_entries.csv')# "
      ],
      "metadata": {
        "execution": {
          "iopub.status.busy": "2023-02-24T18:07:41.859155Z",
          "iopub.execute_input": "2023-02-24T18:07:41.859902Z",
          "iopub.status.idle": "2023-02-24T18:07:41.879360Z",
          "shell.execute_reply.started": "2023-02-24T18:07:41.859856Z",
          "shell.execute_reply": "2023-02-24T18:07:41.878184Z"
        },
        "trusted": true,
        "id": "IJNpPr2nnTnP"
      },
      "execution_count": null,
      "outputs": []
    },
    {
      "cell_type": "code",
      "source": [
        "data_train"
      ],
      "metadata": {
        "id": "XOTularLAVLZ",
        "outputId": "5e1997db-36ad-4656-9ff7-3edf0ae87b66",
        "execution": {
          "iopub.status.busy": "2023-02-24T18:07:41.881080Z",
          "iopub.execute_input": "2023-02-24T18:07:41.881482Z",
          "iopub.status.idle": "2023-02-24T18:07:41.907997Z",
          "shell.execute_reply.started": "2023-02-24T18:07:41.881442Z",
          "shell.execute_reply": "2023-02-24T18:07:41.906941Z"
        },
        "trusted": true
      },
      "execution_count": null,
      "outputs": [
        {
          "execution_count": 8,
          "output_type": "execute_result",
          "data": {
            "text/plain": "                      rewire_id  \\\n0       sexism2022_english-7358   \n1       sexism2022_english-2367   \n2       sexism2022_english-3073   \n3      sexism2022_english-14895   \n4       sexism2022_english-4118   \n...                         ...   \n13995  sexism2022_english-14185   \n13996  sexism2022_english-18629   \n13997   sexism2022_english-3320   \n13998  sexism2022_english-13309   \n13999  sexism2022_english-12402   \n\n                                                    text label_sexist  \\\n0                  Damn, this writing was pretty chaotic   not sexist   \n1      Yeah, and apparently a bunch of misogynistic v...   not sexist   \n2           How the FUCK is this woman still an MP!!!???   not sexist   \n3      Understand. Know you're right. At same time I ...   not sexist   \n4         Surprized they didn't stop and rape some women   not sexist   \n...                                                  ...          ...   \n13995  complexes like the 'nice chicks' that go after...       sexist   \n13996  \"GRAPHIC Germany - Muslim \"refugee\" stabbing h...   not sexist   \n13997  Lol I imagine there would be simps that are li...   not sexist   \n13998  It's not, the girls I go on dates with don't k...   not sexist   \n13999  How can he be an incel? He does have a girlfri...   not sexist   \n\n      label_category             label_vector  \n0               none                     none  \n1               none                     none  \n2               none                     none  \n3               none                     none  \n4               none                     none  \n...              ...                      ...  \n13995  2. derogation  2.1 descriptive attacks  \n13996           none                     none  \n13997           none                     none  \n13998           none                     none  \n13999           none                     none  \n\n[14000 rows x 5 columns]",
            "text/html": "<div>\n<style scoped>\n    .dataframe tbody tr th:only-of-type {\n        vertical-align: middle;\n    }\n\n    .dataframe tbody tr th {\n        vertical-align: top;\n    }\n\n    .dataframe thead th {\n        text-align: right;\n    }\n</style>\n<table border=\"1\" class=\"dataframe\">\n  <thead>\n    <tr style=\"text-align: right;\">\n      <th></th>\n      <th>rewire_id</th>\n      <th>text</th>\n      <th>label_sexist</th>\n      <th>label_category</th>\n      <th>label_vector</th>\n    </tr>\n  </thead>\n  <tbody>\n    <tr>\n      <th>0</th>\n      <td>sexism2022_english-7358</td>\n      <td>Damn, this writing was pretty chaotic</td>\n      <td>not sexist</td>\n      <td>none</td>\n      <td>none</td>\n    </tr>\n    <tr>\n      <th>1</th>\n      <td>sexism2022_english-2367</td>\n      <td>Yeah, and apparently a bunch of misogynistic v...</td>\n      <td>not sexist</td>\n      <td>none</td>\n      <td>none</td>\n    </tr>\n    <tr>\n      <th>2</th>\n      <td>sexism2022_english-3073</td>\n      <td>How the FUCK is this woman still an MP!!!???</td>\n      <td>not sexist</td>\n      <td>none</td>\n      <td>none</td>\n    </tr>\n    <tr>\n      <th>3</th>\n      <td>sexism2022_english-14895</td>\n      <td>Understand. Know you're right. At same time I ...</td>\n      <td>not sexist</td>\n      <td>none</td>\n      <td>none</td>\n    </tr>\n    <tr>\n      <th>4</th>\n      <td>sexism2022_english-4118</td>\n      <td>Surprized they didn't stop and rape some women</td>\n      <td>not sexist</td>\n      <td>none</td>\n      <td>none</td>\n    </tr>\n    <tr>\n      <th>...</th>\n      <td>...</td>\n      <td>...</td>\n      <td>...</td>\n      <td>...</td>\n      <td>...</td>\n    </tr>\n    <tr>\n      <th>13995</th>\n      <td>sexism2022_english-14185</td>\n      <td>complexes like the 'nice chicks' that go after...</td>\n      <td>sexist</td>\n      <td>2. derogation</td>\n      <td>2.1 descriptive attacks</td>\n    </tr>\n    <tr>\n      <th>13996</th>\n      <td>sexism2022_english-18629</td>\n      <td>\"GRAPHIC Germany - Muslim \"refugee\" stabbing h...</td>\n      <td>not sexist</td>\n      <td>none</td>\n      <td>none</td>\n    </tr>\n    <tr>\n      <th>13997</th>\n      <td>sexism2022_english-3320</td>\n      <td>Lol I imagine there would be simps that are li...</td>\n      <td>not sexist</td>\n      <td>none</td>\n      <td>none</td>\n    </tr>\n    <tr>\n      <th>13998</th>\n      <td>sexism2022_english-13309</td>\n      <td>It's not, the girls I go on dates with don't k...</td>\n      <td>not sexist</td>\n      <td>none</td>\n      <td>none</td>\n    </tr>\n    <tr>\n      <th>13999</th>\n      <td>sexism2022_english-12402</td>\n      <td>How can he be an incel? He does have a girlfri...</td>\n      <td>not sexist</td>\n      <td>none</td>\n      <td>none</td>\n    </tr>\n  </tbody>\n</table>\n<p>14000 rows × 5 columns</p>\n</div>"
          },
          "metadata": {}
        }
      ]
    },
    {
      "cell_type": "code",
      "source": [
        "data_test.head(2)"
      ],
      "metadata": {
        "id": "QPcXo2IPBIM1",
        "outputId": "99d45bf7-7945-4996-edf8-e7c7641923d9",
        "execution": {
          "iopub.status.busy": "2023-02-24T18:07:41.909870Z",
          "iopub.execute_input": "2023-02-24T18:07:41.910292Z",
          "iopub.status.idle": "2023-02-24T18:07:41.920009Z",
          "shell.execute_reply.started": "2023-02-24T18:07:41.910229Z",
          "shell.execute_reply": "2023-02-24T18:07:41.918740Z"
        },
        "trusted": true
      },
      "execution_count": null,
      "outputs": [
        {
          "execution_count": 9,
          "output_type": "execute_result",
          "data": {
            "text/plain": "                  rewire_id                                               text\n0    sexism2022_english-739  Every woman wants to be a model. It's codeword...\n1  sexism2022_english-10787  Poor dude hasn't realized you dont share emoti...",
            "text/html": "<div>\n<style scoped>\n    .dataframe tbody tr th:only-of-type {\n        vertical-align: middle;\n    }\n\n    .dataframe tbody tr th {\n        vertical-align: top;\n    }\n\n    .dataframe thead th {\n        text-align: right;\n    }\n</style>\n<table border=\"1\" class=\"dataframe\">\n  <thead>\n    <tr style=\"text-align: right;\">\n      <th></th>\n      <th>rewire_id</th>\n      <th>text</th>\n    </tr>\n  </thead>\n  <tbody>\n    <tr>\n      <th>0</th>\n      <td>sexism2022_english-739</td>\n      <td>Every woman wants to be a model. It's codeword...</td>\n    </tr>\n    <tr>\n      <th>1</th>\n      <td>sexism2022_english-10787</td>\n      <td>Poor dude hasn't realized you dont share emoti...</td>\n    </tr>\n  </tbody>\n</table>\n</div>"
          },
          "metadata": {}
        }
      ]
    },
    {
      "cell_type": "code",
      "source": [
        "data_train['label_category'].value_counts()"
      ],
      "metadata": {
        "id": "naJKnFOLB1oP",
        "outputId": "122f8634-9370-4bc8-a84a-368355017b52",
        "execution": {
          "iopub.status.busy": "2023-02-24T18:07:41.921840Z",
          "iopub.execute_input": "2023-02-24T18:07:41.922670Z",
          "iopub.status.idle": "2023-02-24T18:07:41.939107Z",
          "shell.execute_reply.started": "2023-02-24T18:07:41.922625Z",
          "shell.execute_reply": "2023-02-24T18:07:41.937929Z"
        },
        "trusted": true
      },
      "execution_count": null,
      "outputs": [
        {
          "execution_count": 10,
          "output_type": "execute_result",
          "data": {
            "text/plain": "none                                        10602\n2. derogation                                1590\n3. animosity                                 1165\n4. prejudiced discussions                     333\n1. threats, plans to harm and incitement      310\nName: label_category, dtype: int64"
          },
          "metadata": {}
        }
      ]
    },
    {
      "cell_type": "code",
      "source": [
        "index1 = data_train[ (data_train['label_category'] == 'none')  ].index\n",
        "data_train.drop(index1 , inplace=True)"
      ],
      "metadata": {
        "execution": {
          "iopub.status.busy": "2023-02-24T18:07:41.940939Z",
          "iopub.execute_input": "2023-02-24T18:07:41.941679Z",
          "iopub.status.idle": "2023-02-24T18:07:41.958208Z",
          "shell.execute_reply.started": "2023-02-24T18:07:41.941633Z",
          "shell.execute_reply": "2023-02-24T18:07:41.956955Z"
        },
        "trusted": true,
        "id": "7c0-w1Q7nTnX"
      },
      "execution_count": null,
      "outputs": []
    },
    {
      "cell_type": "code",
      "source": [
        "classes = ['1. threats, plans to harm and incitement','2. derogation','3. animosity','4. prejudiced discussions']"
      ],
      "metadata": {
        "id": "8GCcqvYSBOAA",
        "execution": {
          "iopub.status.busy": "2023-02-24T18:07:41.960107Z",
          "iopub.execute_input": "2023-02-24T18:07:41.960828Z",
          "iopub.status.idle": "2023-02-24T18:07:41.967046Z",
          "shell.execute_reply.started": "2023-02-24T18:07:41.960776Z",
          "shell.execute_reply": "2023-02-24T18:07:41.965833Z"
        },
        "trusted": true
      },
      "execution_count": null,
      "outputs": []
    },
    {
      "cell_type": "code",
      "source": [
        "data_train=data_train.drop('label_sexist', axis='columns')"
      ],
      "metadata": {
        "execution": {
          "iopub.status.busy": "2023-02-24T18:07:41.970905Z",
          "iopub.execute_input": "2023-02-24T18:07:41.971698Z",
          "iopub.status.idle": "2023-02-24T18:07:41.979003Z",
          "shell.execute_reply.started": "2023-02-24T18:07:41.971649Z",
          "shell.execute_reply": "2023-02-24T18:07:41.977507Z"
        },
        "trusted": true,
        "id": "a8fu_SIgnTnZ"
      },
      "execution_count": null,
      "outputs": []
    },
    {
      "cell_type": "code",
      "source": [
        "data_train=data_train.drop('label_vector', axis='columns')"
      ],
      "metadata": {
        "execution": {
          "iopub.status.busy": "2023-02-24T18:07:42.245493Z",
          "iopub.execute_input": "2023-02-24T18:07:42.245850Z",
          "iopub.status.idle": "2023-02-24T18:07:42.254268Z",
          "shell.execute_reply.started": "2023-02-24T18:07:42.245820Z",
          "shell.execute_reply": "2023-02-24T18:07:42.252577Z"
        },
        "trusted": true,
        "id": "7yWJ-uBtnTna"
      },
      "execution_count": null,
      "outputs": []
    },
    {
      "cell_type": "code",
      "source": [
        "data_train=data_train.drop('rewire_id', axis='columns')"
      ],
      "metadata": {
        "execution": {
          "iopub.status.busy": "2023-02-24T18:07:42.872537Z",
          "iopub.execute_input": "2023-02-24T18:07:42.872893Z",
          "iopub.status.idle": "2023-02-24T18:07:42.879210Z",
          "shell.execute_reply.started": "2023-02-24T18:07:42.872861Z",
          "shell.execute_reply": "2023-02-24T18:07:42.877902Z"
        },
        "trusted": true,
        "id": "YrG1qGCynTna"
      },
      "execution_count": null,
      "outputs": []
    },
    {
      "cell_type": "code",
      "source": [
        "data_train.head()"
      ],
      "metadata": {
        "execution": {
          "iopub.status.busy": "2023-02-24T18:07:43.461081Z",
          "iopub.execute_input": "2023-02-24T18:07:43.461476Z",
          "iopub.status.idle": "2023-02-24T18:07:43.473560Z",
          "shell.execute_reply.started": "2023-02-24T18:07:43.461441Z",
          "shell.execute_reply": "2023-02-24T18:07:43.472332Z"
        },
        "trusted": true,
        "id": "mDmiF3IinTnb",
        "outputId": "c76f2f28-53c9-434e-e4c1-aa42ed6c8870"
      },
      "execution_count": null,
      "outputs": [
        {
          "execution_count": 16,
          "output_type": "execute_result",
          "data": {
            "text/plain": "                                                 text  \\\n8   just the inside of your wallet: cash, bank car...   \n11  They get the initial chance because they are a...   \n17                    ugly chicks A pussy is a pussy.   \n18  fuck her off with a nine mm this is what you g...   \n19  How about I talk shit to an idiot like you? Ar...   \n\n                              label_category  \n8                              2. derogation  \n11                             2. derogation  \n17                             2. derogation  \n18  1. threats, plans to harm and incitement  \n19                              3. animosity  ",
            "text/html": "<div>\n<style scoped>\n    .dataframe tbody tr th:only-of-type {\n        vertical-align: middle;\n    }\n\n    .dataframe tbody tr th {\n        vertical-align: top;\n    }\n\n    .dataframe thead th {\n        text-align: right;\n    }\n</style>\n<table border=\"1\" class=\"dataframe\">\n  <thead>\n    <tr style=\"text-align: right;\">\n      <th></th>\n      <th>text</th>\n      <th>label_category</th>\n    </tr>\n  </thead>\n  <tbody>\n    <tr>\n      <th>8</th>\n      <td>just the inside of your wallet: cash, bank car...</td>\n      <td>2. derogation</td>\n    </tr>\n    <tr>\n      <th>11</th>\n      <td>They get the initial chance because they are a...</td>\n      <td>2. derogation</td>\n    </tr>\n    <tr>\n      <th>17</th>\n      <td>ugly chicks A pussy is a pussy.</td>\n      <td>2. derogation</td>\n    </tr>\n    <tr>\n      <th>18</th>\n      <td>fuck her off with a nine mm this is what you g...</td>\n      <td>1. threats, plans to harm and incitement</td>\n    </tr>\n    <tr>\n      <th>19</th>\n      <td>How about I talk shit to an idiot like you? Ar...</td>\n      <td>3. animosity</td>\n    </tr>\n  </tbody>\n</table>\n</div>"
          },
          "metadata": {}
        }
      ]
    },
    {
      "cell_type": "code",
      "source": [
        "data_train['label_category'].unique()"
      ],
      "metadata": {
        "execution": {
          "iopub.status.busy": "2023-02-24T18:07:44.040825Z",
          "iopub.execute_input": "2023-02-24T18:07:44.043524Z",
          "iopub.status.idle": "2023-02-24T18:07:44.052310Z",
          "shell.execute_reply.started": "2023-02-24T18:07:44.043482Z",
          "shell.execute_reply": "2023-02-24T18:07:44.051304Z"
        },
        "trusted": true,
        "id": "rNKr1pDcnTnb",
        "outputId": "da5651fe-274d-48d5-a54f-fd9b8d42ac9a"
      },
      "execution_count": null,
      "outputs": [
        {
          "execution_count": 17,
          "output_type": "execute_result",
          "data": {
            "text/plain": "array(['2. derogation', '1. threats, plans to harm and incitement',\n       '3. animosity', '4. prejudiced discussions'], dtype=object)"
          },
          "metadata": {}
        }
      ]
    },
    {
      "cell_type": "code",
      "source": [
        "# Import label encoder\n",
        "from sklearn import preprocessing\n",
        "\n",
        "# label_encoder object knows how to understand word labels.\n",
        "label_encoder = preprocessing.LabelEncoder()\n",
        "\n",
        "# Encode labels in column 'species'.\n",
        "data_train['label_category']= label_encoder.fit_transform(data_train['label_category'])\n",
        "\n",
        "data_train['label_category'].unique()\n"
      ],
      "metadata": {
        "execution": {
          "iopub.status.busy": "2023-02-24T18:07:44.658449Z",
          "iopub.execute_input": "2023-02-24T18:07:44.658821Z",
          "iopub.status.idle": "2023-02-24T18:07:44.670829Z",
          "shell.execute_reply.started": "2023-02-24T18:07:44.658788Z",
          "shell.execute_reply": "2023-02-24T18:07:44.669536Z"
        },
        "trusted": true,
        "id": "8xfM6NcHnTnc",
        "outputId": "0a424602-a824-4f27-fe98-f07bffbda34e"
      },
      "execution_count": null,
      "outputs": [
        {
          "execution_count": 18,
          "output_type": "execute_result",
          "data": {
            "text/plain": "array([1, 0, 2, 3])"
          },
          "metadata": {}
        }
      ]
    },
    {
      "cell_type": "code",
      "source": [
        "import re\n",
        "def clean_text(text):\n",
        "\n",
        "    text = re.sub(r\"@[A-Za-z0-9]+\", ' ', text)\n",
        "    text = re.sub(r\"https?://[A-Za-z0-9./]+\", ' ', text)\n",
        "    text = re.sub(r\"[^a-zA-z.!?'0-9]\", ' ', text)\n",
        "    text = re.sub('\\t', ' ',  text)\n",
        "    text = re.sub(r\" +\", ' ', text)\n",
        "    text=re.sub(r'[^\\w\\s]','',text)\n",
        "    text=text.replace(\"[URL]\",\"\")\n",
        "    text=text.replace(\"[USER]\",\"\")\n",
        "    text=re.sub(r\"[â€™ºðŸ‡˜Žµ±¤£‘Œ”œ]\",\"\",text)\n",
        "    return text"
      ],
      "metadata": {
        "id": "IQbq6lgV41O-",
        "execution": {
          "iopub.status.busy": "2023-02-24T18:07:45.454146Z",
          "iopub.execute_input": "2023-02-24T18:07:45.454894Z",
          "iopub.status.idle": "2023-02-24T18:07:45.461734Z",
          "shell.execute_reply.started": "2023-02-24T18:07:45.454853Z",
          "shell.execute_reply": "2023-02-24T18:07:45.460542Z"
        },
        "trusted": true
      },
      "execution_count": null,
      "outputs": []
    },
    {
      "cell_type": "code",
      "source": [
        "data_train['text']= data_train['text'].apply(clean_text)\n",
        "data_test['text']= data_test['text'].apply(clean_text)\n",
        "dftest['text']= dftest['text'].apply(clean_text)"
      ],
      "metadata": {
        "execution": {
          "iopub.status.busy": "2023-02-24T18:07:46.130018Z",
          "iopub.execute_input": "2023-02-24T18:07:46.130803Z",
          "iopub.status.idle": "2023-02-24T18:07:46.261852Z",
          "shell.execute_reply.started": "2023-02-24T18:07:46.130754Z",
          "shell.execute_reply": "2023-02-24T18:07:46.260872Z"
        },
        "trusted": true,
        "id": "-uPTgWrGnTne"
      },
      "execution_count": null,
      "outputs": []
    },
    {
      "cell_type": "code",
      "source": [
        "#Removing the square brackets\n",
        "def remove_between_square_brackets(text):\n",
        "    return re.sub('\\[[^]]*\\]', '', text)\n",
        "\n",
        "#Removing the noisy text\n",
        "def denoise_text(text):\n",
        "    \n",
        "    text = remove_between_square_brackets(text)\n",
        "    return text"
      ],
      "metadata": {
        "execution": {
          "iopub.status.busy": "2023-02-24T18:07:46.722868Z",
          "iopub.execute_input": "2023-02-24T18:07:46.726033Z",
          "iopub.status.idle": "2023-02-24T18:07:46.734546Z",
          "shell.execute_reply.started": "2023-02-24T18:07:46.725986Z",
          "shell.execute_reply": "2023-02-24T18:07:46.733185Z"
        },
        "trusted": true,
        "id": "d-G-ij1znTnf"
      },
      "execution_count": null,
      "outputs": []
    },
    {
      "cell_type": "code",
      "source": [
        "data_train['text']=data_train['text'].apply(denoise_text)\n",
        "data_test['text']= data_test['text'].apply(denoise_text)\n",
        "dftest['text']= dftest['text'].apply(denoise_text)"
      ],
      "metadata": {
        "execution": {
          "iopub.status.busy": "2023-02-24T18:07:47.265105Z",
          "iopub.execute_input": "2023-02-24T18:07:47.265473Z",
          "iopub.status.idle": "2023-02-24T18:07:47.279900Z",
          "shell.execute_reply.started": "2023-02-24T18:07:47.265440Z",
          "shell.execute_reply": "2023-02-24T18:07:47.278939Z"
        },
        "trusted": true,
        "id": "s_dpfEOynTng"
      },
      "execution_count": null,
      "outputs": []
    },
    {
      "cell_type": "code",
      "source": [
        "kf = KFold(n_splits=5, random_state=42, shuffle=True)"
      ],
      "metadata": {
        "execution": {
          "iopub.status.busy": "2023-02-24T18:07:47.861861Z",
          "iopub.execute_input": "2023-02-24T18:07:47.862347Z",
          "iopub.status.idle": "2023-02-24T18:07:47.868039Z",
          "shell.execute_reply.started": "2023-02-24T18:07:47.862246Z",
          "shell.execute_reply": "2023-02-24T18:07:47.866545Z"
        },
        "trusted": true,
        "id": "8g0kM85WnTnh"
      },
      "execution_count": null,
      "outputs": []
    },
    {
      "cell_type": "code",
      "source": [
        "models = []\n",
        "val_accs = []"
      ],
      "metadata": {
        "execution": {
          "iopub.status.busy": "2023-02-24T18:07:48.791992Z",
          "iopub.execute_input": "2023-02-24T18:07:48.793589Z",
          "iopub.status.idle": "2023-02-24T18:07:48.799358Z",
          "shell.execute_reply.started": "2023-02-24T18:07:48.793537Z",
          "shell.execute_reply": "2023-02-24T18:07:48.797935Z"
        },
        "trusted": true,
        "id": "GZ5W0hPPnTnh"
      },
      "execution_count": null,
      "outputs": []
    },
    {
      "cell_type": "code",
      "source": [
        "MODEL_NAME='roberta-base'#'microsoft/deberta-v3-base'"
      ],
      "metadata": {
        "execution": {
          "iopub.status.busy": "2023-02-24T18:07:49.608871Z",
          "iopub.execute_input": "2023-02-24T18:07:49.610351Z",
          "iopub.status.idle": "2023-02-24T18:07:49.615998Z",
          "shell.execute_reply.started": "2023-02-24T18:07:49.610282Z",
          "shell.execute_reply": "2023-02-24T18:07:49.614866Z"
        },
        "trusted": true,
        "id": "cilfnNPOnTni"
      },
      "execution_count": null,
      "outputs": []
    },
    {
      "cell_type": "code",
      "source": [
        "t  = text.Transformer(MODEL_NAME, maxlen=500,class_names=[0, 1,2,3])"
      ],
      "metadata": {
        "execution": {
          "iopub.status.busy": "2023-02-24T18:07:50.388111Z",
          "iopub.execute_input": "2023-02-24T18:07:50.388786Z",
          "iopub.status.idle": "2023-02-24T18:08:31.288784Z",
          "shell.execute_reply.started": "2023-02-24T18:07:50.388748Z",
          "shell.execute_reply": "2023-02-24T18:08:31.287691Z"
        },
        "trusted": true,
        "id": "IW4XH6SrnTnj",
        "outputId": "154c7b57-7bd6-40fe-e2d1-83e544232437",
        "colab": {
          "referenced_widgets": [
            "c4ad0b7779af4bf69b530422050fe964",
            "ce2b51e1f6e0429daae02dc8db58167d"
          ]
        }
      },
      "execution_count": null,
      "outputs": [
        {
          "output_type": "display_data",
          "data": {
            "text/plain": "Downloading:   0%|          | 0.00/481 [00:00<?, ?B/s]",
            "application/vnd.jupyter.widget-view+json": {
              "version_major": 2,
              "version_minor": 0,
              "model_id": "c4ad0b7779af4bf69b530422050fe964"
            }
          },
          "metadata": {}
        },
        {
          "output_type": "display_data",
          "data": {
            "text/plain": "Downloading:   0%|          | 0.00/627M [00:00<?, ?B/s]",
            "application/vnd.jupyter.widget-view+json": {
              "version_major": 2,
              "version_minor": 0,
              "model_id": "ce2b51e1f6e0429daae02dc8db58167d"
            }
          },
          "metadata": {}
        }
      ]
    },
    {
      "cell_type": "code",
      "source": [
        "def transformer_cv():\n",
        "    predictions,accs=[],[]\n",
        "    data = data_train[['text', 'label_category']]\n",
        "    for train_index, val_index in kf.split(data):\n",
        "        train,val=data.iloc[train_index],data.iloc[val_index]\n",
        "#         print(train)\n",
        "#         print(val)\n",
        "        x_train=train.text.tolist()\n",
        "        x_val=val.text.tolist()\n",
        "        y_train=train.label_vector.tolist()\n",
        "        y_val=val.label_vector.tolist()\n",
        "#         print(x_train)\n",
        "#         print(y_train)\n",
        "        trn = t.preprocess_train(x_train, y_train)\n",
        "        val = t.preprocess_test(x_val, y_val)\n",
        "        model = t.get_classifier()\n",
        "        learner = ktrain.get_learner(model, train_data=trn, batch_size=6)\n",
        "        learner.fit_onecycle(2e-5, 4)\n",
        "        predictor = ktrain.get_predictor(learner.model, t)\n",
        "        pred=predictor.predict(x_val)\n",
        "        acc=accuracy_score(y_val,pred)\n",
        "        print('acc',acc)\n",
        "        accs.append(acc)\n",
        "        models.append(learner.model)\n",
        "        val_acc = learner.validate(class_names=t.get_classes(), val_data=val)[1]\n",
        "        val_accs.append(val_acc)\n",
        "        \n",
        "    return accs,val_accs"
      ],
      "metadata": {
        "execution": {
          "iopub.status.busy": "2023-02-24T18:08:31.290844Z",
          "iopub.execute_input": "2023-02-24T18:08:31.291368Z",
          "iopub.status.idle": "2023-02-24T18:08:31.302431Z",
          "shell.execute_reply.started": "2023-02-24T18:08:31.291327Z",
          "shell.execute_reply": "2023-02-24T18:08:31.301118Z"
        },
        "trusted": true,
        "id": "KPakxNEnnTnk"
      },
      "execution_count": null,
      "outputs": []
    },
    {
      "cell_type": "code",
      "source": [
        "print( transformer_cv() )"
      ],
      "metadata": {
        "execution": {
          "iopub.status.busy": "2023-02-24T15:01:51.286093Z",
          "iopub.execute_input": "2023-02-24T15:01:51.286686Z",
          "iopub.status.idle": "2023-02-24T15:13:22.951905Z",
          "shell.execute_reply.started": "2023-02-24T15:01:51.286649Z",
          "shell.execute_reply": "2023-02-24T15:13:22.950793Z"
        },
        "trusted": true,
        "id": "ukalRLz3nTnm"
      },
      "execution_count": null,
      "outputs": []
    },
    {
      "cell_type": "code",
      "source": [
        "# get the best performing model and its validation accuracy\n",
        "best_model_idx = val_accs.index(max(val_accs)).any()\n",
        "best_model = models[1]\n",
        "best_val_acc = val_accs[best_model_idx]\n",
        "\n",
        "# save the best performing model\n",
        "predictor = ktrain.get_predictor(best_model, preproc=t)\n",
        "predictor.get_classes()\n",
        "predictor.save('roberta')"
      ],
      "metadata": {
        "execution": {
          "iopub.status.busy": "2023-02-24T15:20:46.144586Z",
          "iopub.execute_input": "2023-02-24T15:20:46.144967Z",
          "iopub.status.idle": "2023-02-24T15:20:47.084961Z",
          "shell.execute_reply.started": "2023-02-24T15:20:46.144934Z",
          "shell.execute_reply": "2023-02-24T15:20:47.083878Z"
        },
        "trusted": true,
        "id": "mkap7rhAnTnn"
      },
      "execution_count": null,
      "outputs": []
    }
  ]
}